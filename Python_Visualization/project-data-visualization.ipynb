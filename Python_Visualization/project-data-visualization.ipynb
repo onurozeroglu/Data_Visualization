{
 "cells": [
  {
   "cell_type": "code",
   "execution_count": 1,
   "id": "8446adac",
   "metadata": {
    "_cell_guid": "b1076dfc-b9ad-4769-8c92-a6c4dae69d19",
    "_uuid": "8f2839f25d086af736a60e9eeb907d3b93b6e0e5",
    "execution": {
     "iopub.execute_input": "2023-01-01T23:18:07.183196Z",
     "iopub.status.busy": "2023-01-01T23:18:07.182783Z",
     "iopub.status.idle": "2023-01-01T23:18:07.201857Z",
     "shell.execute_reply": "2023-01-01T23:18:07.200913Z"
    },
    "papermill": {
     "duration": 0.030544,
     "end_time": "2023-01-01T23:18:07.203683",
     "exception": false,
     "start_time": "2023-01-01T23:18:07.173139",
     "status": "completed"
    },
    "tags": []
   },
   "outputs": [
    {
     "name": "stdout",
     "output_type": "stream",
     "text": [
      "/kaggle/input/nba-stats/NBA_stats.csv\n"
     ]
    }
   ],
   "source": [
    "# This Python 3 environment comes with many helpful analytics libraries installed\n",
    "# It is defined by the kaggle/python Docker image: https://github.com/kaggle/docker-python\n",
    "# For example, here's several helpful packages to load\n",
    "\n",
    "import numpy as np # linear algebra\n",
    "import pandas as pd # data processing, CSV file I/O (e.g. pd.read_csv)\n",
    "\n",
    "# Input data files are available in the read-only \"../input/\" directory\n",
    "# For example, running this (by clicking run or pressing Shift+Enter) will list all files under the input directory\n",
    "\n",
    "import os\n",
    "for dirname, _, filenames in os.walk('/kaggle/input'):\n",
    "    for filename in filenames:\n",
    "        print(os.path.join(dirname, filename))\n",
    "\n",
    "# You can write up to 20GB to the current directory (/kaggle/working/) that gets preserved as output when you create a version using \"Save & Run All\" \n",
    "# You can also write temporary files to /kaggle/temp/, but they won't be saved outside of the current session"
   ]
  },
  {
   "cell_type": "code",
   "execution_count": 2,
   "id": "e5edc203",
   "metadata": {
    "execution": {
     "iopub.execute_input": "2023-01-01T23:18:07.216921Z",
     "iopub.status.busy": "2023-01-01T23:18:07.216168Z",
     "iopub.status.idle": "2023-01-01T23:18:07.237512Z",
     "shell.execute_reply": "2023-01-01T23:18:07.236582Z"
    },
    "papermill": {
     "duration": 0.030011,
     "end_time": "2023-01-01T23:18:07.239428",
     "exception": false,
     "start_time": "2023-01-01T23:18:07.209417",
     "status": "completed"
    },
    "tags": []
   },
   "outputs": [],
   "source": [
    "df = pd.read_csv(\"/kaggle/input/nba-stats/NBA_stats.csv\")"
   ]
  },
  {
   "cell_type": "code",
   "execution_count": 3,
   "id": "2740ad23",
   "metadata": {
    "execution": {
     "iopub.execute_input": "2023-01-01T23:18:07.251730Z",
     "iopub.status.busy": "2023-01-01T23:18:07.251191Z",
     "iopub.status.idle": "2023-01-01T23:18:09.532950Z",
     "shell.execute_reply": "2023-01-01T23:18:09.531806Z"
    },
    "papermill": {
     "duration": 2.290357,
     "end_time": "2023-01-01T23:18:09.535436",
     "exception": false,
     "start_time": "2023-01-01T23:18:07.245079",
     "status": "completed"
    },
    "tags": []
   },
   "outputs": [],
   "source": [
    "import pandas as pd # data processing, CSV file I/O (e.g. pd.read_csv)\n",
    "import numpy as np\n",
    "import seaborn as sns \n",
    "import matplotlib.pyplot as plt \n",
    "from ipywidgets import interact, interactive, fixed, interact_manual\n",
    "import ipywidgets as widgets\n",
    "from sklearn.ensemble import RandomForestRegressor\n",
    "import plotly.express as px\n"
   ]
  },
  {
   "cell_type": "code",
   "execution_count": 4,
   "id": "719a2f7e",
   "metadata": {
    "execution": {
     "iopub.execute_input": "2023-01-01T23:18:09.548184Z",
     "iopub.status.busy": "2023-01-01T23:18:09.547856Z",
     "iopub.status.idle": "2023-01-01T23:18:09.558428Z",
     "shell.execute_reply": "2023-01-01T23:18:09.557590Z"
    },
    "papermill": {
     "duration": 0.019055,
     "end_time": "2023-01-01T23:18:09.560228",
     "exception": false,
     "start_time": "2023-01-01T23:18:09.541173",
     "status": "completed"
    },
    "tags": []
   },
   "outputs": [],
   "source": [
    "df['points_per_minutes'] = df['PTS']/df['Min']"
   ]
  },
  {
   "cell_type": "code",
   "execution_count": 5,
   "id": "6942d647",
   "metadata": {
    "execution": {
     "iopub.execute_input": "2023-01-01T23:18:09.573882Z",
     "iopub.status.busy": "2023-01-01T23:18:09.572932Z",
     "iopub.status.idle": "2023-01-01T23:18:09.578927Z",
     "shell.execute_reply": "2023-01-01T23:18:09.577945Z"
    },
    "papermill": {
     "duration": 0.014873,
     "end_time": "2023-01-01T23:18:09.580771",
     "exception": false,
     "start_time": "2023-01-01T23:18:09.565898",
     "status": "completed"
    },
    "tags": []
   },
   "outputs": [],
   "source": [
    "df['Average 3 point success rate'] = df['3P%'].mean()"
   ]
  },
  {
   "cell_type": "code",
   "execution_count": 6,
   "id": "61b0b1a6",
   "metadata": {
    "execution": {
     "iopub.execute_input": "2023-01-01T23:18:09.593815Z",
     "iopub.status.busy": "2023-01-01T23:18:09.593479Z",
     "iopub.status.idle": "2023-01-01T23:18:09.598864Z",
     "shell.execute_reply": "2023-01-01T23:18:09.597871Z"
    },
    "papermill": {
     "duration": 0.014523,
     "end_time": "2023-01-01T23:18:09.601169",
     "exception": false,
     "start_time": "2023-01-01T23:18:09.586646",
     "status": "completed"
    },
    "tags": []
   },
   "outputs": [],
   "source": [
    "df['Average Field Goal success rate'] = df['FG%'].mean()"
   ]
  },
  {
   "cell_type": "code",
   "execution_count": 7,
   "id": "ea98ed9b",
   "metadata": {
    "execution": {
     "iopub.execute_input": "2023-01-01T23:18:09.613890Z",
     "iopub.status.busy": "2023-01-01T23:18:09.613559Z",
     "iopub.status.idle": "2023-01-01T23:18:09.637664Z",
     "shell.execute_reply": "2023-01-01T23:18:09.636404Z"
    },
    "papermill": {
     "duration": 0.033024,
     "end_time": "2023-01-01T23:18:09.639935",
     "exception": false,
     "start_time": "2023-01-01T23:18:09.606911",
     "status": "completed"
    },
    "tags": []
   },
   "outputs": [],
   "source": [
    "def calculate_rating(row):\n",
    "    rating = 2 * row['W'] + row['PTS'] + 0.5 * row['AST'] + 0.2 * row['REB'] - 0.3 * row['TOV'] + 0.3 * row['STL'] + 2 * row['BLK']\n",
    "    return rating\n",
    "\n",
    "df['Overall_Rating'] = df.apply(calculate_rating, axis=1)"
   ]
  },
  {
   "cell_type": "code",
   "execution_count": 8,
   "id": "cdfa4162",
   "metadata": {
    "execution": {
     "iopub.execute_input": "2023-01-01T23:18:09.653305Z",
     "iopub.status.busy": "2023-01-01T23:18:09.652946Z",
     "iopub.status.idle": "2023-01-01T23:18:09.663183Z",
     "shell.execute_reply": "2023-01-01T23:18:09.662103Z"
    },
    "papermill": {
     "duration": 0.019476,
     "end_time": "2023-01-01T23:18:09.664922",
     "exception": false,
     "start_time": "2023-01-01T23:18:09.645446",
     "status": "completed"
    },
    "tags": []
   },
   "outputs": [],
   "source": [
    "age_categories = ['<20', '20-25', '25-30', '30-35', '>35']\n",
    "\n",
    "age_cat_type = pd.CategoricalDtype(categories=age_categories, ordered=True)\n",
    "\n",
    "df['Age_Category'] = df['Age'].apply(lambda x: '<20' if x < 20 else ('20-25' if x < 25 else ('25-30' if x < 30 else ('30-35' if x < 35 else '>35'))))\n",
    "\n",
    "df['Age_Category'] = df['Age_Category'].astype(age_cat_type)"
   ]
  },
  {
   "cell_type": "code",
   "execution_count": 9,
   "id": "34766055",
   "metadata": {
    "execution": {
     "iopub.execute_input": "2023-01-01T23:18:09.677683Z",
     "iopub.status.busy": "2023-01-01T23:18:09.677043Z",
     "iopub.status.idle": "2023-01-01T23:18:09.683189Z",
     "shell.execute_reply": "2023-01-01T23:18:09.682110Z"
    },
    "papermill": {
     "duration": 0.01476,
     "end_time": "2023-01-01T23:18:09.685197",
     "exception": false,
     "start_time": "2023-01-01T23:18:09.670437",
     "status": "completed"
    },
    "tags": []
   },
   "outputs": [],
   "source": [
    "def scatter(x_axis=\"Age\",y_axis=\"Min\"):\n",
    "    fig, ax = plt.subplots(figsize=(12, 6))\n",
    "    sns.scatterplot(x=x_axis, y=y_axis, data=df,ax=ax, hue='Age_Category')\n"
   ]
  },
  {
   "cell_type": "code",
   "execution_count": 10,
   "id": "0ab3ba05",
   "metadata": {
    "execution": {
     "iopub.execute_input": "2023-01-01T23:18:09.698099Z",
     "iopub.status.busy": "2023-01-01T23:18:09.697216Z",
     "iopub.status.idle": "2023-01-01T23:18:09.703221Z",
     "shell.execute_reply": "2023-01-01T23:18:09.702268Z"
    },
    "papermill": {
     "duration": 0.014313,
     "end_time": "2023-01-01T23:18:09.705055",
     "exception": false,
     "start_time": "2023-01-01T23:18:09.690742",
     "status": "completed"
    },
    "tags": []
   },
   "outputs": [],
   "source": [
    "def box_a(xaxis=\"Age\", yaxis=\"Min\"):\n",
    "    fig, ax = plt.subplots(figsize=(14, 8))\n",
    "    sns.boxplot(data=df, x=xaxis , y=yaxis , ax=ax)"
   ]
  },
  {
   "cell_type": "code",
   "execution_count": 11,
   "id": "5fddfc80",
   "metadata": {
    "execution": {
     "iopub.execute_input": "2023-01-01T23:18:09.718278Z",
     "iopub.status.busy": "2023-01-01T23:18:09.717954Z",
     "iopub.status.idle": "2023-01-01T23:18:09.724433Z",
     "shell.execute_reply": "2023-01-01T23:18:09.723463Z"
    },
    "papermill": {
     "duration": 0.01538,
     "end_time": "2023-01-01T23:18:09.726292",
     "exception": false,
     "start_time": "2023-01-01T23:18:09.710912",
     "status": "completed"
    },
    "tags": []
   },
   "outputs": [],
   "source": [
    "def dis_plot(xaxis=\"FG%\"):\n",
    "    fig, ax = plt.subplots(figsize=(14, 8))\n",
    "    sns.histplot(data=df, x=xaxis , bins = [0,5,10,15,20,25,30,35,40,45,50,55,60,65,70,75,80,85,90,95,100],color=['black'] )\n",
    "    ax.set_ylabel(\"Total Number\")\n",
    "    ax.set_xticks([0,5,10,15,20,25,30,35,40,45,50,55,60,65,70,75,80,85,90,95,100])\n",
    "    "
   ]
  },
  {
   "cell_type": "code",
   "execution_count": 12,
   "id": "54fdda32",
   "metadata": {
    "execution": {
     "iopub.execute_input": "2023-01-01T23:18:09.738704Z",
     "iopub.status.busy": "2023-01-01T23:18:09.738349Z",
     "iopub.status.idle": "2023-01-01T23:18:09.744028Z",
     "shell.execute_reply": "2023-01-01T23:18:09.743216Z"
    },
    "papermill": {
     "duration": 0.013656,
     "end_time": "2023-01-01T23:18:09.745697",
     "exception": false,
     "start_time": "2023-01-01T23:18:09.732041",
     "status": "completed"
    },
    "tags": []
   },
   "outputs": [],
   "source": [
    "def bar(y_axis=\"PTS\" , Listbyrank='5'):\n",
    "    df_sorted = df.sort_values(by=y_axis, ascending=False)\n",
    "    \n",
    "    if Listbyrank==\"\" or int(Listbyrank) < 1 :\n",
    "        Listbyrank = '1'\n",
    "        \n",
    "    if int(Listbyrank) > 7:\n",
    "        Listbyrank= '7'\n",
    "        \n",
    "    df_sorted = df_sorted.head(int(Listbyrank))\n",
    "    fig, ax = plt.subplots(figsize=(14, 8))\n",
    "    sns.barplot(data=df_sorted, x='Player' , y=y_axis)\n",
    "   "
   ]
  },
  {
   "cell_type": "code",
   "execution_count": 13,
   "id": "3aef0183",
   "metadata": {
    "execution": {
     "iopub.execute_input": "2023-01-01T23:18:09.757961Z",
     "iopub.status.busy": "2023-01-01T23:18:09.757634Z",
     "iopub.status.idle": "2023-01-01T23:18:09.763091Z",
     "shell.execute_reply": "2023-01-01T23:18:09.762304Z"
    },
    "papermill": {
     "duration": 0.013403,
     "end_time": "2023-01-01T23:18:09.764678",
     "exception": false,
     "start_time": "2023-01-01T23:18:09.751275",
     "status": "completed"
    },
    "tags": []
   },
   "outputs": [],
   "source": [
    "def line_chart(y_axis=\"PTS\" , Listbyrank='5'):\n",
    "    df_sorteddd = df.sort_values(by=y_axis, ascending=False)\n",
    "    \n",
    "    if Listbyrank==\"\" or int(Listbyrank) < 1 :\n",
    "        Listbyrank = '1'\n",
    "        \n",
    "    if int(Listbyrank) > 7:\n",
    "        Listbyrank= '7'\n",
    "        \n",
    "    df_sorteddd = df_sorteddd.head(int(Listbyrank))\n",
    "    fig, ax = plt.subplots(figsize=(14, 8))\n",
    "    sns.lineplot(data=df_sorteddd, x='Player' , y=y_axis)"
   ]
  },
  {
   "cell_type": "code",
   "execution_count": 14,
   "id": "fcad9f22",
   "metadata": {
    "execution": {
     "iopub.execute_input": "2023-01-01T23:18:09.776626Z",
     "iopub.status.busy": "2023-01-01T23:18:09.776338Z",
     "iopub.status.idle": "2023-01-01T23:18:09.781680Z",
     "shell.execute_reply": "2023-01-01T23:18:09.780755Z"
    },
    "papermill": {
     "duration": 0.013405,
     "end_time": "2023-01-01T23:18:09.783526",
     "exception": false,
     "start_time": "2023-01-01T23:18:09.770121",
     "status": "completed"
    },
    "tags": []
   },
   "outputs": [],
   "source": [
    "def wl_bar(Team=\"Player\",number=5):\n",
    "    \n",
    "    df_sorted = df.sort_values(\"W\", ascending=False)\n",
    "\n",
    "    \n",
    "    top_teams = df_sorted.head(number)\n",
    "\n",
    "    \n",
    "    top_teams.plot(x=Team, y=[\"W\", \"L\"], kind=\"bar\")"
   ]
  },
  {
   "cell_type": "code",
   "execution_count": 15,
   "id": "d76594fc",
   "metadata": {
    "execution": {
     "iopub.execute_input": "2023-01-01T23:18:09.795362Z",
     "iopub.status.busy": "2023-01-01T23:18:09.794896Z",
     "iopub.status.idle": "2023-01-01T23:18:09.819294Z",
     "shell.execute_reply": "2023-01-01T23:18:09.818222Z"
    },
    "papermill": {
     "duration": 0.032418,
     "end_time": "2023-01-01T23:18:09.821271",
     "exception": false,
     "start_time": "2023-01-01T23:18:09.788853",
     "status": "completed"
    },
    "tags": []
   },
   "outputs": [
    {
     "data": {
      "text/html": [
       "<div>\n",
       "<style scoped>\n",
       "    .dataframe tbody tr th:only-of-type {\n",
       "        vertical-align: middle;\n",
       "    }\n",
       "\n",
       "    .dataframe tbody tr th {\n",
       "        vertical-align: top;\n",
       "    }\n",
       "\n",
       "    .dataframe thead th {\n",
       "        text-align: right;\n",
       "    }\n",
       "</style>\n",
       "<table border=\"1\" class=\"dataframe\">\n",
       "  <thead>\n",
       "    <tr style=\"text-align: right;\">\n",
       "      <th></th>\n",
       "      <th>Player_rating</th>\n",
       "      <th>W</th>\n",
       "      <th>PTS</th>\n",
       "      <th>AST</th>\n",
       "      <th>REB</th>\n",
       "      <th>TOV</th>\n",
       "      <th>STL</th>\n",
       "      <th>BLK</th>\n",
       "    </tr>\n",
       "  </thead>\n",
       "  <tbody>\n",
       "    <tr>\n",
       "      <th>0</th>\n",
       "      <td>Luka Doncic-1325</td>\n",
       "      <td>19</td>\n",
       "      <td>1076</td>\n",
       "      <td>280</td>\n",
       "      <td>278</td>\n",
       "      <td>120</td>\n",
       "      <td>54</td>\n",
       "      <td>18</td>\n",
       "    </tr>\n",
       "    <tr>\n",
       "      <th>1</th>\n",
       "      <td>Kevin Durant-1274</td>\n",
       "      <td>22</td>\n",
       "      <td>1016</td>\n",
       "      <td>182</td>\n",
       "      <td>235</td>\n",
       "      <td>120</td>\n",
       "      <td>27</td>\n",
       "      <td>52</td>\n",
       "    </tr>\n",
       "    <tr>\n",
       "      <th>2</th>\n",
       "      <td>Jayson Tatum-1238</td>\n",
       "      <td>24</td>\n",
       "      <td>1026</td>\n",
       "      <td>136</td>\n",
       "      <td>266</td>\n",
       "      <td>88</td>\n",
       "      <td>39</td>\n",
       "      <td>29</td>\n",
       "    </tr>\n",
       "    <tr>\n",
       "      <th>3</th>\n",
       "      <td>Shai Gilgeous-Alexander-1174</td>\n",
       "      <td>13</td>\n",
       "      <td>976</td>\n",
       "      <td>180</td>\n",
       "      <td>151</td>\n",
       "      <td>105</td>\n",
       "      <td>53</td>\n",
       "      <td>34</td>\n",
       "    </tr>\n",
       "    <tr>\n",
       "      <th>4</th>\n",
       "      <td>Giannis Antetokounmpo-1123</td>\n",
       "      <td>18</td>\n",
       "      <td>919</td>\n",
       "      <td>150</td>\n",
       "      <td>335</td>\n",
       "      <td>110</td>\n",
       "      <td>25</td>\n",
       "      <td>26</td>\n",
       "    </tr>\n",
       "    <tr>\n",
       "      <th>5</th>\n",
       "      <td>Nikola Jokic-1073</td>\n",
       "      <td>21</td>\n",
       "      <td>798</td>\n",
       "      <td>291</td>\n",
       "      <td>336</td>\n",
       "      <td>109</td>\n",
       "      <td>45</td>\n",
       "      <td>20</td>\n",
       "    </tr>\n",
       "  </tbody>\n",
       "</table>\n",
       "</div>"
      ],
      "text/plain": [
       "                  Player_rating   W   PTS  AST  REB  TOV  STL  BLK\n",
       "0              Luka Doncic-1325  19  1076  280  278  120   54   18\n",
       "1             Kevin Durant-1274  22  1016  182  235  120   27   52\n",
       "2             Jayson Tatum-1238  24  1026  136  266   88   39   29\n",
       "3  Shai Gilgeous-Alexander-1174  13   976  180  151  105   53   34\n",
       "4    Giannis Antetokounmpo-1123  18   919  150  335  110   25   26\n",
       "5             Nikola Jokic-1073  21   798  291  336  109   45   20"
      ]
     },
     "execution_count": 15,
     "metadata": {},
     "output_type": "execute_result"
    }
   ],
   "source": [
    "df_sortedd = df.sort_values('Overall_Rating', ascending=False)\n",
    "\n",
    "\n",
    "top_6_players = df_sortedd.head(6).reset_index()\n",
    "top_6_players[\"Overall_Rating\"] = top_6_players[\"Overall_Rating\"].astype(int)\n",
    "top_6_players[\"Player_rating\"] = top_6_players['Player'] +\"-\"+ top_6_players[\"Overall_Rating\"].astype(str)\n",
    "top_6_players =  top_6_players[[\"Player_rating\",'W','PTS','AST','REB','TOV','STL','BLK']] \n",
    "top_6_players\n"
   ]
  },
  {
   "cell_type": "code",
   "execution_count": 16,
   "id": "bc35badf",
   "metadata": {
    "execution": {
     "iopub.execute_input": "2023-01-01T23:18:09.835126Z",
     "iopub.status.busy": "2023-01-01T23:18:09.834760Z",
     "iopub.status.idle": "2023-01-01T23:18:09.855927Z",
     "shell.execute_reply": "2023-01-01T23:18:09.855090Z"
    },
    "papermill": {
     "duration": 0.030449,
     "end_time": "2023-01-01T23:18:09.857634",
     "exception": false,
     "start_time": "2023-01-01T23:18:09.827185",
     "status": "completed"
    },
    "tags": []
   },
   "outputs": [
    {
     "data": {
      "text/plain": [
       "<Figure size 288x288 with 0 Axes>"
      ]
     },
     "metadata": {},
     "output_type": "display_data"
    }
   ],
   "source": [
    "\n",
    "target_row_index = 7\n",
    "\n",
    "\n",
    "plt.figure(figsize=plt.figaspect(1))\n",
    "\n",
    "values = top_6_players.iloc[0, 1:]\n",
    "values1 = top_6_players.iloc[1, 1:]\n",
    "values2 = top_6_players.iloc[2, 1:]\n",
    "values3 = top_6_players.iloc[3, 1:]\n",
    "values4 = top_6_players.iloc[4, 1:]\n",
    "values5 = top_6_players.iloc[5, 1:]\n",
    "labels =top_6_players.columns[1:]\n",
    "\n",
    "\n",
    "\n",
    "def make_autopct(values):\n",
    "    def my_autopct(pct):\n",
    "        total = sum(values)\n",
    "        val = int(round(pct*total/100.0))\n",
    "        return '{p:.2f}%  ({v:d})'.format(p=pct,v=val)\n",
    "    return my_autopct\n",
    "def make_autopct(values1):\n",
    "    def my_autopct(pct):\n",
    "        total = sum(values1)\n",
    "        val = int(round(pct*total/100.0))\n",
    "        return '{p:.2f}%  ({v:d})'.format(p=pct,v=val)\n",
    "    return my_autopct\n",
    "def make_autopct(values2):\n",
    "    def my_autopct(pct):\n",
    "        total = sum(values2)\n",
    "        val = int(round(pct*total/100.0))\n",
    "        return '{p:.2f}%  ({v:d})'.format(p=pct,v=val)\n",
    "    return my_autopct\n",
    "def make_autopct(values3):\n",
    "    def my_autopct(pct):\n",
    "        total = sum(values3)\n",
    "        val = int(round(pct*total/100.0))\n",
    "        return '{p:.2f}%  ({v:d})'.format(p=pct,v=val)\n",
    "    return my_autopct\n",
    "def make_autopct(values4):\n",
    "    def my_autopct(pct):\n",
    "        total = sum(values4)\n",
    "        val = int(round(pct*total/100.0))\n",
    "        return '{p:.2f}%  ({v:d})'.format(p=pct,v=val)\n",
    "    return my_autopct\n",
    "def make_autopct(values5):\n",
    "    def my_autopct(pct):\n",
    "        total = sum(values5)\n",
    "        val = int(round(pct*total/100.0))\n",
    "        return '{p:.2f}%  ({v:d})'.format(p=pct,v=val)\n",
    "    return my_autopct\n",
    "\n",
    "\n",
    "\n"
   ]
  },
  {
   "cell_type": "code",
   "execution_count": 17,
   "id": "62eff483",
   "metadata": {
    "execution": {
     "iopub.execute_input": "2023-01-01T23:18:09.869984Z",
     "iopub.status.busy": "2023-01-01T23:18:09.869698Z",
     "iopub.status.idle": "2023-01-01T23:18:10.194646Z",
     "shell.execute_reply": "2023-01-01T23:18:10.193520Z"
    },
    "papermill": {
     "duration": 0.334146,
     "end_time": "2023-01-01T23:18:10.197526",
     "exception": false,
     "start_time": "2023-01-01T23:18:09.863380",
     "status": "completed"
    },
    "tags": []
   },
   "outputs": [
    {
     "data": {
      "application/vnd.jupyter.widget-view+json": {
       "model_id": "d6c25560570c49aeacf06fb86f4baeac",
       "version_major": 2,
       "version_minor": 0
      },
      "text/plain": [
       "interactive(children=(Dropdown(description='x_axis', options=(('Age', 'Age'), ('Age_Category', 'Age_Category')…"
      ]
     },
     "metadata": {},
     "output_type": "display_data"
    }
   ],
   "source": [
    "_ = interact(scatter,\n",
    "    y_axis= widgets.Dropdown(options=[(\"Minutes\", \"Min\"), (\"Points\", \"PTS\")]),\n",
    "             x_axis= widgets.Dropdown(options=[(\"Age\", \"Age\"),(\"Age_Category\",\"Age_Category\"), (\"Minutes\", \"Min\"), (\"Points\", \"PTS\")])\n",
    "        )"
   ]
  },
  {
   "cell_type": "code",
   "execution_count": 18,
   "id": "c3059e31",
   "metadata": {
    "execution": {
     "iopub.execute_input": "2023-01-01T23:18:10.211678Z",
     "iopub.status.busy": "2023-01-01T23:18:10.211334Z",
     "iopub.status.idle": "2023-01-01T23:18:10.742891Z",
     "shell.execute_reply": "2023-01-01T23:18:10.741784Z"
    },
    "papermill": {
     "duration": 0.541293,
     "end_time": "2023-01-01T23:18:10.745706",
     "exception": false,
     "start_time": "2023-01-01T23:18:10.204413",
     "status": "completed"
    },
    "tags": []
   },
   "outputs": [
    {
     "data": {
      "application/vnd.jupyter.widget-view+json": {
       "model_id": "27bcfb58a13844e39c85a3ce91a22e03",
       "version_major": 2,
       "version_minor": 0
      },
      "text/plain": [
       "interactive(children=(Dropdown(description='xaxis', options=('Age', 'Age_Category'), value='Age'), Dropdown(de…"
      ]
     },
     "metadata": {},
     "output_type": "display_data"
    }
   ],
   "source": [
    "_ = interact(box_a,\n",
    "        xaxis= widgets.Dropdown(options=[\"Age\",\"Age_Category\"]),\n",
    "             yaxis= widgets.Dropdown(options=[(\"Minutes\", \"Min\"), (\"Points\", \"PTS\"), (\"Overall Rating\", \"Overall_Rating\"), (\"Played Games\", \"GP\"), (\"Wins\", \"W\"), (\"Losses\", \"L\"), (\"Field Goals Made\", \"FGM\"), (\"Field Goals Attempted\", \"FGA\"), (\"Field Goal Percentage\", \"FG%\"), (\"3 Points Made\", \"3PM\"), (\"3 Points Attempted\", \"3PA\"), (\"3 Point Percentage\", \"3P%\"), (\"Free Throws Made\", \"FTM\"), (\"Free Throws Attempted\", \"FTA\"), (\"Free Throw Percentage\", \"FT%\"), (\"Offensive Rebounds\", \"OREB\"), (\"Defensive Rebounds\", \"DREB\"), (\"Total Rebounds\", \"REB\"), (\"Assists\", \"AST\"), (\"Turnovers\", \"TOV\"), (\"Steals\", \"STL\"), (\"Blocks\", \"BLK\"), (\"Personal Fouls\", \"PF\"), (\"Double Doubles\", \"DD2\"), (\"Triple Doubles\", \"TD3\")])\n",
    "        )"
   ]
  },
  {
   "cell_type": "code",
   "execution_count": 19,
   "id": "54fd655a",
   "metadata": {
    "execution": {
     "iopub.execute_input": "2023-01-01T23:18:10.760000Z",
     "iopub.status.busy": "2023-01-01T23:18:10.759636Z",
     "iopub.status.idle": "2023-01-01T23:18:11.004847Z",
     "shell.execute_reply": "2023-01-01T23:18:11.004207Z"
    },
    "papermill": {
     "duration": 0.254189,
     "end_time": "2023-01-01T23:18:11.006619",
     "exception": false,
     "start_time": "2023-01-01T23:18:10.752430",
     "status": "completed"
    },
    "tags": []
   },
   "outputs": [
    {
     "data": {
      "application/vnd.jupyter.widget-view+json": {
       "model_id": "c5e3ab69d6de48eba9e6d16a7707adc9",
       "version_major": 2,
       "version_minor": 0
      },
      "text/plain": [
       "interactive(children=(Dropdown(description='xaxis', options=(('3 Point Success Rate', '3P%'), ('Field Goal Suc…"
      ]
     },
     "metadata": {},
     "output_type": "display_data"
    }
   ],
   "source": [
    "_ = interact(dis_plot,\n",
    "             xaxis= widgets.Dropdown(options=[(\"3 Point Success Rate\", \"3P%\"), (\"Field Goal Success Rate\", \"FG%\"),(\"Average 3 point success rate\",\"Average 3 point success rate\"),(\"Average Field Goal success rate\",\"Average Field Goal success rate\")]),\n",
    "             )"
   ]
  },
  {
   "cell_type": "code",
   "execution_count": 20,
   "id": "c7c62ece",
   "metadata": {
    "execution": {
     "iopub.execute_input": "2023-01-01T23:18:11.020959Z",
     "iopub.status.busy": "2023-01-01T23:18:11.020605Z",
     "iopub.status.idle": "2023-01-01T23:18:11.203539Z",
     "shell.execute_reply": "2023-01-01T23:18:11.202792Z"
    },
    "papermill": {
     "duration": 0.192569,
     "end_time": "2023-01-01T23:18:11.205649",
     "exception": false,
     "start_time": "2023-01-01T23:18:11.013080",
     "status": "completed"
    },
    "tags": []
   },
   "outputs": [
    {
     "data": {
      "application/vnd.jupyter.widget-view+json": {
       "model_id": "9dac0b221f1a45209aaa04f3acf10d39",
       "version_major": 2,
       "version_minor": 0
      },
      "text/plain": [
       "interactive(children=(Dropdown(description='y_axis', options=(('Points', 'PTS'), ('points_per_minutes', 'point…"
      ]
     },
     "metadata": {},
     "output_type": "display_data"
    }
   ],
   "source": [
    "_ = interact(bar,\n",
    "             y_axis=widgets.Dropdown(\n",
    "                 options = [(\"Points\", \"PTS\"),(\"points_per_minutes\",\"points_per_minutes\"),(\"Overall_Rating\",\"Overall_Rating\")]\n",
    "             ),\n",
    "             \n",
    "            )"
   ]
  },
  {
   "cell_type": "code",
   "execution_count": 21,
   "id": "6f13f5d7",
   "metadata": {
    "execution": {
     "iopub.execute_input": "2023-01-01T23:18:11.220222Z",
     "iopub.status.busy": "2023-01-01T23:18:11.219247Z",
     "iopub.status.idle": "2023-01-01T23:18:11.423314Z",
     "shell.execute_reply": "2023-01-01T23:18:11.422607Z"
    },
    "papermill": {
     "duration": 0.21326,
     "end_time": "2023-01-01T23:18:11.425274",
     "exception": false,
     "start_time": "2023-01-01T23:18:11.212014",
     "status": "completed"
    },
    "tags": []
   },
   "outputs": [
    {
     "data": {
      "application/vnd.jupyter.widget-view+json": {
       "model_id": "bdda039ee0624e879b2482b8afd0a6a5",
       "version_major": 2,
       "version_minor": 0
      },
      "text/plain": [
       "interactive(children=(Dropdown(description='y_axis', options=(('Points', 'PTS'), ('points_per_minutes', 'point…"
      ]
     },
     "metadata": {},
     "output_type": "display_data"
    }
   ],
   "source": [
    "_ = interact(line_chart,\n",
    "             y_axis=widgets.Dropdown(\n",
    "                 options=[(\"Points\", \"PTS\"), (\"points_per_minutes\", \"points_per_minutes\")]\n",
    "             ),\n",
    "            )"
   ]
  },
  {
   "cell_type": "code",
   "execution_count": 22,
   "id": "59bb20f2",
   "metadata": {
    "execution": {
     "iopub.execute_input": "2023-01-01T23:18:11.443813Z",
     "iopub.status.busy": "2023-01-01T23:18:11.443187Z",
     "iopub.status.idle": "2023-01-01T23:18:11.580453Z",
     "shell.execute_reply": "2023-01-01T23:18:11.579785Z"
    },
    "papermill": {
     "duration": 0.148923,
     "end_time": "2023-01-01T23:18:11.582625",
     "exception": false,
     "start_time": "2023-01-01T23:18:11.433702",
     "status": "completed"
    },
    "tags": []
   },
   "outputs": [
    {
     "data": {
      "application/vnd.jupyter.widget-view+json": {
       "model_id": "da84c9b3102e4723b26724faaccebe4f",
       "version_major": 2,
       "version_minor": 0
      },
      "text/plain": [
       "interactive(children=(Dropdown(description='Team', options=('Player', 'Team'), value='Player'), IntSlider(valu…"
      ]
     },
     "metadata": {},
     "output_type": "display_data"
    }
   ],
   "source": [
    "_ = interact(wl_bar,\n",
    "             Team=widgets.Dropdown(\n",
    "                 options = ['Player','Team']\n",
    "             ),\n",
    "             number = widgets.IntSlider(\n",
    "             value = 1,\n",
    "             min=1,\n",
    "                max=12 #number of len(tmp_x.columns)\n",
    "             )\n",
    "            )"
   ]
  },
  {
   "cell_type": "code",
   "execution_count": 23,
   "id": "20bc79b6",
   "metadata": {
    "execution": {
     "iopub.execute_input": "2023-01-01T23:18:11.598077Z",
     "iopub.status.busy": "2023-01-01T23:18:11.597443Z",
     "iopub.status.idle": "2023-01-01T23:18:12.268941Z",
     "shell.execute_reply": "2023-01-01T23:18:12.268096Z"
    },
    "papermill": {
     "duration": 0.681698,
     "end_time": "2023-01-01T23:18:12.271696",
     "exception": false,
     "start_time": "2023-01-01T23:18:11.589998",
     "status": "completed"
    },
    "tags": []
   },
   "outputs": [
    {
     "data": {
      "text/plain": [
       "Text(0.5, 1.0, '6th Player - Nikola Jokic-1073')"
      ]
     },
     "execution_count": 23,
     "metadata": {},
     "output_type": "execute_result"
    },
    {
     "data": {
      "image/png": "[encoded data removed]",
      "text/plain": [
       "<Figure size 864x720 with 6 Axes>"
      ]
     },
     "metadata": {},
     "output_type": "display_data"
    }
   ],
   "source": [
    "fig, ax = plt.subplots(nrows=2, ncols=3, figsize=(12,10))\n",
    "ax[0,0].pie(values, labels=labels, autopct=make_autopct(values))\n",
    "ax[0,0].set_title('1st Player - Luka Doncic-1325')\n",
    "ax[0,1].pie(values1, labels=labels, autopct=make_autopct(values1))\n",
    "ax[0,1].set_title('2nd Player - Kevin Durant-1274')\n",
    "ax[0,2].pie(values2, labels=labels, autopct=make_autopct(values2))\n",
    "ax[0,2].set_title('3th Player - Jayson Tatum-1238')\n",
    "ax[1,0].pie(values3, labels=labels, autopct=make_autopct(values3))\n",
    "ax[1,0].set_title('4th Player - Shai Gilgeous-Alexander-1174')\n",
    "ax[1,1].pie(values4, labels=labels, autopct=make_autopct(values4))\n",
    "ax[1,1].set_title('5th Player - Giannis Antetokounmpo-1123')\n",
    "ax[1,2].pie(values5, labels=labels, autopct=make_autopct(values5))\n",
    "ax[1,2].set_title('6th Player - Nikola Jokic-1073')"
   ]
  },
  {
   "cell_type": "code",
   "execution_count": null,
   "id": "3a21240e",
   "metadata": {
    "papermill": {
     "duration": 0.007783,
     "end_time": "2023-01-01T23:18:12.288145",
     "exception": false,
     "start_time": "2023-01-01T23:18:12.280362",
     "status": "completed"
    },
    "tags": []
   },
   "outputs": [],
   "source": []
  }
 ],
 "metadata": {
  "kernelspec": {
   "display_name": "Python 3",
   "language": "python",
   "name": "python3"
  },
  "language_info": {
   "codemirror_mode": {
    "name": "ipython",
    "version": 3
   },
   "file_extension": ".py",
   "mimetype": "text/x-python",
   "name": "python",
   "nbconvert_exporter": "python",
   "pygments_lexer": "ipython3",
   "version": "3.7.12"
  },
  "papermill": {
   "default_parameters": {},
   "duration": 12.914671,
   "end_time": "2023-01-01T23:18:13.122404",
   "environment_variables": {},
   "exception": null,
   "input_path": "__notebook__.ipynb",
   "output_path": "__notebook__.ipynb",
   "parameters": {},
   "start_time": "2023-01-01T23:18:00.207733",
   "version": "2.3.4"
  },
  "widgets": {
   "application/vnd.jupyter.widget-state+json": {
    "state": {
     "0473a495a1ef4213ac38f6ef5be62991": {
      "model_module": "@jupyter-widgets/base",
      "model_module_version": "1.2.0",
      "model_name": "LayoutModel",
      "state": {
       "_model_module": "@jupyter-widgets/base",
       "_model_module_version": "1.2.0",
       "_model_name": "LayoutModel",
       "_view_count": null,
       "_view_module": "@jupyter-widgets/base",
       "_view_module_version": "1.2.0",
       "_view_name": "LayoutView",
       "align_content": null,
       "align_items": null,
       "align_self": null,
       "border": null,
       "bottom": null,
       "display": null,
       "flex": null,
       "flex_flow": null,
       "grid_area": null,
       "grid_auto_columns": null,
       "grid_auto_flow": null,
       "grid_auto_rows": null,
       "grid_column": null,
       "grid_gap": null,
       "grid_row": null,
       "grid_template_areas": null,
       "grid_template_columns": null,
       "grid_template_rows": null,
       "height": null,
       "justify_content": null,
       "justify_items": null,
       "left": null,
       "margin": null,
       "max_height": null,
       "max_width": null,
       "min_height": null,
       "min_width": null,
       "object_fit": null,
       "object_position": null,
       "order": null,
       "overflow": null,
       "overflow_x": null,
       "overflow_y": null,
       "padding": null,
       "right": null,
       "top": null,
       "visibility": null,
       "width": null
      }
     },
     "064edafbb91142279c6865c316fd3367": {
      "model_module": "@jupyter-widgets/base",
      "model_module_version": "1.2.0",
      "model_name": "LayoutModel",
      "state": {
       "_model_module": "@jupyter-widgets/base",
       "_model_module_version": "1.2.0",
       "_model_name": "LayoutModel",
       "_view_count": null,
       "_view_module": "@jupyter-widgets/base",
       "_view_module_version": "1.2.0",
       "_view_name": "LayoutView",
       "align_content": null,
       "align_items": null,
       "align_self": null,
       "border": null,
       "bottom": null,
       "display": null,
       "flex": null,
       "flex_flow": null,
       "grid_area": null,
       "grid_auto_columns": null,
       "grid_auto_flow": null,
       "grid_auto_rows": null,
       "grid_column": null,
       "grid_gap": null,
       "grid_row": null,
       "grid_template_areas": null,
       "grid_template_columns": null,
       "grid_template_rows": null,
       "height": null,
       "justify_content": null,
       "justify_items": null,
       "left": null,
       "margin": null,
       "max_height": null,
       "max_width": null,
       "min_height": null,
       "min_width": null,
       "object_fit": null,
       "object_position": null,
       "order": null,
       "overflow": null,
       "overflow_x": null,
       "overflow_y": null,
       "padding": null,
       "right": null,
       "top": null,
       "visibility": null,
       "width": null
      }
     },
     "07d98a7d1b7f4108801991662ad4a452": {
      "model_module": "@jupyter-widgets/base",
      "model_module_version": "1.2.0",
      "model_name": "LayoutModel",
      "state": {
       "_model_module": "@jupyter-widgets/base",
       "_model_module_version": "1.2.0",
       "_model_name": "LayoutModel",
       "_view_count": null,
       "_view_module": "@jupyter-widgets/base",
       "_view_module_version": "1.2.0",
       "_view_name": "LayoutView",
       "align_content": null,
       "align_items": null,
       "align_self": null,
       "border": null,
       "bottom": null,
       "display": null,
       "flex": null,
       "flex_flow": null,
       "grid_area": null,
       "grid_auto_columns": null,
       "grid_auto_flow": null,
       "grid_auto_rows": null,
       "grid_column": null,
       "grid_gap": null,
       "grid_row": null,
       "grid_template_areas": null,
       "grid_template_columns": null,
       "grid_template_rows": null,
       "height": null,
       "justify_content": null,
       "justify_items": null,
       "left": null,
       "margin": null,
       "max_height": null,
       "max_width": null,
       "min_height": null,
       "min_width": null,
       "object_fit": null,
       "object_position": null,
       "order": null,
       "overflow": null,
       "overflow_x": null,
       "overflow_y": null,
       "padding": null,
       "right": null,
       "top": null,
       "visibility": null,
       "width": null
      }
     },
     "08ad1fe46aff46a5b84a2da0a81848cf": {
      "model_module": "@jupyter-widgets/controls",
      "model_module_version": "1.5.0",
      "model_name": "SliderStyleModel",
      "state": {
       "_model_module": "@jupyter-widgets/controls",
       "_model_module_version": "1.5.0",
       "_model_name": "SliderStyleModel",
       "_view_count": null,
       "_view_module": "@jupyter-widgets/base",
       "_view_module_version": "1.2.0",
       "_view_name": "StyleView",
       "description_width": "",
       "handle_color": null
      }
     },
     "10d2916bb8c34e6b94738f4afbcfe24f": {
      "model_module": "@jupyter-widgets/controls",
      "model_module_version": "1.5.0",
      "model_name": "DescriptionStyleModel",
      "state": {
       "_model_module": "@jupyter-widgets/controls",
       "_model_module_version": "1.5.0",
       "_model_name": "DescriptionStyleModel",
       "_view_count": null,
       "_view_module": "@jupyter-widgets/base",
       "_view_module_version": "1.2.0",
       "_view_name": "StyleView",
       "description_width": ""
      }
     },
     "10f9976e700c4b509ba8f3abe38b6841": {
      "model_module": "@jupyter-widgets/controls",
      "model_module_version": "1.5.0",
      "model_name": "DescriptionStyleModel",
      "state": {
       "_model_module": "@jupyter-widgets/controls",
       "_model_module_version": "1.5.0",
       "_model_name": "DescriptionStyleModel",
       "_view_count": null,
       "_view_module": "@jupyter-widgets/base",
       "_view_module_version": "1.2.0",
       "_view_name": "StyleView",
       "description_width": ""
      }
     },
     "1a06769f9f7d423b969c48717069a29b": {
      "model_module": "@jupyter-widgets/controls",
      "model_module_version": "1.5.0",
      "model_name": "DropdownModel",
      "state": {
       "_dom_classes": [],
       "_model_module": "@jupyter-widgets/controls",
       "_model_module_version": "1.5.0",
       "_model_name": "DropdownModel",
       "_options_labels": [
        "Age",
        "Age_Category",
        "Minutes",
        "Points"
       ],
       "_view_count": null,
       "_view_module": "@jupyter-widgets/controls",
       "_view_module_version": "1.5.0",
       "_view_name": "DropdownView",
       "description": "x_axis",
       "description_tooltip": null,
       "disabled": false,
       "index": 0,
       "layout": "IPY_MODEL_fdafe104191f40ea88a4538972f57ffa",
       "style": "IPY_MODEL_7795fe47db8b4a88951a6109b6866db0"
      }
     },
     "1cea9b5a71e8406faf72e8d2e74bb313": {
      "model_module": "@jupyter-widgets/base",
      "model_module_version": "1.2.0",
      "model_name": "LayoutModel",
      "state": {
       "_model_module": "@jupyter-widgets/base",
       "_model_module_version": "1.2.0",
       "_model_name": "LayoutModel",
       "_view_count": null,
       "_view_module": "@jupyter-widgets/base",
       "_view_module_version": "1.2.0",
       "_view_name": "LayoutView",
       "align_content": null,
       "align_items": null,
       "align_self": null,
       "border": null,
       "bottom": null,
       "display": null,
       "flex": null,
       "flex_flow": null,
       "grid_area": null,
       "grid_auto_columns": null,
       "grid_auto_flow": null,
       "grid_auto_rows": null,
       "grid_column": null,
       "grid_gap": null,
       "grid_row": null,
       "grid_template_areas": null,
       "grid_template_columns": null,
       "grid_template_rows": null,
       "height": null,
       "justify_content": null,
       "justify_items": null,
       "left": null,
       "margin": null,
       "max_height": null,
       "max_width": null,
       "min_height": null,
       "min_width": null,
       "object_fit": null,
       "object_position": null,
       "order": null,
       "overflow": null,
       "overflow_x": null,
       "overflow_y": null,
       "padding": null,
       "right": null,
       "top": null,
       "visibility": null,
       "width": null
      }
     },
     "1cead4675b1e476184d99bb5553acb07": {
      "model_module": "@jupyter-widgets/base",
      "model_module_version": "1.2.0",
      "model_name": "LayoutModel",
      "state": {
       "_model_module": "@jupyter-widgets/base",
       "_model_module_version": "1.2.0",
       "_model_name": "LayoutModel",
       "_view_count": null,
       "_view_module": "@jupyter-widgets/base",
       "_view_module_version": "1.2.0",
       "_view_name": "LayoutView",
       "align_content": null,
       "align_items": null,
       "align_self": null,
       "border": null,
       "bottom": null,
       "display": null,
       "flex": null,
       "flex_flow": null,
       "grid_area": null,
       "grid_auto_columns": null,
       "grid_auto_flow": null,
       "grid_auto_rows": null,
       "grid_column": null,
       "grid_gap": null,
       "grid_row": null,
       "grid_template_areas": null,
       "grid_template_columns": null,
       "grid_template_rows": null,
       "height": null,
       "justify_content": null,
       "justify_items": null,
       "left": null,
       "margin": null,
       "max_height": null,
       "max_width": null,
       "min_height": null,
       "min_width": null,
       "object_fit": null,
       "object_position": null,
       "order": null,
       "overflow": null,
       "overflow_x": null,
       "overflow_y": null,
       "padding": null,
       "right": null,
       "top": null,
       "visibility": null,
       "width": null
      }
     },
     "1e0445aa854b4788bcf1a51896a1df96": {
      "model_module": "@jupyter-widgets/controls",
      "model_module_version": "1.5.0",
      "model_name": "DescriptionStyleModel",
      "state": {
       "_model_module": "@jupyter-widgets/controls",
       "_model_module_version": "1.5.0",
       "_model_name": "DescriptionStyleModel",
       "_view_count": null,
       "_view_module": "@jupyter-widgets/base",
       "_view_module_version": "1.2.0",
       "_view_name": "StyleView",
       "description_width": ""
      }
     },
     "27bcfb58a13844e39c85a3ce91a22e03": {
      "model_module": "@jupyter-widgets/controls",
      "model_module_version": "1.5.0",
      "model_name": "VBoxModel",
      "state": {
       "_dom_classes": [
        "widget-interact"
       ],
       "_model_module": "@jupyter-widgets/controls",
       "_model_module_version": "1.5.0",
       "_model_name": "VBoxModel",
       "_view_count": null,
       "_view_module": "@jupyter-widgets/controls",
       "_view_module_version": "1.5.0",
       "_view_name": "VBoxView",
       "box_style": "",
       "children": [
        "IPY_MODEL_402b057ede3445928dc018ca6771b032",
        "IPY_MODEL_b10b3a8822104eae9db1201950bba2ef",
        "IPY_MODEL_901c36ce33024eea9112d26d6a57c2d1"
       ],
       "layout": "IPY_MODEL_1cea9b5a71e8406faf72e8d2e74bb313"
      }
     },
     "35979316d28842ae9e1631b0f8bd7cb8": {
      "model_module": "@jupyter-widgets/base",
      "model_module_version": "1.2.0",
      "model_name": "LayoutModel",
      "state": {
       "_model_module": "@jupyter-widgets/base",
       "_model_module_version": "1.2.0",
       "_model_name": "LayoutModel",
       "_view_count": null,
       "_view_module": "@jupyter-widgets/base",
       "_view_module_version": "1.2.0",
       "_view_name": "LayoutView",
       "align_content": null,
       "align_items": null,
       "align_self": null,
       "border": null,
       "bottom": null,
       "display": null,
       "flex": null,
       "flex_flow": null,
       "grid_area": null,
       "grid_auto_columns": null,
       "grid_auto_flow": null,
       "grid_auto_rows": null,
       "grid_column": null,
       "grid_gap": null,
       "grid_row": null,
       "grid_template_areas": null,
       "grid_template_columns": null,
       "grid_template_rows": null,
       "height": null,
       "justify_content": null,
       "justify_items": null,
       "left": null,
       "margin": null,
       "max_height": null,
       "max_width": null,
       "min_height": null,
       "min_width": null,
       "object_fit": null,
       "object_position": null,
       "order": null,
       "overflow": null,
       "overflow_x": null,
       "overflow_y": null,
       "padding": null,
       "right": null,
       "top": null,
       "visibility": null,
       "width": null
      }
     },
     "3879dfbdcb76454790109e32827962ed": {
      "model_module": "@jupyter-widgets/base",
      "model_module_version": "1.2.0",
      "model_name": "LayoutModel",
      "state": {
       "_model_module": "@jupyter-widgets/base",
       "_model_module_version": "1.2.0",
       "_model_name": "LayoutModel",
       "_view_count": null,
       "_view_module": "@jupyter-widgets/base",
       "_view_module_version": "1.2.0",
       "_view_name": "LayoutView",
       "align_content": null,
       "align_items": null,
       "align_self": null,
       "border": null,
       "bottom": null,
       "display": null,
       "flex": null,
       "flex_flow": null,
       "grid_area": null,
       "grid_auto_columns": null,
       "grid_auto_flow": null,
       "grid_auto_rows": null,
       "grid_column": null,
       "grid_gap": null,
       "grid_row": null,
       "grid_template_areas": null,
       "grid_template_columns": null,
       "grid_template_rows": null,
       "height": null,
       "justify_content": null,
       "justify_items": null,
       "left": null,
       "margin": null,
       "max_height": null,
       "max_width": null,
       "min_height": null,
       "min_width": null,
       "object_fit": null,
       "object_position": null,
       "order": null,
       "overflow": null,
       "overflow_x": null,
       "overflow_y": null,
       "padding": null,
       "right": null,
       "top": null,
       "visibility": null,
       "width": null
      }
     },
     "38feff60b5c448269a0cb4f9a629f24e": {
      "model_module": "@jupyter-widgets/output",
      "model_module_version": "1.0.0",
      "model_name": "OutputModel",
      "state": {
       "_dom_classes": [],
       "_model_module": "@jupyter-widgets/output",
       "_model_module_version": "1.0.0",
       "_model_name": "OutputModel",
       "_view_count": null,
       "_view_module": "@jupyter-widgets/output",
       "_view_module_version": "1.0.0",
       "_view_name": "OutputView",
       "layout": "IPY_MODEL_eb7570857ec64eeea98b05493156d542",
       "msg_id": "",
       "outputs": [
        {
         "data": {
          "image/png": "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\n",
          "text/plain": "<Figure size 1008x576 with 1 Axes>"
         },
         "metadata": {
          "needs_background": "light"
         },
         "output_type": "display_data"
        }
       ]
      }
     },
     "3efccd35a79c4ceebfecf00cfcdafeed": {
      "model_module": "@jupyter-widgets/base",
      "model_module_version": "1.2.0",
      "model_name": "LayoutModel",
      "state": {
       "_model_module": "@jupyter-widgets/base",
       "_model_module_version": "1.2.0",
       "_model_name": "LayoutModel",
       "_view_count": null,
       "_view_module": "@jupyter-widgets/base",
       "_view_module_version": "1.2.0",
       "_view_name": "LayoutView",
       "align_content": null,
       "align_items": null,
       "align_self": null,
       "border": null,
       "bottom": null,
       "display": null,
       "flex": null,
       "flex_flow": null,
       "grid_area": null,
       "grid_auto_columns": null,
       "grid_auto_flow": null,
       "grid_auto_rows": null,
       "grid_column": null,
       "grid_gap": null,
       "grid_row": null,
       "grid_template_areas": null,
       "grid_template_columns": null,
       "grid_template_rows": null,
       "height": null,
       "justify_content": null,
       "justify_items": null,
       "left": null,
       "margin": null,
       "max_height": null,
       "max_width": null,
       "min_height": null,
       "min_width": null,
       "object_fit": null,
       "object_position": null,
       "order": null,
       "overflow": null,
       "overflow_x": null,
       "overflow_y": null,
       "padding": null,
       "right": null,
       "top": null,
       "visibility": null,
       "width": null
      }
     },
     "3f20d9bc939a4befa6ec504cbc127104": {
      "model_module": "@jupyter-widgets/controls",
      "model_module_version": "1.5.0",
      "model_name": "DescriptionStyleModel",
      "state": {
       "_model_module": "@jupyter-widgets/controls",
       "_model_module_version": "1.5.0",
       "_model_name": "DescriptionStyleModel",
       "_view_count": null,
       "_view_module": "@jupyter-widgets/base",
       "_view_module_version": "1.2.0",
       "_view_name": "StyleView",
       "description_width": ""
      }
     },
     "402b057ede3445928dc018ca6771b032": {
      "model_module": "@jupyter-widgets/controls",
      "model_module_version": "1.5.0",
      "model_name": "DropdownModel",
      "state": {
       "_dom_classes": [],
       "_model_module": "@jupyter-widgets/controls",
       "_model_module_version": "1.5.0",
       "_model_name": "DropdownModel",
       "_options_labels": [
        "Age",
        "Age_Category"
       ],
       "_view_count": null,
       "_view_module": "@jupyter-widgets/controls",
       "_view_module_version": "1.5.0",
       "_view_name": "DropdownView",
       "description": "xaxis",
       "description_tooltip": null,
       "disabled": false,
       "index": 0,
       "layout": "IPY_MODEL_ada6955464fe41238290af4d8f8432fc",
       "style": "IPY_MODEL_be19ad91d2c244848f2b3d851e085c15"
      }
     },
     "49ed37b4cbca4852ae968293dacdccf7": {
      "model_module": "@jupyter-widgets/base",
      "model_module_version": "1.2.0",
      "model_name": "LayoutModel",
      "state": {
       "_model_module": "@jupyter-widgets/base",
       "_model_module_version": "1.2.0",
       "_model_name": "LayoutModel",
       "_view_count": null,
       "_view_module": "@jupyter-widgets/base",
       "_view_module_version": "1.2.0",
       "_view_name": "LayoutView",
       "align_content": null,
       "align_items": null,
       "align_self": null,
       "border": null,
       "bottom": null,
       "display": null,
       "flex": null,
       "flex_flow": null,
       "grid_area": null,
       "grid_auto_columns": null,
       "grid_auto_flow": null,
       "grid_auto_rows": null,
       "grid_column": null,
       "grid_gap": null,
       "grid_row": null,
       "grid_template_areas": null,
       "grid_template_columns": null,
       "grid_template_rows": null,
       "height": null,
       "justify_content": null,
       "justify_items": null,
       "left": null,
       "margin": null,
       "max_height": null,
       "max_width": null,
       "min_height": null,
       "min_width": null,
       "object_fit": null,
       "object_position": null,
       "order": null,
       "overflow": null,
       "overflow_x": null,
       "overflow_y": null,
       "padding": null,
       "right": null,
       "top": null,
       "visibility": null,
       "width": null
      }
     },
     "57f28314bf1e46d0822deda76742b7db": {
      "model_module": "@jupyter-widgets/base",
      "model_module_version": "1.2.0",
      "model_name": "LayoutModel",
      "state": {
       "_model_module": "@jupyter-widgets/base",
       "_model_module_version": "1.2.0",
       "_model_name": "LayoutModel",
       "_view_count": null,
       "_view_module": "@jupyter-widgets/base",
       "_view_module_version": "1.2.0",
       "_view_name": "LayoutView",
       "align_content": null,
       "align_items": null,
       "align_self": null,
       "border": null,
       "bottom": null,
       "display": null,
       "flex": null,
       "flex_flow": null,
       "grid_area": null,
       "grid_auto_columns": null,
       "grid_auto_flow": null,
       "grid_auto_rows": null,
       "grid_column": null,
       "grid_gap": null,
       "grid_row": null,
       "grid_template_areas": null,
       "grid_template_columns": null,
       "grid_template_rows": null,
       "height": null,
       "justify_content": null,
       "justify_items": null,
       "left": null,
       "margin": null,
       "max_height": null,
       "max_width": null,
       "min_height": null,
       "min_width": null,
       "object_fit": null,
       "object_position": null,
       "order": null,
       "overflow": null,
       "overflow_x": null,
       "overflow_y": null,
       "padding": null,
       "right": null,
       "top": null,
       "visibility": null,
       "width": null
      }
     },
     "5bbbbaa0988244ad8c4ffa60f6f4b5d9": {
      "model_module": "@jupyter-widgets/output",
      "model_module_version": "1.0.0",
      "model_name": "OutputModel",
      "state": {
       "_dom_classes": [],
       "_model_module": "@jupyter-widgets/output",
       "_model_module_version": "1.0.0",
       "_model_name": "OutputModel",
       "_view_count": null,
       "_view_module": "@jupyter-widgets/output",
       "_view_module_version": "1.0.0",
       "_view_name": "OutputView",
       "layout": "IPY_MODEL_0473a495a1ef4213ac38f6ef5be62991",
       "msg_id": "",
       "outputs": [
        {
         "data": {
          "image/png": "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\n",
          "text/plain": "<Figure size 1008x576 with 1 Axes>"
         },
         "metadata": {
          "needs_background": "light"
         },
         "output_type": "display_data"
        }
       ]
      }
     },
     "609c66aff0a24fb594c4730a42017bc5": {
      "model_module": "@jupyter-widgets/controls",
      "model_module_version": "1.5.0",
      "model_name": "DescriptionStyleModel",
      "state": {
       "_model_module": "@jupyter-widgets/controls",
       "_model_module_version": "1.5.0",
       "_model_name": "DescriptionStyleModel",
       "_view_count": null,
       "_view_module": "@jupyter-widgets/base",
       "_view_module_version": "1.2.0",
       "_view_name": "StyleView",
       "description_width": ""
      }
     },
     "63c1cb1b49b54e79ae87843210ae04cc": {
      "model_module": "@jupyter-widgets/base",
      "model_module_version": "1.2.0",
      "model_name": "LayoutModel",
      "state": {
       "_model_module": "@jupyter-widgets/base",
       "_model_module_version": "1.2.0",
       "_model_name": "LayoutModel",
       "_view_count": null,
       "_view_module": "@jupyter-widgets/base",
       "_view_module_version": "1.2.0",
       "_view_name": "LayoutView",
       "align_content": null,
       "align_items": null,
       "align_self": null,
       "border": null,
       "bottom": null,
       "display": null,
       "flex": null,
       "flex_flow": null,
       "grid_area": null,
       "grid_auto_columns": null,
       "grid_auto_flow": null,
       "grid_auto_rows": null,
       "grid_column": null,
       "grid_gap": null,
       "grid_row": null,
       "grid_template_areas": null,
       "grid_template_columns": null,
       "grid_template_rows": null,
       "height": null,
       "justify_content": null,
       "justify_items": null,
       "left": null,
       "margin": null,
       "max_height": null,
       "max_width": null,
       "min_height": null,
       "min_width": null,
       "object_fit": null,
       "object_position": null,
       "order": null,
       "overflow": null,
       "overflow_x": null,
       "overflow_y": null,
       "padding": null,
       "right": null,
       "top": null,
       "visibility": null,
       "width": null
      }
     },
     "65d0c012cc7d434393778488098f4209": {
      "model_module": "@jupyter-widgets/output",
      "model_module_version": "1.0.0",
      "model_name": "OutputModel",
      "state": {
       "_dom_classes": [],
       "_model_module": "@jupyter-widgets/output",
       "_model_module_version": "1.0.0",
       "_model_name": "OutputModel",
       "_view_count": null,
       "_view_module": "@jupyter-widgets/output",
       "_view_module_version": "1.0.0",
       "_view_name": "OutputView",
       "layout": "IPY_MODEL_cdc0713f017c4377b7a74691f67fbf99",
       "msg_id": "",
       "outputs": [
        {
         "data": {
          "image/png": "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\n",
          "text/plain": "<Figure size 1008x576 with 1 Axes>"
         },
         "metadata": {
          "needs_background": "light"
         },
         "output_type": "display_data"
        }
       ]
      }
     },
     "6c3457d6d47d404b9791e7b7cf842c88": {
      "model_module": "@jupyter-widgets/controls",
      "model_module_version": "1.5.0",
      "model_name": "DropdownModel",
      "state": {
       "_dom_classes": [],
       "_model_module": "@jupyter-widgets/controls",
       "_model_module_version": "1.5.0",
       "_model_name": "DropdownModel",
       "_options_labels": [
        "Minutes",
        "Points"
       ],
       "_view_count": null,
       "_view_module": "@jupyter-widgets/controls",
       "_view_module_version": "1.5.0",
       "_view_name": "DropdownView",
       "description": "y_axis",
       "description_tooltip": null,
       "disabled": false,
       "index": 0,
       "layout": "IPY_MODEL_b1e151f40f1243a4b2eb43d5b2b697f6",
       "style": "IPY_MODEL_f7a45d8958274ac5ad346fbb9c6f2fcc"
      }
     },
     "7795fe47db8b4a88951a6109b6866db0": {
      "model_module": "@jupyter-widgets/controls",
      "model_module_version": "1.5.0",
      "model_name": "DescriptionStyleModel",
      "state": {
       "_model_module": "@jupyter-widgets/controls",
       "_model_module_version": "1.5.0",
       "_model_name": "DescriptionStyleModel",
       "_view_count": null,
       "_view_module": "@jupyter-widgets/base",
       "_view_module_version": "1.2.0",
       "_view_name": "StyleView",
       "description_width": ""
      }
     },
     "78ab5e61a3e0494dbdcb0ff234386b0a": {
      "model_module": "@jupyter-widgets/base",
      "model_module_version": "1.2.0",
      "model_name": "LayoutModel",
      "state": {
       "_model_module": "@jupyter-widgets/base",
       "_model_module_version": "1.2.0",
       "_model_name": "LayoutModel",
       "_view_count": null,
       "_view_module": "@jupyter-widgets/base",
       "_view_module_version": "1.2.0",
       "_view_name": "LayoutView",
       "align_content": null,
       "align_items": null,
       "align_self": null,
       "border": null,
       "bottom": null,
       "display": null,
       "flex": null,
       "flex_flow": null,
       "grid_area": null,
       "grid_auto_columns": null,
       "grid_auto_flow": null,
       "grid_auto_rows": null,
       "grid_column": null,
       "grid_gap": null,
       "grid_row": null,
       "grid_template_areas": null,
       "grid_template_columns": null,
       "grid_template_rows": null,
       "height": null,
       "justify_content": null,
       "justify_items": null,
       "left": null,
       "margin": null,
       "max_height": null,
       "max_width": null,
       "min_height": null,
       "min_width": null,
       "object_fit": null,
       "object_position": null,
       "order": null,
       "overflow": null,
       "overflow_x": null,
       "overflow_y": null,
       "padding": null,
       "right": null,
       "top": null,
       "visibility": null,
       "width": null
      }
     },
     "7d25aa2cbca44b11846eef57c915f7f8": {
      "model_module": "@jupyter-widgets/output",
      "model_module_version": "1.0.0",
      "model_name": "OutputModel",
      "state": {
       "_dom_classes": [],
       "_model_module": "@jupyter-widgets/output",
       "_model_module_version": "1.0.0",
       "_model_name": "OutputModel",
       "_view_count": null,
       "_view_module": "@jupyter-widgets/output",
       "_view_module_version": "1.0.0",
       "_view_name": "OutputView",
       "layout": "IPY_MODEL_d2230e9a1d004c28a5ac4374fa2eb8f7",
       "msg_id": "",
       "outputs": [
        {
         "data": {
          "image/png": "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\n",
          "text/plain": "<Figure size 432x288 with 1 Axes>"
         },
         "metadata": {
          "needs_background": "light"
         },
         "output_type": "display_data"
        }
       ]
      }
     },
     "81b4f5a7852e4238ac68e010efee3bb4": {
      "model_module": "@jupyter-widgets/controls",
      "model_module_version": "1.5.0",
      "model_name": "IntSliderModel",
      "state": {
       "_dom_classes": [],
       "_model_module": "@jupyter-widgets/controls",
       "_model_module_version": "1.5.0",
       "_model_name": "IntSliderModel",
       "_view_count": null,
       "_view_module": "@jupyter-widgets/controls",
       "_view_module_version": "1.5.0",
       "_view_name": "IntSliderView",
       "continuous_update": true,
       "description": "number",
       "description_tooltip": null,
       "disabled": false,
       "layout": "IPY_MODEL_49ed37b4cbca4852ae968293dacdccf7",
       "max": 12,
       "min": 1,
       "orientation": "horizontal",
       "readout": true,
       "readout_format": "d",
       "step": 1,
       "style": "IPY_MODEL_08ad1fe46aff46a5b84a2da0a81848cf",
       "value": 1
      }
     },
     "85ccd97b3aa54b5bb286aeb7c58f258f": {
      "model_module": "@jupyter-widgets/controls",
      "model_module_version": "1.5.0",
      "model_name": "DescriptionStyleModel",
      "state": {
       "_model_module": "@jupyter-widgets/controls",
       "_model_module_version": "1.5.0",
       "_model_name": "DescriptionStyleModel",
       "_view_count": null,
       "_view_module": "@jupyter-widgets/base",
       "_view_module_version": "1.2.0",
       "_view_name": "StyleView",
       "description_width": ""
      }
     },
     "8a07f03a096a4353a282ad78b9de37cc": {
      "model_module": "@jupyter-widgets/controls",
      "model_module_version": "1.5.0",
      "model_name": "TextModel",
      "state": {
       "_dom_classes": [],
       "_model_module": "@jupyter-widgets/controls",
       "_model_module_version": "1.5.0",
       "_model_name": "TextModel",
       "_view_count": null,
       "_view_module": "@jupyter-widgets/controls",
       "_view_module_version": "1.5.0",
       "_view_name": "TextView",
       "continuous_update": true,
       "description": "Listbyrank",
       "description_tooltip": null,
       "disabled": false,
       "layout": "IPY_MODEL_3efccd35a79c4ceebfecf00cfcdafeed",
       "placeholder": "​",
       "style": "IPY_MODEL_3f20d9bc939a4befa6ec504cbc127104",
       "value": "5"
      }
     },
     "8d4b2efeda2d4675b2b44328658df442": {
      "model_module": "@jupyter-widgets/controls",
      "model_module_version": "1.5.0",
      "model_name": "DropdownModel",
      "state": {
       "_dom_classes": [],
       "_model_module": "@jupyter-widgets/controls",
       "_model_module_version": "1.5.0",
       "_model_name": "DropdownModel",
       "_options_labels": [
        "3 Point Success Rate",
        "Field Goal Success Rate",
        "Average 3 point success rate",
        "Average Field Goal success rate"
       ],
       "_view_count": null,
       "_view_module": "@jupyter-widgets/controls",
       "_view_module_version": "1.5.0",
       "_view_name": "DropdownView",
       "description": "xaxis",
       "description_tooltip": null,
       "disabled": false,
       "index": 0,
       "layout": "IPY_MODEL_3879dfbdcb76454790109e32827962ed",
       "style": "IPY_MODEL_10d2916bb8c34e6b94738f4afbcfe24f"
      }
     },
     "901c36ce33024eea9112d26d6a57c2d1": {
      "model_module": "@jupyter-widgets/output",
      "model_module_version": "1.0.0",
      "model_name": "OutputModel",
      "state": {
       "_dom_classes": [],
       "_model_module": "@jupyter-widgets/output",
       "_model_module_version": "1.0.0",
       "_model_name": "OutputModel",
       "_view_count": null,
       "_view_module": "@jupyter-widgets/output",
       "_view_module_version": "1.0.0",
       "_view_name": "OutputView",
       "layout": "IPY_MODEL_78ab5e61a3e0494dbdcb0ff234386b0a",
       "msg_id": "",
       "outputs": [
        {
         "data": {
          "image/png": "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\n",
          "text/plain": "<Figure size 1008x576 with 1 Axes>"
         },
         "metadata": {
          "needs_background": "light"
         },
         "output_type": "display_data"
        }
       ]
      }
     },
     "9b8d44358c144891ad0063c94328e08a": {
      "model_module": "@jupyter-widgets/output",
      "model_module_version": "1.0.0",
      "model_name": "OutputModel",
      "state": {
       "_dom_classes": [],
       "_model_module": "@jupyter-widgets/output",
       "_model_module_version": "1.0.0",
       "_model_name": "OutputModel",
       "_view_count": null,
       "_view_module": "@jupyter-widgets/output",
       "_view_module_version": "1.0.0",
       "_view_name": "OutputView",
       "layout": "IPY_MODEL_57f28314bf1e46d0822deda76742b7db",
       "msg_id": "",
       "outputs": [
        {
         "data": {
          "image/png": "iVBORw0KGgoAAAANSUhEUgAAAtoAAAFzCAYAAAAAFa6IAAAAOXRFWHRTb2Z0d2FyZQBNYXRwbG90bGliIHZlcnNpb24zLjUuMywgaHR0cHM6Ly9tYXRwbG90bGliLm9yZy/NK7nSAAAACXBIWXMAAAsTAAALEwEAmpwYAADe5UlEQVR4nOzdd3iUVfbA8e87PZNk0nuHQAgECFUQUBAFRFBXLFgRsWF37atrX9f1t67ioqKLiiJSrIiiqChgoffeA+m9TTJJpry/P14IxImK5H0zTLif5+HROWTmXBDJmTv3niPJsowgCIIgCIIgCOrS+XoBgiAIgiAIgtARiUJbEARBEARBEDQgCm1BEARBEARB0IAotAVBEARBEARBA6LQFgRBEARBEAQNiEJbEARBEARBEDRg8PUCtBAZGSmnpqb6ehmCIAiCIAhCB7d+/foyWZajWvu5Dllop6amsm7dOl8vQxAEQRAEQejgJEk69Fs/J46OCIIgCIIgCIIGRKEtCIIgCIIgCBoQhbYgCIIgCIIgaKBDntEWBEEQBEEQfpvT6SQvL4+GhgZfL8VvWCwWEhMTMRqNJ/wcUWgLgiAIgiCcZvLy8ggODiY1NRVJkny9nFOeLMuUl5eTl5dHWlraCT9PHB0RBEEQBEE4zTQ0NBARESGK7BMkSRIRERF/+hMAUWgLgiAIgiCchkSR/eeczO+XKLQFQRAEQRAEQQOi0BYEQRAEQRAA+Oyzz5AkiV27dqn+2v/+97/p1q0b2dnZDBgwgPfee+93v37WrFkUFBSovo72JAptQRBOSG1TLZtLN7OmcA3FdcW+Xo4gCIKggblz5zJ06FDmzp2r6uvOmDGDb7/9ljVr1rBp0yaWLl2KLMu/+5z2KLRdLpemry8KbUEQ/lBJfQnPrHyGaxZfw5RvpnDdV9exp3KPr5clCIIgqMhut/PTTz/x1ltvMW/ePAA8Hg+33XYb3bp147zzzmPs2LF89NFHAKxfv56zzz6bfv36MXr0aAoLC3/ztZ977jlef/11bDYbADabjUmTJgHw9NNPM2DAALKysrj55puRZZmPPvqIdevWcfXVV5OdnY3D4fjNfGvXrqVXr15kZ2fzwAMPkJWVBSgXPidPnkzPnj3p06cPP/zwA6AU8BdeeCHnnHMOI0eO5LrrruOzzz5rXuvVV1/NwoULVfk9FYW2IAh/aHPJZr7K+ar5cUFdAW9vfRun2+nDVQmCIAhqWrhwIWPGjKFr165ERESwfv16PvnkE3JyctixYwezZ89m5cqVgNKH+8477+Sjjz5i/fr13HDDDTz66KOtvm5NTQ21tbV06tSp1Z+/4447WLt2Ldu2bcPhcPDFF19w6aWX0r9/f+bMmcOmTZswGAy/mW/y5Mm88cYbbNq0Cb1e3/y6r776KpIksXXrVubOncukSZOau4Zs2LCBjz76iOXLlzNlyhRmzZoFQHV1Nb/88gsXXHCBKr+noo+28NtcTqgtAIMZgmN9vRrBh/ZX7/eKrSteR01TDREBET5YkSAIgqC2uXPncvfddwMwceJE5s6di8vl4rLLLkOn0xEbG8uIESMA2L17N9u2beO8884DwO12ExcXd1J5f/jhB1544QXq6+upqKigR48ejB8/vsXX/Fa+qqoqamtrGTx4MABXXXUVX3zxBQA//fQTd955JwDdunUjJSWFPXuUT2PPO+88wsPDATj77LO57bbbKC0t5eOPP2bChAkYDOqUyKLQFlpXeQh+egk2zoaAUBj9T8gcD8YAX69M8IGMsAyv2NCEodjMNh+sRhAEQVBbRUUF33//PVu3bkWSJNxuN5Ik8Ze//KXVr5dlmR49ejTvcP8em81GUFAQBw4c8NrVbmho4LbbbmPdunUkJSXx5JNPttqr+rfyVVVVnfgv8jiBgYEtHl933XW8//77zJs3j3feeeekXrM14uiI4M3jgbVvwfp3wOOCujL45CbI3+DrlQk+0ju6N1d2uxIJpYdot7BuXNv9Woy6Ex9DKwiCIJy6PvroI6699loOHTpETk4Oubm5pKWlER4ezscff4zH46G4uJhly5YBkJGRQWlpaYujJNu3b//N13/kkUe4/fbbqampAZTz4O+9915zUR0ZGYndbm8+/w0QHBxMbW3t7+YLDQ0lODiY1atXAzSfLQcYNmwYc+bMAWDPnj0cPnyYjAzvjSOA66+/npdffhmA7t27/6nfu98jdrQFb3WlsHmOd7xwE6QOafflCL4Xbgnnr/3+yoQuE2hwN5AcnEyYJczXyxIEQRBUMnfuXB566KEWsQkTJrBz504SExPp3r07SUlJ9O3bl5CQEEwmEx999BF33XUX1dXVuFwu7rnnHnr06NHq60+dOhW73c6AAQMwGo0YjUbuu+8+QkNDuemmm8jKyiI2NpYBAwY0P+f666/n1ltvJSAggJUrV/5mvrfeeoubbroJnU7H2WefTUhICAC33XYbU6dOpWfPnhgMBmbNmoXZbG51fTExMWRmZnLxxRer8xt6hPRHrVX8Uf/+/eV169b5ehn+q7EWZl8CeWtaxi99G7Im+GZNgiAIgiCoZufOnWRmZp7Q19rtdoKCgigvL2fgwIH8/PPPxMaeOne3jq4P4Pnnn6ewsJBp06b9qdeor6+nZ8+ebNiwoblQb01rv2+SJK2XZbl/a18vjo4I3szBcO4ToDcdi8X2hIRW/wwJgiAIgtCBjRs3juzsbIYNG8bf//73U6rIBvjyyy/Jzs4mKyuLH3/8kccee+xPPf+7774jMzOTO++883eL7JMhdrSF1skyFG+Dkl1gClQK7dAkX69KEARBEAQV/Jkd7T/j9ttv5+eff24Ru/vuu5k8ebLquXzhz+5oizPaQuskSSmuY3v6eiWCIAiCIPiJV1991ddLOKWIoyOCIAiCIAiCoAFRaAuCIAiCIAiCBkShLQiCIAiCIAgaEIW2IAinnAJ7ARuLN3Kw+iBuj9vXyxEEQRBOMVdffTUZGRlkZWVxww034HQ6AWWC5F133UV6ejq9evViwwbfDtsThbYgCKeUdUXrmPjFRK77+jou/fxSFu5fSJO7ydfLEgTVeBoasK9cSeGTT1Ly8ss4tm3z9ZIEwS80NTVRV1cHKIX2rl272Lp1Kw6Hg5kzZwLw1VdfsXfvXvbu3cubb77J1KlTfblkUWgLgnDqKK0v5eEfH6aysRKAJk8TT/7yJPur9vt4ZYKgnrpVq8idfANV8+ZTPuMNDl17HQ07dvh6WYJw0j7bmM+Q578n7eEvGfL893y2MV/V19+5cyf33XcfGRkZ7NmzB4CxY8ciSRKSJDFw4EDy8vIAWLhwIddddx2SJDFo0CCqqqooLCxUdT1/hii0BUE4ZZQ5yiiuL24Rk5EprPPdX5KCoCZ3fT1lM2a0iMkOB/ZVq3y0IkFom8825vPIJ1vJr3IgA/lVDh75ZGubi+26ujreeecdhg4dyk033UT37t3ZsmULffr0afF1TqeT2bNnM2bMGADy8/NJSjo29yMxMZH8fHUL/z9D9NEWBOGUEW4JJ8ISQXlDeYt4tDXaRysSTifOkhIcW7bgPJyLuWsXAnr2RK/ylDhkGbmh0Tve2EpMEPzA/y3ZjcPZ8i6Nw+nm/5bs5uI+CSf9unFxcfTq1YuZM2fSrVu33/y62267jbPOOothw4addC4tiR1tQdBC0Tb44Xn49BbY/RU4any9Ir8QExjDc8OeI8AQAIBO0vHggAdJD0338cqEjs5VVU3RM8+Sf8edlLzwArk33kTF7PeRj1ywUos+MJCIG6f8KqjHeuaZquYRhPZSUOX4U/ET9dFHH5GQkMAll1zC008/zaFDh7y+5qmnnqK0tJT//Oc/zbGEhARyc3ObH+fl5ZGQcPIFf1uJHW1BUFvpbnh3HDiUc8ZsngcXvgp9r/HtuvzE4LjBfDjuQwrqCgi3hJMWkoZJb/L1soQOrmnfPuzfftsiVvbGG9jOH4O5c2dVcwWdfTYJL79ExftzMISGEnb9JAKyslTNIQjtJT40gPxWiur40IA2ve6oUaMYNWoU5eXlvP/++1x00UVERkYyc+ZMUlNTmTlzJkuWLGHp0qXodMf2jS+88EKmT5/OxIkTWb16NSEhIcTFxbVpLW0hCm1BUFvhpmNF9lE/PAtdR0GQOALxRyRJIiUkhZSQFF8vRTiNeBz13kGnE09rxzzaSB8cjG3MGIJHjgSdDkmvVz2HILSXB0Zn8MgnW1scHwkw6nlgdIYqrx8REcHdd9/N3XffzZo1a9Af+f/l1ltvJSUlhcGDBwNwySWX8PjjjzN27FgWL15Meno6VquVd955R5V1nCxRaAuC2lrr++xxguxp/7UIv0mWZbaXbefbw99S56xjdOpoekf1FrvnpylTWhr60FDcVVXNsYDsbEyJ2n3kLBmNmr22ILSXo+ew/2/JbgqqHMSHBvDA6Iw2nc/+LQMHDmz+d5fL1erXSJLEq6++qnruk6VZoS1J0tvAOKBEluWsI7H/A8YDTcB+YLIsy1VHfu4RYArgBu6SZXnJkfgYYBqgB2bKsvy8VmsWBFXE9QajFZzH7ZANuw+CY323JsHLtvJtXP/19TR5lB7d83fPZ8a5MxiSMMTHKxN8wZSYSNLMmZRN/y+OzVsIOuccIm64Qf3LkILQAV3cJ0GTwroj0HJHexYwHXjvuNi3wCOyLLskSfoX8AjwkCRJ3YGJQA8gHvhOkqSuR57zKnAekAeslSTpc1mWRcPR9uBxQ20RGMwQGOnr1fiPmB4w6QtY9xaU74f+kyH9XF+vSviVFXkrmovso97Z9g4DYgeIXe3TVEBWDxJeegm33Y4hNFTsOAuC0GaaFdqyLK+QJCn1V7Fvjnu4Crj0yL9fBMyTZbkROChJ0j7g6OcD+2RZPgAgSdK8I18rCm2tVeXB4VVQvgeMARDfB5IGg9Gsfq7GOijbDQ1VEJYG4Wnq52hvif0goS94XKAX36xPRU0u72mTje5GPOKIz2lNFxCALqBtl7gEQRCO8uUZ7RuA+Uf+PQGl8D4q70gMIPdX8TO0X9ppTpYhbw18fhu4jlwEiu4O416C5EHq5nJUwY//hl/+qzy2hMBVH0JyB/jPLEmiyD6FnZ10NrN2zGpRWE/qMQmLweLDVQmCIAgdiU8KbUmSHgVcwBwVX/Nm4GaA5ORktV729FRTACv/e6zIBijZAcXb1S+0i7YeK7IBGqrhi3vh+i/BGqZuLoDKw1BxACw2iOwK5iD1c3RQB6sPsrV0K3WuOrIissiMyMSg89/71D2jejJz1Exm75hNXVMdV3e/moGxA//4iYIgCIJwgtr9u6QkSdejXJIcKcuyfCScDyQd92WJR2L8TrwFWZbfBN4E6N+/v9za1wgnyOOGqsPe8V+3rFNDTYF3rGS7kkvtQjtvHXxwGdRXKI8H3gLDHwJrhLp5OqCD1Qe5ccmNlDhKANBLemacO4NB8Sq/8WpHRp2RAbED6BPdB2Qw6P33TYMgCIJwamrXyZBHOog8CFwoy/LxTUs/ByZKkmSWJCkN6AKsAdYCXSRJSpMkyYRyYfLz9lzzKamxFmoKwa3uxLJmIYmQdal3PD5b/VxhrfRKTjxD/cuXDTXw9cPHimyANW9A4RZ183RQG4o3NBfZAG7ZzfRN06l3ttJ72M8YdAZRZAuCIJxCcnNzGTFiBN27d6dHjx5MmzYNgIqKCs477zy6dOnCeeedR2Vl6xuAV199NRkZGWRlZXHDDTfgPDLhddmyZYSEhJCdnU12djZPP/205r8WzQptSZLmAiuBDEmS8iRJmoLShSQY+FaSpE2SJM0AkGV5O7AA5ZLj18Dtsiy7ZVl2AXcAS4CdwIIjX3v6yl0NH1wBrw2CxfdD2T71c+h0cMat0Psq0OnBGg4XTofkwernismCUf84dpY5NBku+D/laIeaGqohf713vKbVD0iEX6lurPaKlTnKaHJ7XygUfE+WZWSPuNQpCIJ/MhgMvPjii+zYsYNVq1bx6quvsmPHDp5//nlGjhzJ3r17GTlyJM8/33rH56uvvppdu3axdetWHA4HM2fObP65YcOGsWnTJjZt2sTjjz+u/a9FqxeWZfnKVsJv/c7X/wP4RyvxxcBiFZfmv0p3w+y/QFOd8nj9LGVn+7J3wBSobq7wNBg/Dc5+UGnvZ4tX9/WPMgcpRX2Xc5Vd59AUCI5RP481HFLPgoPLWsZDxfTBE9E7urdX7MpuVxJqCW3/xQi/ydPUhGPDBirefx/cbsKuuQZrv37oLOKCpyAIGtqyAJY+DdV5yqfiIx+HXpef9MvFxcU1j00PDg4mMzOT/Px8Fi5cyLJlywCYNGkSw4cP51//+pfX88eOHdv87wMHDiQvL++k19JW7Xp0RGijsr3Hiuyj9i6BqtzWv76tDCal4NaqyD5Kb4CobpA0UJsiG5Q3IqOfVdoHgrJTf85jENtLm3wdTM/Inkw/ZzpdQrsQGRDJPX3vYWza2D9+ogCA0+Nkd8VuluUuY0fZDhpcDZrkcWzcyOHJN2D/bin2H5aRO+VG6te38kmOIAiCWrYsgEV3QXUuICv/XHSXEldBTk4OGzdu5IwzzqC4uLi5AI+NjaW4uPh3n+t0Opk9ezZjxoxpjq1cuZLevXtz/vnns3279ockxMFEf9LarrUpEIxit+qExPaEKd9AZQ6YgyE8HQyi/d6JMOlNnJ10Nn1i+uB0O4kIEBdIT5Qsy3yT8w2P/vQobtkNwIMDHuSKjCtUH4xT/elnSnvO41TOm0fQEDHtUhAEjSx9GpyOljGnQ4m3YVcbwG63M2HCBF5++WVstpZHSiVJQpKk333+bbfdxllnncWwYcMA6Nu3L4cOHSIoKIjFixdz8cUXs3fv3jat8Y+IHW1/EtMD0oa3jJ37pDj+8GcERUN8X2UHvQMU2S6Pi53lO1lycAmrCldR2aBBZ5jj2Ey2DlVkuzwuDlUfYn/VfhqPb2eposM1h3lq5VPNRTbAv9f9m4PVB9VPZvDeO5GMYsqlIAgaqv6NYxm/FT9BTqeTCRMmcPXVV3PJJZcAEBMTQ2FhIQCFhYVER0cDMHr0aLKzs7nxxhubn//UU09RWlrKf/7zn+aYzWYjKEhp6zt27FicTidlZWVtWucfETva/iQoGi5+DQo2KG3xojOViY1/8I5OOMJeAnu/hQ3vQVSGMho9vo+vV9UmP+b9yD3L7mkeunJ+2vk8MvARwiwa9CDvYCodlczZNYe3tr2F2+NmXKdx3N7ndhKCEv74yX9CVWMVDlfL3R6P7KHMUUYGGarmCr34Iqo/+QSOXoSUJMKuuELVHIIgCC2EJB45NtJK/CTJssyUKVPIzMzkr3/9a3P8wgsv5N133+Xhhx/m3Xff5aKLLgJgyZIlLZ4/c+ZMlixZwtKlS9Hpju0pFxUVERMTgyRJrFmzBo/HQ0SEtptHotD2NyEJyg/hz5Fl2Pg+LH1KeZy7CrZ/AlO+Vd6w+KGSuhKeXvV0i8mGXx38ikvSL/Hr/tbtZV3xOt7Y8kbz40UHFtE5tDNTek5RNU90YDQRlgjKG8qbY2a9mfgg9e8+BGRnk/L+bGoWfYHs8RAyfhwBvcQ9BEEQNDTyceVM9vHHR4wBSvwk/fzzz8yePZuePXuSnZ0NwHPPPcfDDz/M5ZdfzltvvUVKSgoLFrR+DvzWW28lJSWFwYOVbmmXXHIJjz/+OB999BGvv/46BoOBgIAA5s2b94fHT9pKFNrC6aG2AH76T8tYYy0UbfPbQrveVU+Zw/sjr8pGbY+PdBSrC1d7xRYfXMyV3a7EarSqlicuMI5/n/1vHvrxIUrqSwg1h/LskGdJsal/5EsyGLD27Yu1b1/VX1sQBKFVR89hq9h1ZOjQochy67MHly5d+ofPd7lcrcbvuOMO7rjjjpNe18kQhbZwmtBBa+PCdfr2X4pKoqxRDIwdyJqiNc0xnaTTpIDriLqEd/GK9YzsiVlvVj1X/9j+fHDBB5TVlxFmCdNkN1sQBMFnel3e5ouPHZW4DCn4Xulu+OW/sPAO2Pkl1GuwI2uLgxGPtoxZI5ROJH4q0BjIIwMf4YzYMwCIDIjkpeEv0SXMu4AUvA2OG0zXsK7Nj8Mt4UzsNhG9Rm++Yqwx9IjsIYpsQRCE04jY0RZ8q+KgMoTn6ITGjbNh9HMw+Hb1c/W8DILjYMdCiOgCmRdApH8Xpelh6Uw7Zxol9SUEGgOJtkZrmi+/Nh+X7CLWGovZoP7OLyiXBzeXbGZL2RbSbGn0jemrSXGabEvm9ZGvs7dqL06Pk86hnUkKTlI9j+BfZLcbT0MD+kCVh4AJgnBaEoW24FvF27zHoC/7J3S/EEJULnoCQiFznPKjAwk0BpIWkqZpDnuTnUUHFjFtwzQcLgcXpF3Abdm3kRh88rfKW+PyuJi7cy6vbX6tOdYvph8vnv2iJm0FowOjiQ7U9s2J4D8a9uyh8oMPqF+3nuBR5xF68cWYkpN9vSxBEPyYKLQF33K3cmHB3XSsPZlwSthatpXnVj/X/HjRgUXEBMZwV5+7VL2xnVuby/+2/q9FbH3xevZV7etQ/buFU09TYSG5t9yK60iP3vJ9+2jYtp2E/7yI/kjfXUEQhD9LnNEWfCumB1hCWsYG3d6m/punG5fHRUl9CfYmu2Y5tpRu8Yot2r9I9QE5Lo8Lp8fpFW90azNMRvAPTQWF2H/8ibpffsFZWqpNjgMHmovso+pWrKApt5X+wIIgCCdIFNqCb0V1hes+hz7XKhMbL/gPDLzZr7uBAFCwEb68Xzl/vvVjqK/QJM3hmsO8sPYF/rLwL9z63a2sL16vSZ7Whrh0Ceuiahu8o3nOSjiL7uHdmZgxkSHxQwi3hGt+NEZrZfVlfHvoW15e/zKLDyymqK5I03zu2lrcNTWa5mgvDXv3cejaa8m96SYO3zCF3JtupunQIdXzSK1NitXpWo8LgqCp3NxcRowYQffu3enRowfTpk0D4MknnyQhIYHs7Gyys7NZvHhxq8//+9//Tq9evcjOzmbUqFEUFBQAyiCcu+66i/T0dHr16sWGDRs0/7WIoyOC78Vnw5h/QlMdBEb5f5FdshPmXwtdRytvHla/Bo4KGHiTqmkaXA28svEVluQoE7E2l27mlm9vYe4Fc1XvPNInug8Tu04kPCAcj+yhzlnH+WnnYzFYVM1jNVq5Lfs23t3+LosPLiY9NJ0XznrBry8pNrgaeGPLG8zbPa85NjxxOM8OfZYQc8jvPPPPc9fVUbfiR0pfew3cbiKnTiVo+Nnog4NVzdNeZFmm+pNPcOUfu8fRuGsX9hU/En6tum0szV3SCejfH8e6dc2xsKuvxpQizmgLQnszGAy8+OKL9O3bl9raWvr168d5550HwL333sv999//u89/4IEHeOaZZwB45ZVXePrpp5kxYwZfffUVe/fuZe/evaxevZqpU6eyerX3TAVVfy2avrog/BFZhkM/w7dPQOUB6H2lsqMdlurrlZ288n3KePfVM6CuDLpdoOxo1xZDcIxqaYrqivgm55sWsUZ3IweqDqheaBv1Rqqbqpm3RykWEwITuLjLxarmAOXS5X/W/6e5N/iGkg3c88M9zLtgHikh/tkf/FDNIebvnt8itixvGQeqD9Anuo+querXriP/3nubHxc88ACJ0/9L8LnnqpqnvchOJ/XHFb5HObZ4H2VqK0N4OPHP/5P61atp2LED64ABWPv1Q2cyqZ5LEDqaLw98ybQN0yiqKyI2MJa7+97NBZ0uOOnXi4uLIy4uDoDg4GAyMzPJz8//g2cdY7PZmv+9rq6u+S7RwoULue6665AkiUGDBlFVVUVhYWFzLi2IoyOCbxVvV45X5K9TitGVr8KKF8HV5OuVtc3Sp8FeArIHdi5Sim+Vp7ya9WaCTd47lYFG9duSbS7dzFc5XzU/zq/L5+2tb+N0e5+nbot8e36LATwAdqednJocVfO0J6fHiYz3hLMmt/p/xqs/+8wrVjl/vvcX+gmdyYTt/PO94kFnDdMknykxkdAJE4j9+9+xjRmDISpKkzyC0JF8eeBLnvzlSQrrCpGRKawr5MlfnuTLA1+q8vo5OTls3LiRM85QZkZMnz6dXr16ccMNN1BZ+dv3hB599FGSkpKYM2cOTz/9NAD5+fkkJR37hDQxMfFPFfAnQxTagm+V7lK6jBxv8xyoKfDNetRQ28r5292LW++w0gZxQXHc2+/eFrHeUb3JCM9QNQ/Avsp9XrF1xeuoaVL3HLBFb2l1MqPaZ8HbU1JwEr0je7eIJQQmkGpLVT1Xa4WhIdq/2xcGjx5F8AVHdsZ0OsKuuQbrGYN8uyhBEJpN2zCNBndDi1iDu4FpG6a1+bXtdjsTJkzg5ZdfxmazMXXqVPbv38+mTZuIi4vjvvvu+83n/uMf/yA3N5err76a6dOnt3ktJ0scHRF8y9TK7mtAGGg0DKVdBMd6x0JTW/+1toFH9iDLMnf3vZuaxhqsRisNrgZNdkpbK96HxA/BZra18tUnL8mWxB3Zd/Di+hebY2clnEV6aLqqedpTiDmEZ4Y+w4LdC1iWt4wBMQO4pvs1xASqd4yoOdeF46n68EPkBuWbnmQyEXbZZarnaU+mhATinn2GyFtuBp0OU3KyOM4hCKeQ37rc3dZL306nkwkTJnD11VdzySWXABATc+zvzZtuuolx45S5GJMnT2bjxo3Ex8d7XZC8+uqrGTt2LE899RQJCQnkHtdJKC8vj4QE78v+ahKFtuBbsb0grg8UbjwWG/1PZWS6v4rrA32vV34NHhc02qHbWGVgjooK7AX8a+2/aHQ3YtQZm9vi9Y7qTUKwun9x9I7qzbWZ11LuKCfEHEJOdQ7X9bgOo07djgw6SceErhPICM9gf9V+4oLiyIrIIswSpmqe9pYWksb9/e/n1t63YjVaVf99OyqgZ09SPphD/fr14PFg7d8fS/fumuRqT/qAAPRdu/p6GYIgtCI2MJbCusJW4ydLlmWmTJlCZmYmf/3rX5vjx5+n/vTTT8nKygLgnXfeafH8vXv30qWLcldp4cKFdOvWDYALL7yQ6dOnM3HiRFavXk1ISIim57NBFNqCr4UkwBXvQd56qCuBmCyIV/eCWLszBoDeqEy4BGXse+8rVU/jkT24ZTdAi97THln9YT82k40+0X2YsXkG1U3VXNb1MoKM2gzxCDYFMzh+MIPjB2vy+r6i1+lV7zLSmoDu3QnoAMW14H/slQ1UFddjtOgJiw3EZBElxung7r538+QvT7Y4PmLRW7i7790n/Zo///wzs2fPpmfPnmRnZwPw3HPPMXfuXDZt2oQkSaSmpvLGG2+0+vyHH36Y3bt3o9PpSElJYcaMGQCMHTuWxYsXk56ejtVq9SrQtSD+LxB8LzRZ+dFRFG6EtcdNN6wthKVPwRWzVT0+EhcUx1XdruK9He81x0LNoap3HAFYXbSa+5bf13ypb/qm6egkHTf1UrdloSAI/qkst5YvXt1MXZVydK3b4DgG/6UTVpsfHwMUTsjR7iJqdh0ZOnQosux9iXzs2LEn9PyPP/641bgkSbz66qsnva6TIQptQVBb5WHv2OGV4KhUtdA26oxM6jGJZFsyn+/7nB6RPbikyyUk29R/07KxZKNX54yP937MuLRxxAX78TEfQRDazNXkZs2ig81FNsCulYV06hNFWi9RaJ8OLuh0QZsK645MFNqCoLbWeoCnDoOAcNVTRVujuSLjCiakT8Cg1+5/50CD9xuEUHNo89EVQRBOX431Lgr2V3nFq0vq238xgnCKEe39BEFt8X3gzLvhSIN8QlNh5N/BpF2LOi2LbIDuEd2JDIhsfqyTdFzb/VrVL10KguB/zEEGkjK9NxLCYtXv6S8I/kbsaAuC2qxhMOJv0OsyZax8WGrrLf/8SPeI7jwz5Bm2l23H4XKQEZ5B19CuzdO2hNOPu6aGhh07cRYVYkxIwNKtm9+OehfaxmDQ039sKhUFdVQU1CFJ0PvcZKJTxZ8HQRCFtiBowWiB2J6+XoVqbGYbQxOGkhqcisvjIi4oDrNGvc4rHBVsKNnAmqI1ZIRlMDBuIEnBSX/8RKHdeBoaKH/rLcrfeLM5FnnXXUTcOEX0uD5NRcQHcdG9fagpdWAw6QmNCcBg1Pt6WYLgc6LQFk4fdWWw/wfY+D5EdYM+V0Fc7z9+ntAs0Zao6es7PU5m75jNzG0zm2M9I3sybcQ0oqxiHPapounAAcrf/F+LWNmrrxI8ciSWDNHv+nRlDTZhDRZvtATheKLQFlrndEDeWti3FIKiofM5EJ2pUa4GKNsDDdXKMYtQjXYvN30A3/5d+feDy2DLXLjhG4jupk0+4U/Lq81jRd4K7uxzJ43uRkw6E5tKN7G/ar9fF9r2Jju7KnaRb88n2hpNZkQmoeZQXy/rpLlrauDXrbfcbjy1Nb5ZkCAIHUpDQwNnnXUWjY2NuFwuLr30Up566ikOHjzIxIkTKS8vp1+/fsyePRtTK5+ijRkzhsLCQlwuF8OGDePVV19Fr9fz5JNP8r///Y+oKOX7yXPPPXfCLQNPlii0hdbt/RYWXHvssTUcrv9K/aLUUQ2rXoMV/1K+cQdGwpXzIbG/unmqC+DHf7eMNVRD8TZRaJ9CZFlmdNpopm+c3txO8Py089Hp/PfettPjZP7u+by84eXm2NXdrubOvncSaFT/sphjxw4atmwBj4yldy8CevRQPYcpORl9eDjuiormmCEmBmOSOOIjCELbmc1mvv/+e4KCgnA6nQwdOpTzzz+f//znP9x7771MnDiRW2+9lbfeeoupU6d6PX/BggXYbDZkWebSSy/lww8/ZOLEiQDce++93H///e32a/Hf716CduorYenTv4pVKDvcaiveBsufP7Y7VlcGX94Hjip180gS0MrFPXGZ75TikT3M2jaLUHMog+MHkxScxFcHv8Lpdv7xk09Rh2sOM33j9BaxObvmcKDqgOq56jds5PC111H05FMUPf00h665lvp161TPY4yPJ3HG65iPjD8OyM4m8bVXMcbEqJ5LEIRTX/WiRew9ZyQ7M7uz95yRVC9a1KbXkySJoCBl+rDT6cTpdCJJEt9//z2XXnopAJMmTeKzzz5r9fk2mw0Al8tFU1OTTy/ui0Jb8OZxgbPOO+5qVD9XdZ53rHCTUtiryRYHwx9uGQsI61AXFjuCioYKxnUex7jO46htqqVPdB/u6nMXFQ6V/zy0ozpnHS7Z5RW3O+2q56r+8gs8dcf+35UdDqo++VT1PADWXr1IefstOn/zDUn/e1OTnXNBEE591YsWUfj3x3EVFIAs4yoooPDvj7e52Ha73WRnZxMdHc15551H586dCQ0NxWBQDmMkJiaSn5//m88fPXo00dHRBAcHNxfnANOnT6dXr17ccMMNVFZWtmmNJ0IU2oK3oCg4866WMZ0BEvqqnyuklct18X3BGqF+rl5XwOXvQbdxMOw+mPQFRIqLW6eSGGsMJfUlzN4xm21l2/h8/+fM3z2fJJv6RxJkWWZL6RYW7F7AnJ1zWF+8nkYN3kwmBCV4dU2xmWyadFJxFRR4xZyFharnOUpvs2FKThJt/QThNFby0svIDQ0tYnJDAyUvvdym19Xr9WzatIm8vDzWrFnDrl27/tTzlyxZQmFhIY2NjXz//fcATJ06lf3797Np0ybi4uK477772rTGEyEKbaF1WZfC+GkQ0wO6jIJJn0Nctvp5YnvCOY+BdOSPYlAMXPAiBISon8saDt0vgolzYOTjEJulfg6hTZweJ98f/r5FrLi+mKrGKtVzbS7dzKM/Pcozq57h+TXPc88P97ChZIPqeSICIvjP8P8wMHYgAD0ievDaua+RGKx+B5egked6xYJHjVI9jyAIwlGu33gz/1vxPys0NJQRI0awcuVKqqqqcLmUTwjz8vJISEho3vnOzs7m8ccfb/Fci8XCRRddxMKFCwGIiYlBr9ej0+m46aabWLNmjSpr/D3iMqTQuqAo6Hc9ZE0AvRkMGrVssthg8F2QMVa5nBiaAiFi2uCfVdtUS4A+QPMJkVrTSTp0ks5rtLtJr/6fvzWFa8ipyWl+XNVYxSd7P6FPVB8sRouqubqFd+OVc16hqqGKYFMwNrNN1dc/ytqnD1H33kPVggXIbg+hl12KdYDKF4sFVbhra2k6fBjJZMKUkiL6jwt+yxAX1+qnaYa4uJN+zdLSUoxGI6GhoTgcDr799lseeughRowYwUcffcTEiRN59913ueiii5p3vo+y2+3U1tYSFxeHy+Xiyy+/ZNiwYQAUFhYSd2Rdn376KVlZ2m+4+fd3ZUF75nb4SNhoVnbO24vHDbqOMUih0F7Ilwe/5PP9n9M1rCuTe0ymR6T/npVNCk7iym5X8v7O95tjXUK7kB6Srnqu3Npcr9iB6gM0ehqxoG6hDRBoDNSky8jxzJ07oQ+/HOvgwQCYEhMxhHuPxhZ8qzEnh6Inn6R+1WrQ6Qi77loib7oJQ4QGR+YEQWPR995D4d8fb3F8RLJYiL73npN+zcLCQiZNmoTb7cbj8XD55Zczbtw4unfvzsSJE3nsscfo06cPU6ZM8XpuXV0dF154IY2NjXg8HkaMGMGtt94KwIMPPsimTZuQJInU1FTeeOONk17jiRKFtnD6sJfCvu9gw3vKwJp+kyA+29erOmlOt5P/bf0fH+75EICD1Qf5Of9nPrjgA9JC0jTJWeGooMnTRLQ1Gp2k/skzo97IDVk30COyBz/m/UhWZBZnJZxFdGC06rnOiDuDz/Z/1iJ2bvK5hJg1OLbUjgxhYRjCwny9DOE3yB4PVR9+pBTZAB4PlbPexdq/P7ZzvY/+CMKpLmT8eEA5q+0qLMQQF0f0vfc0x09Gr1692Lhxo1e8U6dOf3jcIyYmhrVrW++SNnv27JNe08kShbZw+tg0B757Qvn3w7/Atg9hynd+20e7wF7AJ3s/aRGzO+3sq9qneqHd4GpgSc4Spm+aTnVjNZd1vYwrMq4g2Zasah6AKGsU4zqNY1yncaq/9vEGxQ/ill63MGv7LJweJ+PSxjG2k7aDCwTBXVtL7bffesUdmzaJQlvwWyHjx7epsO7INCu0JUl6GxgHlMiynHUkFg7MB1KBHOByWZYrJaXB4TRgLFAPXC/L8oYjz5kEPHbkZZ+VZfldrdZ8shqcLtbmVLJocwGhVhMX9Iyjd1Kodgkba6GhBgKjwWDULk9HUlMAP77YMtZYC0VbtSm0i7fD7q+h6jB0uwCSBynn0VVk0Bsw6U04XI4WcZNOm/PMj/38WPPj93a8h8Vg4c4+d6qeq71EBkQytfdUxncaj1t2kxicqMlZcEE4nt5qxdq/P9WHD7eIW7pm+GhFgiBoScuuI7OAMb+KPQwslWW5C7D0yGOA84EuR37cDLwOzYX5E8AZwEDgCUmSTrnPRH/aV861b61hwbo83lxxgMvfWMm2/Gptkh1eBbMvgdfOgC/vgbJ92uTpcKTWz2VrMXGwdA+8Ow6+fxo2zIIPLoNdX6ieJj4wntuzb28R62TrRNdw9VsWbiz1/ghv0f5FFNq1ax3XHvQ6PSkhKXQK7SSKbKFdSEYj4ZOuwxAb2xwLHHImAf3FpVVB6Ig029GWZXmFJEmpvwpfBAw/8u/vAsuAh47E35NlWQZWSZIUKklS3JGv/VaW5QoASZK+RSne52q17j+rvsnF9O9bFruNLg8/7i0jK0Hls56lu2H2X8BZrzze+D7UFsPl74JJ20tWmqs6DI12sCVo09rPFgfDH4GvHjwWs0ZAbC/1cxVu9h648/2zkH4uBKl31liSJC5Ov5i0kDTWFK4hNSSVAbEDiAs8+Zvev6W1c8sx1pjmMemCIJw4S0YGKR98QNPBA+jMZkydOolLq4LQQbX3Ge0YWZaPboEVAUfn9SYAx7cAyDsS+624F0mSbkbZDSc5Wf1zo79FlsHp9njFXa3E2qx0z7Ei+6h930JVrt+eM8bZADsWKj8CQsBRo/TVjslUP1fPy8EWD9s+g8h06H4hRHZRP4+nlXHhrgaQ1f8zEWIO4azEszgr8SzVX/t43cK6kRCUQL5dmcJl0Bm4pvs1hJpDNc0rCADO4mIa9+9H0ukwp6djiIzUJI+7upqGXbtwlZZiTEzC0i0DnUX9DjQApvg4TPHqvykWBOHU4rPLkLIsy5IkqbYdJsvym8CbAP3792+3bbZAs4GpwztzxwfHPlo36CSGdtHmG4EXUxBIUvvk0kLpLnBUKD+KNkP6ebD/ewhLVn+X3hoGmeOVH1qK7QXGAHAed3Z66F8hOPa3n3OKiwuK48EBD5Jvz6fJ3URScBIxATFYjVZfL81v5NXmUVpfSrglnGRbMpI//3/bjhr37SP3tttxHjnTbMnKIuHFFzGlqLuh4rbbKZ0+ncrZx1pLxj71JKGXXYakxREzQRBOC+39t0fxkSMhHPlnyZF4PnD8POLEI7Hfip9ShneN4o1r+zGkcwTjesYx96ZB9EoMVT+R3qhcqjvewJuVXWF/ZS+B756EwyuhOg/WvwOFG5RWfGprqIE938CX98Mv06Hkz41zPWGxWTBpEfS8VBlbf9Gr0OtybXK1kxRbCp1COhEfFE9icCJxgXH0iPLfft3t7ef8n7l80eVc9/V1XPbFZSzJWYLb4/7jJwpUffZZc5EN0LBtG/aff1I9T+O+fS2KbIDifz5P068uLQqCcGqYMmUKvXv3plevXlx66aXY7XYAZs2aRVRUVPO0yJkzZ/p0ne29o/05MAl4/sg/Fx4Xv0OSpHkoFx+rZVkulCRpCfDccRcgRwGPtPOa/1CQxcjoHrGM7BaNXidpt1PlcUJkhnLWt6kOzDalQO1xiTb52oO9SDlWcbztn8GwB9TPtf1TWHTXsccrp8P1X0JEZ/VzJQ6A+L7gcYHBrP7rH2FvsrO1bCtbSrcQHxRP3+i+JARrM1kzIiCCmqYaGtwNxATGYND5f3fQ0vpS9lXtw+lx0jm0MwlB6v/e5dfm8+CKB6l11gLgcDn4209/o0tYFzqHavBnrwPxNDVRv9q7Z65j40a46ipVc7mrvS+wyw0NeI588xYEoX1VVlYS9jszAV566SVsNqWb11//+lemT5/Oww8rPTauuOIKpk+f3i7r/CNatvebi3KZMVKSpDyU7iHPAwskSZoCHAKObvMtRmnttw+lvd9kAFmWKyRJegY42nn86aMXI09FBr3GHxCEp0PTZ8rFOp0BkGHM8xDRSf1cDdVwYLly4TIkCfpcrezOqs0S2krMpnorPGqLYOlTv4oVQtEWbQptULqcaDyB8ssDX/Ls6mebH2eGZ/Lfc/5LTGDM7zzrzyutL+Xf6/7N4oOLAUgITOC/I/9LlzANzri3k9yaXO5ffj87KnYASru/GefOICNc3TZrpY5SappqWsScHidFdUWi0P4DOpOJ4NGjaNi6tUU8aOgw1XOZkpORAgKQHceOfJnS0jDGx6ueSxA6mj2ri1i5cD/2ikaCws0MvqgzXc9o23HJ/v37M2jQIKZMmcKIESO8NjGPFtmyLONwOE7Z43iaVYayLF8py3KcLMtGWZYTZVl+S5blclmWR8qy3EWW5XOPFs2y4nZZljvLstxTluV1x73O27Ispx/58Y5W6/ULMZkw6DY4//9g2P1w0evQ+VxtOo7sXAQLroW9S2DdTJh1gdJzWm3xfSDqVxcfz31aubSoJo/be+ccwN3KxUU/UWAv4OUNL7eI7azYye7K3arn2lS6qbnIBsivy+ftbW/j9OPfv1WFq5qLbIAyRxnzd89X/UhHRECE1+h1vaQnyhqlap6OyjZmDEHnjlQeSBIhl07AOnjQ7z/pJJjT0kia8TrGtFQAAvr0IeE/L4puIKegmnIH+zeUsHV5HgX7qnA6xTEsX9qzuogf5uzCXtEIgL2ikR/m7GLP6qK2ve6ePVx55ZVMnz6d7t2789xzz1FQUNDiayZPnkxsbCy7du3izjuPzXX4+OOPm4+U5Obm/vql25W44eFvEvtB9lXQ/3rImqDNbnZdOSx/oWXMWQ9561r/+rYITYIr58LFM+Ccv8N1C6HHX9TPY4uHM+9qGTNaISZL/VwAriYo3gG5a7U5b46yK1rvqveKN7T2hqKN9lV692tfW7TWa6fWn+yu8H5DsqlkE43uRlXzJAUn8Y8h/8CsV44QGSQDjw9+nDSbutM7fcXToO0dEXdFJbLbQ+TttxE5dSrOomLclZWa5Ao84wxS58yh09dfkfTmG1gyNeh+JLSJvbKBJW9u4+s3t7Fi7h4+/fcGDm7S5u9Y4cSsXLgfV1PLrlquJg8rF+5v0+vq9XrGjRvHJ598wooVKzhw4ADJycktRrC/8847FBQUkJmZyfz58wEYP348OTk5bNmyhfPOO49Jkya1aR1t5f+HLE9H5iDlh5Za+whGq49lwtMgNAXcTWDUppUWkgT9JkNgFKyfpbT1G3QbxHRXP5ejCla9Bj/+W9lJj8yAy96BGHUvD8ZaYxnfaTwL9y9sjgUYAjQ5jtDacYoh8UOwmVU+4tOOBsYNZP6e+S1iY9LGaNJJZUTyCD4c/yFFdUVEBkSSGpKKUeffU10bDxykeuFn2Ff8SNCI4YRceCHm1FRVc8geD5UfzKHuhx+o++GH5ri9X18sGdpMUjSEh4td7FNYWW4tJYdqW8R+WrCX+C5hBIVqdx9G+G1Hd7JPNP5nVFdXM2/ePGbNmoXJZOLtt9+mV6+W8y/0ej0TJ07khRdeYPLkyURERDT/3I033siDDz7465dtV6LQFrwFRsDZD8FnU4/FTIGQoNHksoJNsOZ/ULJDOQuecYEyYEZtwTEwYApkXwk6E+g1+uNfsAl+fhkyL4SAcDjwg3Ku/tK3lbZ/KjEbzNza+1airFEs2r+I9NB0pmZP1aTQ7h3Vm4kZE5m/ez4yMhlhGVzX4zq/Lhb7xfRjStYU3t3+Lm7ZzejU0YxNG6tJLp2kIy0kjbSQjrGL7aqoIP/++2ncoRy9ady5k/qVq0h8/TUMoaGq5ZHdbpoOHfKKNx327UfBgu80NXgfE2moc+F2ajC7QjghQeHmVovqoPC2vfG55pprWLlyJZdddhnvvfceXbocuxMkyzL79+8nPT0dWZb5/PPP6dZNmSdSWFhIXJxSQ3z++edk+viTKVFoC63LGAdX2GDTBxCaDL2vUNrWqa10D7x3oXL5EqBgA9QUwIhHtbtIqHXv55oCGPk4bJwD9mKlb7chAOrLISRR1VSJwYnc1ecurs28FqvRisWgzScCEQER3Nf/PiZ0nUCju5Hk4GTCLL99G9wfRAREcHuf27ko/SLcHjeJwYma/f51NI0HDzYX2Uc5Nm6kKScHQ3a2anl0RiOhl1+OY+OmFvHgUaNUyyH4l7C4QHR6CY/72LiMboNiCQoTu9m+MviizvwwZ1eL4yMGk47BF7Vt0+fyyy9n1qxZGAzepaosy0yaNImamhpkWaZ37968/vrrALzyyit8/vnnGAwGwsPDmTVrVpvW0Vai0BZaZzBBQBh0GaXswqq4E9tC8fZjRfZRK6dD30kQlqJNTq0FhMLntx+bBLl+FvS7Aa2uREiSRHiA9h91WwwWuoX76QTS32DUGUkLSUOW5VP2xvqf5aqqpinnIMgyptRUDL/THutk6fStvwmWWvmG2FamLl0JnzyZ6k8/RTIphbcxQZsWlsKpLzIhiPF39eaXj/dTU+YgY1AsvUYkojeIK2e+crS7iNpdRy688MLf/DmdTsfPP//c6s/985//5J///GebcqtJFNpC6/YvhXnH9akNjILrF0NUV3XztHZ8Q28CrSaxNdqhMkc5ChOu0cf41bne49a3fwyDb9cmn3BSXB4Xm0s2M2/3PGqbarmy25UMiB3g19Mum3JzKXz8CepXrgQgoH8/4p97DlOyulMUTWlpBA4bRt2PPzbHgkeNwqT2GW1ZpmrBAuqWL8d2wVhkl4vKOR8gmS1Yuvpva0nh5Ek6icSMcC66JxhnowdriAmdrmO8SfZnXc+IbXNh3VGJQlvw5qiC737Vc7quFPLWql9ox2SBLQFqjhv4OfwRpXe32go2KxcUd30BQTFw7pPQbTyYVW6P2Fpv8MAosIoLVqeSbWXbmPLNFNyycubz54KfmTZiGuckn+PjlZ08+7JlzUU2gGPdemq++YbIG29UNY/H4cDSLQNLZjeacnIwpXVCdrvxOBzog9S7qC27XDTu3o2ruJjKOR80x5v2eXfBEU4vZqsRs/++JxZOI+KzFsGbuwkaW2nb5qxTP1d4Glz7KZz3DGRfA1fMgd7qTnwDoLFeuaC483Nlt7m2ED67FXJXq58rtieEH9d2UZJgxN9EoX2KWZ63vLnIPmrWtlmqt/drT/afvD9KtS9frnqepsOHKf/fTCren0Pjvv1UvPsuFTNnthiVrgad0UjoBO/Jt0HnnqtqHsH/uFxuGuv9t4+/cPoQO9qCt6BoGHwHfPPosZhOD/H9tMkXlaH80FLVIaXIPp4sQ/leSFd5B7N0N3QbpxxPcTWAJQS2L1SGCwWEqJtLOGl6yfucsVFvRMJ/P4YOGjaMul8V1sFnD1c9j86qbCXK9fU0HTigBCUJXaD6w7OCho8gYmohFW+/g2QwEHnHHVgHaNQBSfALRQeq2fDNISoL68kcEkeX/jEEh4uLzCejI91PaQ+yLP/xF/2KKLSF1vW8TDkrveYNCI6Hsx+E+Gxfr+rkmYOU7ikVB1rGWzvm0Va1+fDLK8pOts6gTJ80BYK9xO8LbYfTgVN2YjP5b//so85OPFuZbuk5tit2fY/rMelNPlxV2wQNPxv7smXU/fQTAAFnnEHwqPNUz2Pq1InQq66i6oNjxznCb7hB9TPaAMboKKLuvJPQSy9FkiQxEv00V15g5/Npm3A2Kp9GrfxkP/XVTZx5SWd0evEh/Z9hsVgoLy8nIiJCFNsnQJZlysvLsVj+3Js6UWgLrQuOgTNuhl6XKwW3yc8Pw4UmKS33Pp6iDJEBpS94XG/1cx09Xy7Lx0a8dz4XLMHq52onTo+T9UXrmbF5BhUNFVzT/RrOTTmXcIv/HofpEdmDWWNmsfjAYuxOO+M6jyM7KtvXy2oTfVgYYddfT+CZg0GWMXfpil6DriN6q5WoO+8geMRwnPn5GJOSsHTvge5PfgM6UZJOh0l0GhGAioK65iL7qK3L8+g1IhFbpEbdsTqoxMRE8vLyKC0VkzVPlMViITHxz7XpFYW28PsCQn29AvV0PR+u+QzK9ig7yzG9IFqDIysR6conAHkblEmXsqwMyQn23xvZO8p2cMt3t+A50k3lmVXP4JE9TOw20ccrO3k6SUdMYAxDE4fi9DhJCErw+z7a9WvXUfzss8outqSj8tlniXngAYLPU/9MsyEsjKBhw1R/XUH4Pa218TOa9Oj0Ykf2zzIajaSldYwhWqcyUWgLpw+jRelw4nKAxabs2mshurvSuSUgAjxOCIzR/gy6xjaUbGguso96d8e7jEkdQ6gWx2/aweGaw9zzwz3srdoLQJg5jDfPe5NuEf7bK7xh106CRoygct58kGVC//IXGnbv1qTQFgRfiEwKIiQqgOpSR3Ns0MWdCQrz7zfJQsclCm3h9HF4Fbw/AZrsyuPeVyrdToKi1M1TvA1yVsCqGdBQBZ1HKkdvju9E4mcCjd6X3EJMIX49gv2Xgl+ai2yAysZK5u6ay+ODH0ev1VRSjemtgZS9PK35ceUHHxB1//0+XJEgqMsWEcAFd/Qmf3clNWUOEjPCiO3k33dfhI5NFNrC6cFRDT+/AsP+Ck6Hcu7cXgyFm6GLyrt9FQdg2fPHHu9fqlzGTOgHtjh1c7WTvjF9CTWHUtVYBYCExO3ZtxNoUr/LxFFa34bfW7nXK7atfBuN7kasOv+8k1C3aqV3bMUKIm+c4oPVCL/HVV5OU04OksmEKS1N1f7jHV1YjJWwGP/8f1Q4/YhCW/C9miIo2qzs/kZ0UYbYGFTu/NBYC8mD4Lsnjk1tjO0FXdTvyEB1nnds33fHdtL9UHpoOu+Mfoe1RWupbqxmQNwAekX20iRXob2QFXkrWFmwki5hXRiTNobOoZ1Vz9M7ujcL9ixoETsn6Ry/ngxpzuiG/fsfWsYy/fcoTEfVuH8/effeS9Me5c1e8LhxxDxwP8YYjY6zCYLgM6LQ9jc1hVCwEWqLlCmNcdnKbqm/qi2Cz+9SpjMGxyq7ziP+Bt0uUDePTg9rZ7YcjV60BRpq1c0DSjvEXwtPh8Bo1VN5ZA/7q/aTW5tLiCmELmFdsJm1ab2XHpZOeli6Jq99VKOrkSU5S2jyNDWf/f7q4Fdc2vVSYgPVvUxa21TL5RmX8+neT3HLbkYkjcCoM9LgavDbS5G288dQtWAB7vJyAPShoYT+5S8+XlXbOUtKlH7dej3mzp0xhPtvtxvZ7abivdnNRTZA7RdfEHzWWYRcON6HKxMEQQui0PYn9hJYeAfs/+5Y7IKXYMANvltTW5Xuhs5nw4b3YO8S6DIaSnZCYn9lTLpaPC6oLfCOuzSYAph8BqQMhUNKL2MMZhj9rCY9tH8p+IU7v78Tl8cFwIQuE7i3372EmP3zzGJhXSHF9cW8v/P95ljPiJ4MjhuseqFd7ihnXdE6rut+HQadgdWFq9lQsoHrul+nap72ZOnalZQP5tC4azcgY87IwKxBb+v21Lh/P3l33tU8GCegb1/i//U8pqQkH6/s5Lirq6lb6X3Ex7F1iyi0BaEDEoW2Pyne3rLIBvj278pkw7BUdXM11UHuGtjzNQTFKkcsYrPUzQFKB5BvH1cKYYDtnygj4LMuVTdPUCz0uhI2vncsJukgOlPdPAC2eLj0beVSZGMtRHbVJE9pfSlP/vJkc5EN8PHejxmbNpaBcQNVz9ceaptqmbd7XovY1vKtzWfD1ZQRlsH83fN5a9tbABgkA08MfgKZPz/561RiTknBnJLi62WopmrhQgJ69sR2/hiQJBp378H+00+EX3mlr5d2UmS9noDs3l7j6k0d6L+ZIAjHiELbn7R2xrfJDs4G9XPt/RY+nHTs8S/TYPJX6heMtSXHiuyjdi+Gc59SN4/BCGfdBymDofIgmIKVSZdx2pwzJjhGu/aBR9iddorri73i5Q3lmubVktPjbPHG4SiH29HKV7dNqCWU63tcT52zDpfsItwcToglhACjGHpxqvA0NWGIjKRuxY9UL1wIgHXAAKU3vZ8y2GwEjRxJw/YdNO3fD0DQiBGYOqt/D0EQBN8ThbY/iewKRis464/FOp8LIX9uStEfqq+E759pGXNUQt469Qvt1rpWBEYqu81qqy6AL+879vvX4xKlv7WaR1TaUWRAJH2i+rCxdGNzTEIiKdg/P1IHCDWHMjh+MCsLjn20Hm4JJ9aq/rCfDcUbeG3za5j1ZnSSDofLweC4wQyJH+LXY9g7Ep3JhKuoiMZdu5pj9WvXEjRypA9X1TaSJBHQvTuhl12Gp6YGDAYMMdFYMjX4dE0QBJ/ToJoRNBOVAdd+CokDwRwMfa6B859X/zKkx6W0wPs1twbnmS025ULn8Qbeon6h7aiCrx9s+SZl+ydQuEXdPO0o2BTMo4MepXt4dwBsJhvPD3uejDD/HY6TEJTA+annc0mXS0gKTmJ40nCm9p6qyZuHepfyZyEtJI2uYV3RS3rqnHVeg3kE3/E0NVG/Zq1XvGHrVh+sRj2mpCRCr7ic4LHnYxt7PqEXX4whNNTXyxIEQQNiR9vfJA+Caz5Wzv4GRitHItQWFAVD74XFxw260JuUPtBqM1iUi4/dxoKrSRnsUn5Q2dVWU2Otcsb91+zeRy/8SUZ4Bm+OepOSuhKsRisJwQm+XlKbNbobSQlKISotCpPeRIOrAQ/qF78jk0cSbY1mXdE6HG4Hd/W5i/SwdL/tONIR6UwmgkYMp2HbNiSjEVmWweXCOniQr5fWZvqAAPTp2nbxEQTB90Sh7Y8sNuWHlnr8BYwBsOZ/EJIEZ97uvfOsBrcTrBGw7WNll16Woedl0FCt7k69NRK6jIE9i1vG/XhaI0C9s57dFbvZU7mHKGsUOklHXJB/DsUByLPn8dzq5+gV2YthicPYU7GHbw59Q3poOnGB6v66ZFnmxXUv4pbdAKwsWMnLw19WNYfQdsHjL0QfFoarqAgkHcaEeAKHDPX1sgRBEE6IKLSF1gVGKkdTsiaAzgh6jf6oNFSD2QadRkDZPqXVX946yDhf3TymAOg/GexFULBBORs+6DalAPdjXx38iidXPtn8uHdUb/4z/D9EW9Xv2d1epvaeSk51Dh/s+oDOIZ15YMADmox6X5G/ornIPuq97e8xNHEoZr1Z9XzCyfFUlFPy/L+Qm5oA0AUHk9yzJ8Spf25fEARBbaLQFn6f1h0YQpPhq/uhrkx5vP87GHJP60Nf2qKmED67FVKGQPpIZSd9y3yI7q4M/vFDhfZCXlz3YovY5tLN7K7Y7beFdkRABOuK17GmaA0AFQ0V7K7czduj31Y9l17Se8V0Oh0S2o19F/4c2eOh8v05zUU2gKe2FvvSpQSIy4OCIPgBcRlS+G32Ushbq5xtdmnQQhCgJu9YkX3Umjc1ODvtUfpz7/wcVvwf/PwyVB0Gj/sPn3mqavI0YXd6t3x0uNRvhXeU2+PG5fZuv6eWQnthc5F9VE1TDYdrD//GM07eWYlnYdC13Gu4IesG0XHkVOJ24yzwHjTlLCz0wWIEQRD+PLGjLbSuZCd8OBlKd4IkweA7YMi9EBjRTgtQuU9ucLxywXPp08dipiBthvC0k1hrLGNSx/BVzlfNMbPeTKdQ9c+de2QPm0s2M2fnHEodpVzZ7UoGxw9WfQKly+PCpDPR5Glq+RMatE3OiszindHvsPjAYmqdtVzY+UL6RPdRP5Fw0iSjkbArJ+LYsKFF3DZ6jI9WJAiC8OeIQlvw5mqEFS8qRTYoFxR/+S+kngVdR6mbK6aHchmy/rghK0PvVS5gqkmSoM+1SqeWDe9CVDfof4M2kyHbidlg5s4+dxJuCefLg1/SKaQTd/e9m/RQ9TsZ7CjfwQ3f3NA8TGZDyQaeGfIMF6dfrGoem9nG5RmXtxjB3je6LxEB6r/B00k6sqOzyY7OVv21W1PZUEl5QzmhplAi/fxuQHsKHDaM2CeeoOzNN5GMRqLuupOAfn19vSxVuB0OJL0enUl8iiIIHZUotAVvjko4sNQ7XrZb/UI7Ih2u+1w5L120FXpPhM7nKIWx2gKjIHGAMq7eYFa/mPeBJFsSDwx4gCk9p2A1Wgk0tjIASAUbijd4TWx8a+tbjEgaoequdnxgPMm2ZO7qcxcVDRXYTDY8ssevh/AAbCndwmM/P8bB6oPEBsby7JBnOSPuDF8vyy8YQkMJu3IiwaNHgU7XIfpNu6ursS9fQcW7s9CHhhFx041Y+/VDMmrQrlUQBJ8ShbaKHE43eglMBu9LVqqRZag4oAxgCUmAYA1u3ltCIWmQMgr9eKGp6ucC5fhGexzhyPkR3p+gnNUG6DoGxr+i+ah0rXlkD27ZjVvD8+atdf0w6UzoVB4sZNQbGZUyivXF6ylzlBEZEMmguEFEWaNUzdOeSupL+Ouyv1Jcr9w7KKor4q7v72LBuAWkhKT4eHX+wxAe7uslqMa+bBkFDz3c/Lhu5UpS5ryPtY84uiQIHY0otFVQXe9k2e4S3vr5IKEBRm4d3pkBqeEY9SrfNXU2wvaPj40RD0mEy96DRJUHyUgSdL8YyvdDZBelBV9AiPa9u7VUXwmLHzxWZAPs+RoKN0HwaJ8tq60OVR/irW1v8XXO16QGp3L/gPsZEDsASeVPBPrG9MVqsJJsSybIGMSW0i1MzZ5KsClY1TygdB4ZlTqKUakqf3riI4X2wuYi+6h6Vz159jxNCu2mvDwa9+xB9shYMrpiSvLvTwM6GrfdTvlbb7UMejzUrVwpCm1B6IBE1xEVfL+7hLvnb2JLXjUr9pZxzczVbMmrVj9R6Q5YeNuxMeLVeUrLurry33/en1VfCYd+Vo5xVBwAnV4Z9lK+X9087anJDuV7vON1pe2/FpU0uBp4ecPLfLrvUxwuBzsrd3Lrd7eyt2qv6rm6hnXl5REvkxycDMDjgx9vt7PN/s5mtnn15ZaQCLOEqZ6rcd8+Dl1zLXm33U7+HXeQc9XVNOxp5c+9n3GVlVG3di31Gzbgqqry9XLaRq9HCvbetNAFWH2wGEEQtCYK7Taqa3TyvxUtC1CPDD/u1aCAqzqsHB05XtkeZQiLmqxhEBQDS5+Ckh1wYBl8cQ+E+vHOWGAUdBvvHY/w3xHIRXVFLD3c8iy90+PkYNVB1XPtKN/B7Utv55tD37CueB2P/fwYvxT8onqejig5OJmHBjzUInZb9m10ClG/O0zNkiXKBMUj3KWlVH++SPU87anxwAEO3XgTh6+9jkNXXU3+PffSlJvn62WdNH1AAFG33tIipgsMJLADjJUXBMGbODrSRjqdjkCz92+j1aTBOe2gVs5jB8eBVeWziw01sOn9ljGPS9nd9ldGC5zzqPJrO/C9cg59zD8hrrevV3bSzAYzNrON6saWn54EmtS/ELm+eD1Oj7NFbOaWmQxPHI7N7MdHitqBXqdnfOfxZEZkkm/PJ8YaQ5ewLlgMFtVzNWzb7h3bskX1PO2p+vNFNO3a1fy4ftUq6n7+GdPEK3y4qraxnnEGybPfw75sOXqbjcBhw7B06+brZQmCoAGxo91GAUY9d4xouSsaaNIzNF2D9l0x3eGs43bGDBa46FWl2FaT3qj0mP41DQq4dhXZFa54D25fA7f+BNlXaT/5UkNxgXE82P/BFrGBMQPJCMtQPZde5/3G0aAziCmKJ8hisJAVmcXo1NFkR2dr1h3Gdr53f2nbha18kuMnPE1N1P30k1e8fv06H6xGPTqTicABA4h54H4ib7mZgO7+22ZUEITf55MdbUmS7gVuRBlDsRWYDMQB84AIYD1wrSzLTZIkmYH3gH5AOXCFLMs5vlj3bxnUKYL5Nw/iu53FhAaYGN4tiu7x6g7yAMAcDEPvhowxyrns8BSI6KJ+noBQGPk4zL/mWMwaobTG83fmYIhSvxD1lVGpo0gMTuRg9UHCLeF0j+iuSYeO/jH9CTAEYDVYsRqt5NbmcmvvWwk2q38ZUjh5gWeeScStt1Dx1tvIQPi11xJ01tm+XtZJ05lMBI8cScO2bS3igYMG+2hFwh9xuz3odJLqF7IFwV9J8q/P/GqdUJISgJ+A7rIsOyRJWgAsBsYCn8iyPE+SpBnAZlmWX5ck6TaglyzLt0qSNBH4iyzLv/uZYf/+/eV16/x7x8PnnA5l/Pr+75Xz2p2G+/VwF6Ht1hWtY3necqoaqjg76Wz6xfTT5EKf0Day240zvwBkD8aEBCSDf58QbDp8mMLHn6B+1SoAbGPPJ/qBBzDGqfxJntAmDXYnh3eWs215PsERFnqenUhsJw02nAThFCRJ0npZlvu3+nM+KrRXAb2BGuAz4L/AHCBWlmWXJEmDgSdlWR4tSdKSI/++UpIkA1AERMm/s3BRaAuCunZX7GbS15Ooc9Y1x14e8TIjk0f6cFX+w+lxcrD6IEV1RUQFRNEppBNmg/mPnygA4K6poenQIdDpMKWmog/082NsHdC2Ffks/2B382O9UceEB/oRlSw+9RI6vt8rtNt9q0OW5XxJkv4NHAYcwDcoR0WqZFk+OnouD0g48u8JQO6R57okSapGOV5S1q4LF4TT2IbiDS2KbIDXN73OwNiBmvTS7khkWWZ57nK2lW1rPuueGJTIBZ0uwKRXf/S2u6aGxoM5IMuY0lIxhPj/rqLeZiOgZ09fL0P4DY7aJtZ/ldMi5nZ6KM6pEYW2cNpr90JbkqQw4CIgDagCPgS8b/D8+de9GbgZIDk5ua0vJ7Snhmoo2alMuwzvBFFdfb0i4VeaPE1esQZ3Ax7Z44PV+Jc8ex759nzm7ppLvases97MTT1v4lD1IbqEq3vHoikvj6Inn2q+QGgddAZxTz+NSfydKGhJAl0rA9p0enFOWxB80XXkXOCgLMulsiw7gU+AIUDokaMhAIlA/pF/zweSAI78fAjKpcgWZFl+U5bl/rIs94+K8t9xzaed+gr49nF4ezTMvQLePAsO/ujrVQm/0je6Lwap5fvyG7JuIMSs3W6pw+noEIV8uaOcN7e8Sb1LGTTV6G5kxpYZlDeqPGgKsC9b3qJLR/2q1dR++53qeQTheAFBJs4Yn9YiZrLoiUkVrT8FwRe3ZA4DgyRJsqIcHRkJrAN+AC5F6TwyCVh45Os/P/J45ZGf//73zmcLfqZoC6yfdeyx0wFf3As3LIHACHVzedxQvE0Z8mMJgdheENxKb3LBS4/IHrwz5h22lW2j0d1IRngGvSJ6aZIrvzafr3K+4uuDX5Mdlc3lGZfTNdx/P+VodDVS01TTIubyuKhvqlc9l/1H7zeptct+IGLKDarnEtrG09iIMz8fyWDAmJiIpPPvbrspvSIZd0cv9q0rISjcQqfsKCISWmkTKwinGV+c0V4tSdJHwAbABWwE3gS+BOZJkvTskdhbR57yFjBbkqR9QAUwsb3XLGiottg7Vr5XOU6idqF9YBl8cJlScAOkDIMJb4ItXt08AI5K5ThMox0iOis//FhuTS7PrHqGPZXKOO8AQwCvjXyN/rGt3v04aQ6Xg5c3vMzXOV8DsLtyNz/k/sDssbOJD9Lgv1M7SAhOINgYTK2ztjlmkAwk2dSftBo0dAh1y5e3jJ3tv+39jmrYuZOGHTtArycgKwtzuv9OdAXliE/ptGnUfPElktlM5G23EXbF5ej9+Dy9OcBASlYkKVkazJAQBD/mk75Psiw/ATzxq/ABYGArX9sAXNYe6xJ8IDzNO5Z6FgRFq5unrhwWP3CsyAY49CMUbla/0K4thiWPwLaPlceWELjmE0hUtyhtT2uL1zYX2aAUxDO2zGB65HRVJxzm1+Y3F9lHlThK2F+1328L7cTgRJ4b9hwPrngQh8uBUWfkycFPkhqSqnquoOHDqV36fXMrvIB+fbGNGqV6nvbk2LyZQ5OuR25oAEBns5Hy3ruaTVJ0lpbirqrCEB2t2UXS6k8/o2bRFwDIDQ2U/uc/mLt2IXj4cE3yCYLgO/7dYFXwfzFZMH4aLPkbNNVBdJYyGt2s8keOznqoOuQdr69UNw9A4cZjRTYou/Pf/B2uXqAMzPFDubW5XrGc6hzKHeUkBCe08oyTo5N0GCQDruYGRAqDzr//qjo78Ww+HPchxfXFRAREkGJL0eTXZEpKIuHll2nKOah0HUlNxRDmv73OZY+HijkfNBfZAJ6aGmqXLlW90JZlmbpffqHwb4/iKi7G1LUr8c/9g4CsLFXzuKqrqf7iC694/br1otAWhA7Iv797Cdqzlyqj3i0aFYgmK/SdBPF9obEawjpBiHqFW7OgGMiaAFvmH4tJEkRqMFmzptA7VrhJKbj9tNBubaz78KThhJnVLeKSgpO4JvMaZu2Y1RzLDM8kPdS/jwpIkkRKSAopISma5zKEhmDIztY8T3uQ3W6cud5v8pz5Barnajp4kLzbbkdubFQe79lD/r1/JXXeXAwR6h1j01mtWLp3Rx8cROCQIchOJzVffY05LVW1HIIgnDpEoS20rqYQNs+Ftf8DaxSc+wSknQV6o7p5nA2wcyEsfhAaqiDpDGWHW+0plAYTnP0QuJtgx2cQGA3nv6BciFRba+exu46BQP/thpMZnsktvW5hzs451LvqGZk0kvNTz8dqsqqax6g3MilrEllRWawsWElmeCaD4wdrMlZeOPXpjEZCJ16BY+PGFvHg0eofh2nKzW0uso9y5ubiLChQt9A2GgmffD2V775L+cy30FkshF17DQF9+qiW43gVBXXs21hCycEa0vtGk9Q9nMBQMSxJENpLu0+GbA9iMqQKVrwI3z997LGkUzqBJHkdo2+bvHUw81fTBTufC1e8ByYNpr85G6C2EIwB2nUcaahROqn88Cy4GpXd+otfh2htzpS2hyZ3E6sKVrGzYicSEuGWcIYmDiU20L+7ttQ76zlUcwiXx0WKLQWbWbQjO9W4KiqoWfwV5W++gWQ0EnXXXQSNHIk+SN3jZY4tW8i5/IoWMclqpdOnn2BKUfeTiLIZMyh9eVqLWNKbbxJ01jBV89SUO/jsxQ3UVhx7A9H73CQG/6Uz+lb6XguCcHJOqcmQgh+wl8CaN1rGZA8UbFS/0C7f7x3b/51yoTCik7q5AIyW1i9gqslig8G3Q8b5ytnwkGSw+u85WYCtZVu5/fvbW8Tu638f1/e43jcLUkFJfQmvbHiFhfuVTqJ9o/vy9JCnSbFpf7yjI/A0NtK4fz+u4mKMsXGY0jujM6r8iRdgCA8n/JqrCR4zGkmnwxAernoOAFN6OuE33UjF/2Y2x2L//hhGlYf9uGtqqP5soVe8bt1a1QvtioK6FkU2wNbv8+gxLIGwGHU/jRIEoXWi0Ba86c3KMQf7r1rvWTTY7WvtOEVYmt+eZW6m02tz/ttHNpZs9IrN2zWPizpfRJjFP99ErCla01xkA2wo2cBn+z7jrj53IUliot3vkZ1Oqj/5lKKnnwZZBp2OuGeeIeTii5D0ek1yGiO1bRunt1qJvPlmgocPx1VaijExEXPXrqr/WZAsFkxdutCUk9MibkpSf3pnB/zAWhD8jvjsSPAWEAIjn1AuCx5lS4SEAerniusJWZcee6w3wriXIMjPz+R6PMpufdE2cFT7ejVt1tqlxyhrFGa9/571XFfkfbxsee7y5gmOwm9rPHiQon/841gl5/FQ9NRTNB1qpbOPH9EHB2Pt1w/bmDEEZGWhM5lUz6EzmYi86SZ0gceOxpm6dCHwDJU/LQQiEgIJDGv5/2jW8ARsEeq15BQE4feJHW2hdZ2GK2ey89ZDQBgkDoBIDTo/BEbB2P+DfpOhoRLCO0OU/55lBqCxFjbOhqVPK5MukwbDhdMgyrtzh7/oF9OPGGsMxfXKpxx6Sc/tvW/HavTfj59bOyLSI7IHOrH/8IdcZeXgatmCUW5qwlVWhrmTBke+OpiAXj1JXTCfxn37kEwmzBndMMXHqZ7HFhHAhXf2Zs/aYooOVNNlQCwpPSLQG8SfcUFoL6LQFlpnMCkdQJLO0D6XNRzShmqfp70UbIKvHzn2OHclrPg/uOhVMPjnDnBqSCozR81kW9k26px1dI/oTmaEyp1h2llsYCz9Y/qzrljZ2U61pZIdle33Pbvbgz7Qii7Qiqfu2O6/zmZDZ9XgAnM7c1VW4q6pwRARofqFy+OZO3fG3Fn7ibHh8UEMukiMQhcEXxHfUQRBbeX7vGO7voRzn4SQxHZfjlpSQ1I1mWbYmnJHOcV1xYSYQ1QdiHO8NFsasYGxTO09FRmZCkcFybZkjGq3sOyAPC4XkXfeSfmb/8NdUYEhKorwKVPwuJy+Xlqb1K1dS9ETT9J04AAB/fsT++jfsGT69xtKQRB8SxTawumlqQ5q8sFo1a7oba1tYExPZRS78Ie2lm7lwRUPkmfPw2ay8cTgJxiRPAKjTt0CuFtENyZnTWZ90XocLgcXpV9Ej4gequboqIzR0RS8PwfbBRegCwzEU1tD5QcfkDzqPF8v7aQ15uSQe8utyPXKLr1j3Try77uflPffxxDunxd+BUHwPVFoC75XXwmlO8Fx9Ix2RsuLmGop2wtf/w32fwuWUBjzL+h+odJTW03xfaHbONh1ZMyyKQhGP+v/nVTaQbmjnId+fIg8ex4ANU01PLjiQRaMW0DX8K6q5+sa1pWuYeq/bkdnSkoi/p/PUfjI33Dm5WFMSyX++X9iio/39dJOmvPw4eYi+6imAwdwFuSLQlsQhJMmCm3Bt+rK4NsnYNP7ymODBa76EDqdpW4eVyOsfRtSBkN8L9CboGA9hKVCssrn0INjYPwrMOg25WJkRLo2F0nbmSzL5NnzcLqdxAfFYzGo37mgtL6U3NqWI7fdsps8e54mhbZw8gIHDCB1/jxcFRUYIiI062/dXnQ27/alksWCLlCcbxYE4eSJQlvwraKtx4psAFcDfHmv0vEkUMW+ufZSsMXCd08ca0kW3R06j/z9552swAgIHKLNa/tAbVMtn+39jP9u+i8NrgZGpY7i7r53kxScpGoem9lGqDmUqsaqFvEIi3ojsDs6d10dzkOHkGUZU0qKphf6DBERqo4n9yVzejqhV11J1Qdzm2PRDz2IKUX9/taCIJw+RKEt+Ja9xDtWvk8ZY65moY0H1vyv5QSHkh1QX6Fijo5rS+kWXlj3QvPjJTlLiAuM495+96KT1GsVZpSM3NTzJl5a/xIuWWkfd1nXy/y6X3d7aioooPj5f2H/5hsAgoafTcxjj2FK9N9LuO1FHxRE1J13YRs1CldJKcakRMwZ3ZB0ohWeIAgnTxTaKqppcGLQSVhN4rf1hIW30nO30wgIilY5keQ96RKUHXStVOcrly/DO4Hev/9MbCvb5hX76uBXXN/jeiIC1NvRLGso44NdH3Bzr5txyS5MOhM/5f9EQV0B3SL8vL96O6hbvqK5yAawL1uOdfBgIiZN8uGq/IchLBTDoEG+XoYgCB2If3/3P0VU1DXy7fZi3vzxICEBBu4e2YXBnSMwGbQZRdyhxGYp/aW/flg5zxzXG0b/A8wqf9yt00PmhbDto5ax1jqEtJXTobTzW/o02Iug5+VwxlSI9d+OFglB3i32MsIyCDSq2zc53BJOo7uR1za/1iIeY41RNU9HZV+x3CtW+913mhTanoYGGvfuxVlcjDE2FnOXLujM4pMHoX047E24mtxYbWYxgEc4pYlCWwXf7SjhoU+2Nj++ftZaFtwymAGp/n05qF0YA6DPNZAyFJrsYEsAq0Y3/MNSoNflShFsi4d+1yuj0tV2aCV8cuOxYyobZ4Okh7H/BoN/9mjuE9OHXpG92FK2BQkJq9HKrb1vVf1CZExgDM8NfY57l91LnbMOvaTnwQEP0jlU+8EeHYH1jEHYf1jWIhY0RP1hUB6nk6oFCyh+7p/NsdgnnyT00glIBvFtRdCOxyOTt6uCH+fvoaa8ga4DY+g/JpWQaP+dUit0bOJvxDayNzh566eDLWKyDD/uLRWF9p8Rnqrt69vilZZ+uxdD30lQVwI/TYNJi9TPVbqz5VlwgO0fw+Db/HYMe0JQAk8MfoJt5dtodDXSNawrPSK12aEfHD+Yj8Z9RFlDGcGmYJKDxRCZExV8zghqvvqKhs2bAbB0707wmNGq52k6cIDif73QIlb8j38Q0L8flnT/77AjnLrK8+x8MX0Lskf5O3bXL0W4XTLnXNsNg1F8iiycekSh3UYGnY4wq3cREBLQAQoDtwtqC5Wx4aqfmfaB7CuVX8fG2RCVCVd/BNEanPs1e7cJIzgOTP47nvpQ9SHu/OFOCuwFABgkA2+c9wYD4waqniunOoc5O+fw3eHvyAzP5Lbs28iKzFI9T0dkSk4m6fXXaDpwAFmWMaelYYhU81Kxwl1ZCW53i5jsdOKuqlI9lyAcr6KwrrnIPmrf2mLOGN+JkCiVZyIIggpEod1GFpOeO87pwpq3V3P0/32bxcCZndX/5tauqnLhl+mw/m2wRsDof0LGGPWHu7SnwCjoPRF6XaHNQJyjIrtAVDco3aU81unh7IdAxUuD7W1DyYbmIhvAJbt4bdNrZEVmYTWq95FtnbOOf675J78U/ALAj/k/srl0M3MvmEuyTbRZOxGG8HDNe1ob4+OViZB1dc0xfWgoprg4TfMKgtnqXbYE2EwYTOKctnBqEoW2CqJtJh4b152DpXVYjHrSIq2EWPx4R1uWYd3bsGaG8ri2ED66HiZ/BSln+nRpbeaohupcZQR7eJo2BXfpLhhyLzjrlIuRIQmw5SNIHgQm/2yzVuYo84oV1hXS6G5UtdDOr81vLrKPqmmq4WD1QVFon0JMyckkvDqdwgcfwlVSgiEujoQX/oUxwfvSrCCoKTIpiLj0EAr3VSsBCc66oiuBIeIirnBqEoV2G7ncHt76MYf563IJsxpxumXsjS5eurw3fwnzz6KKuhLleMWvFW7270K7ZBd8fgfkrVUK7VHPQq+JYFb5SIctAeZcCjqDcuymqU5pWWgJVTdPO+oT3ccrdlnGZYRZ1L24atKbMOlMNHmaWsQDDH78SUoHFTRoEKkffYi7ogJ9RATGqChfL0k4DQSFWhg1pQelh2ppqHcSFhtIVFKwr5clCL/phD5rkSTpEkmS9kqSVC1JUo0kSbWSJNVovTh/UNfkYvXBcgAq653YG5UhGzuL/Pi3x2iF0BTveKAffyNtcsB3TylFNoCzHr78KxRtVj9XfDb0mwwel1JkB0XDuU+o37KwHWVFZvHS8JdIDErEZrIxtfdUxncar3qepOAkpmZPbREbHDeY9DD/vmDX5G5iR/kOlh5eytbSrThcDl8vSRXG6Ggs3bqJIltoV0FhFtKyo8g8M57YTiHojeLYiHDqOtEd7ReA8bIs79RyMf4o2GxkdI9Y3lhxoEW8b7JGLeragzlYKQzfvwSMgcpQl7A0SOjv65WdvPoy2Pu1d7zigPq79IFRMOoZ6HOt0rIwvBOEqjuqvL1ZDBbOTTmXfjH9aHI3EW2NRtLg2I1ep+eyrpeRGZ7JzoqdJAUn0TuqN+EW/+3g45E9LD6wmMd/eRwZ5SLHPX3v4erMq1VvjygIgiCcWk600C4WRXbrdDqJiQOT2JxXxaoDFegkuP7MVPqn+G9hAEDiAJg4D/LWQEAYJA/WvgWflszBENMDira2jAdpNAiloVqZRNlYAxab0l5Q5/+tp9Q+KtKaEHMIQxKGMCRhiOa52sPhmsP8Y/U/motsgGkbpnFm/JlkRmT6cGWCIAiC1k600F4nSdJ84DOg8WhQluVPtFiUv0mLDOLNa/tzqKIOo15HWmQgZn+fCnlgOcy94tjj4Dil53RkF/Vz1ZVB8XZwVEJEOkR3B53KHwUGhML5L8D7E5RjIwBZE5RJlGqryoX510LhRuWxTq+0Eux8jvq52lG9s55DNYdodDeSHJxMeICfv5lsJ9WN1TS4G1rEZGQqGip8tCJBEAShvZxooW0D6oFRx8VkQBTaR9gCjPRMCPX1MtTRUA1Ln2oZqy2EvHXqF9r2Ulh8P+z4THmsM8BVCyB9pLp5QDkicstyKN+nXEyM6gZWDYrFwk3HimwAjxuWPAaTFysFvx8qc5Tx+qbXWbBnAQDpoen8+6x/0znMvyc2Hqg6wLbybTjdTrpHdKdbeDfVj8TEBsYSGRDZonNLgCGg1bH2giAIQsdyQoW2LMuTtV6IP/N4ZLYVVLO9oIYAo45eiaF0ivLfi2+4GsHRym5bY636uYq2HCuyQblA+MVf4cbvIEiDC1aRXZUfWqpv5feu+rByMdJPC+0tpVuai2yAfVX7eHfHu/x90N/9dmrj3sq9TFkyhcrGSgBMOhMzR82kT4x3h5W2iLBE8Lcz/saL614k355PVEAU9/S9hwiz//ZVFwRBEE7M7xbakiQ9KMvyC5Ik/ReQf/3zsizfpdnK/Mi6QxVcPXM1TrfyWxQVZGbuzWeQHu2nLYeCopWuGcv+eSym02szPrzOuz8zVTlKUa9Fod0eols5d9v7Ku3Og7eD3RW7vWK/FPxCTVMNEX46iOen/J+ai2yAJk8T7+54l56RPTHo1et8urNiJ0/88gTnpZxHhCWC2qZanl/zPLGBsZpM1hQEQRBOHX/03eToBch1Wi/EXzU63bz6w77mIhug1N7IL/vL/bfQrq9Qjo8Mvh12fgGBEZB1KdhL1M8Vka4MjZGPex/XZTQE+29RSmxvuHw2fP2Q8nuWfTUMmgoqFm/trUuY95GhgbEDsZlaGTfvJ4rri71i+fZ8nB6nqoV2VWMV9iY7hXWFhJnDKKkvod5VL85oC4IgnAZ+97uJLMuLjvzz3fZZjv9pcnnIr2rwihdXe8f8huyBnYuUs8XZV0JtMXz7uHKZUG0xWXDJW/DV/UqBnzpMaY1nUnmITHsymqH7hcqZcHcTWKPA4J/HK47qHdWb8Z3Gs+jAIkDpdz05a7LfHhsBGJYwjDk757SITcyYSIBR3eE4CUEJPHLGI3yT8w3vbn+XjPAMHhzwICm2VnrVC4IgCB2KJMteJ0KO/aQkff57T5Zl+ULVV6SC/v37y+vWtd8m/Lu/5PDE59tbxD646QzO7BzZbmtQ3fZPlR7Th1eBNUJpjddpBMRmaZOvOk85wxwcDxY//STgeEVbYcdCqMiBnpdA8hAICFE9TYOrgV0VuzhYfZAwSxjdI7oTbY1WPQ9AXVMdB2oO0OhqJMWWQpTVT4/2HFHvrGd53nJe2fAKDpeDKVlTGNtprOpHYcod5Uz6ahKHag81x0LNocy9YC6JwX46PVYQBEFoJknSelmWWx028kefjw4GcoG5wGpA/QkVHcD5PWOpb3Ix88eDBJoNPDQmgz5Job5eVts01cHSp489NgUqhbZWQjpQwVG6G2aNg4Yq5fG2D2H8K9Bvkuqpvjv0HY/89Ejz48Fxg3lu2HNEBqj/Ji/QFEjPyJ6qv66vWI1Wzk87n0Fxg3DJLqICtHnjkG/Pb1Fkg3KcJLc2VxTagiAIHdwfFdqxwHnAlcBVwJfAXFmWt//us04z0cEWpg5PZ0K/RAw6HeGBJl8vqW3qymHF/7WMNdVB/jrtdrQ7koJNx4rso5b9E7qeD8Hq7TYX1RXxr7X/ahFbWbiS3RW7iUzw409T2pnWQ3isBisGyYBLdrWIBxn9uDORIAiCcEL+6Iy2G/ga+FqSJDNKwb1MkqSnZFme3h4L9CfRwR1onHJrR4p+55iRcBzZ7R3zuGilcU+bNLgaqGqs8orbm+yq5hHaJsWWwh3Zd7C/ej9xQXFUOCoIMASQFpLm66X5BVmWadi5k4bNW8CgJ6B3byxdNW7RKQiCoJI/vFp/pMC+AKXITgVeAT7VdlmCTwVGwFkPwue3H4sZrZDYz3dr8idxvZWjNk11x2LD7le9k0pMYAwjkkbwQ+4PzTGDziAKuFOMUW+kb2xfFu5fyKIDi4gLjOPJwU8SZBI72ifCsWkzhydNQm5qAkAXFETK7PewZIrx9YIgnPr+qI/2e0AWsBh4SpblbWoklSQpFJh55LVl4AZgNzAfpZjPAS6XZblSUsa0TQPGokynvF6W5Q1qrEP4HZnjwGKDDe9CaAr0uQZie/l6Vf4hpgdM+gLWz4Ly/crZbA3GrwcYAvhrv78SZAziq5yvSLWl8tDAh1ptxSf4TnF9MQ8sf6C5nWBhXSH3LruXBeMWkBKiTecRV1UVyDKGMG2PxWhN9nionDOnucgG8Njt1C5dKgrtU1BNWT2VxQ6MZj3hcYFYAv23K5EgqOWPdrSvAeqAu4G7jhtNLAGyLMsn20R3GvC1LMuXSpJkAqzA34Clsiw/L0nSw8DDwEPA+UCXIz/OAF4/8k9BSwGhSou65MFgsHSMTiDtKaGv8sPjVob9aCQ1JJUnz3ySO/vcidVoJcSsfmcToW2K7EVePbvrXfXk2fNUL7TdtbXYf1hG6fTp4PEQedtUgs89F73NT/udu904CwsxJiURfN65yC43tV9/jbOwyNcrE36l5FANi17ZTEOdE4BO2VEMm9iVoFCzj1cmCL71R2e0dWonlCQpBDgLuP5IjiagSZKki4DhR77sXWAZSqF9EfCerPQhXCVJUqgkSXGyLBeqvTbhODWFsHkurP2f0gf63Ccg7Szw477J7cpRDaU7odEOEZ0hXLvjHCa9ibigOM1eX2gbm9mGWW+m0d3YHJOQNLmEWb92LQUPPtj8uPBvj6ILCsI2apTqudqDZDQScfPN1C1fTuXceUhGI2GXX07gWcN8vTThOM4mN6s+P9BcZAMc2FRKxqBYgrL9uw2oILSV6oX0CUgDSoF3JEnaKEnSTEmSAoGY44rnIuDogdYElBaDR+UdibUgSdLNkiStkyRpXWlpqYbL97HS3bD8/+CDy2HjHKjVaGdn8wew9CmoKYCizTDnUijYqE2ujsZeDIvvh7dHw5wJ8L8RkLfe16sSfCQ5OJmHBjzUIja191Q6hXRSPVf1Qu/RB5ULPlQ9T3tyFRVR+cEHyA4HnpoaymfOxF1d7etlCcdpqndRklPjFa8pc/hgNYJwavHFTGgD0Be4U5bl1ZIkTUM5JtJMlmVZkqQ/1aJBluU3gTdBGVij1mJPKVW5MOcyqDrSk3fPEhh8B5z7pLo7zfYSWP1Gy5jsUQrtpIHq5emoCjbB1gXHHjsqlcmaV80Hs7gAd7rR6/SM7zyezIhM8u35RFuj6RrWFYtB/S5FhrhYr5gx3n8/7fA4nVR98olX3L50KbbzzvPBioTWWIKMpPWKZNfKlhs/4fF+POFXEFTiix3tPCBPluXVRx5/hFJ4F0uSFAdw5J8lR34+H0g67vmJR2Knn5Idx4rso1bPgMpDrX/9ydKbwdpKH2aLn57zbG81Bd6xgg3evbWF04bFYCErMovRqaPpE92HQKM2BUjIuHFIVmvzY8liIezSSzXJ1R4kvR5zerpX3JSm/qcBwsnTG3T0HZ1CTCfle4ROLzFwfBrRqeJ7hiC0+462LMtFkiTlSpKUIcvybmAksOPIj0nA80f+ufDIUz4H7pAkaR7KJcjq0/Z8dqt9rGXU7s9MQAgMvQc+vflYTls8hHt/wxNaEd5KEdDlvNbfvKigvL6cwvpCAo2BorXfKUyWZepd9QQYAtBJ2uxxBGRlkfrBHBybNyN7ZAKyexPgx905JJ2OsCsnUrtkCR670h9eHxlJ0DkaTqkVTkpYbCDj7uhNbZkDg1GPLToAvd4Xe3mCcGrxxdERgDuBOUc6jhwAJqPsri+QJGkKcAi4/MjXLkZp7bcPpb3f5PZf7ikipjvYEqDmuA39/jdCaKq6eerLYeP7MPJJqCsFY4BScJfsgKQB6ubqiOL6wLlPK2fbA8KgKg+GPwJG9Y8KbCndwuubXufngp9JCErg7r53MzxxOBYNcgkn71D1IT7b/xnLcpcxMHYgl2VcRnqoNm9cLd26YenWTZPX9oWArCxS582jYfcuZYc7MxNzijZtEYW2sViNWJLFhXlBOJ4kd8Bpf/3795fXrVvn62Voo2QnbP0QctdAz0uhyyhlt1lN9RXwv3Og8qAyqMbdpEw2HP+K0hNa+H1uFxxcBsv+Bc465b9R/ykQmvSHT/0zyuvLefjHh1lVtKo5ZpAMvHnemwyIE2+IThU1jTXc88M9rC1e2xxLtaXy1qi3iA6MVj2f226nKScHZBlTair6YNGaUxAEQUuSJK2XZbl/az/nqx1t4WRFZ8LIx7XNYQ1XdmA/vRmc9UrMHAyJrf4ZEn6taAvkrVMujjoqwRIKO7+AM24BnXofpRbUFbQosgFcsotDtYdEoX2CqhqqOFB9AKfHSVpIGtFW9Qvfw7WHWxTZADk1OeTU5KheaDfl51P83HPYl34PQODQocQ+8TimJHXf5AmCIAgnRhTaQusyzocr58OWBcpObI9LlImH/q6+EqpzlRHpYWmqFr7N6kpg3VtK95ajzvm70ooxRL1PH4JMQYRbwqloqGgRt5nEBaQTkW/P5/GfH2dN0RpAacM3bcQ00sPUPdJh1LX+UbpBp/5fv/blK5qLbIC6n36i9rvviJh8+p64EwRB8CVxU0FoncUGGWPgsrfhvKcgvrevV9R2JTvh/UvgjWEwYwisnakMlFFbTWHLIhuUcewel6pp0kLS+Gu/vyLRPLGVQXGD6B7RXdU8HdWawjXNRTYoO88f7/0Yj+xRNU+yLZm/pP+lRWxw3GBN+mjbly3zitV+/733FwqCIAjtQuxoC75XnacctXBUQFQmxPdR/+JgkwO+e0ppswfgdMBXD0BsFqScqW6u1grqJjvIbnXzAGNSxxAXGMfB6oOEWkLJisgiIdhrnpPQiu1l271iqwtX0+BqwGq0tvKMk+PyuEgISuDW3rdyqOYQCUEJGCUjTtn5x0/+kwJ69aJuxYqWsew+qucRhNaUF9ipLKzHaNYTmRhEoBi/Lgii0BZ8rDoPFlwP+cedYb3kTeh1hbp56stg7xLveMUB9QvtkEQwmMF1bOQ22deAIUDdPEB1UzV5tXl8nfM13SO6k2pLVT1HR9U3pi/z98xvETsn+RxVi2yAwzWHmb5pOkadkZjAGH44/AMN7gYGxA4gKkDd8dT60BAsPXvSsHUrAOZu3TBEixHYgvYK9lXx+bRNuJ3KJ0KxaTZG3dSD4HD1/94TBH8iCm3ht5XuhrI9ynnm6B4QHKN+jry1LYtsgG8eg+QhEJqoXh5zMMRkKRcVjxekwa8pKFaZ1rn3W+VcdpdREJYKQeoWPC6Pizk75/D2trcBWFe8ji8OfMHs82eTbEtWNRfA7ord/FLwCxUNFZyVeBY9I3tqMt2wvfSP7c8l6Zfw6b5PkZEZGDuQ8Z3Hq55Hr9MD4PQ4yavNa47rNLgfoLNaMaWkEHT2WUrOvDx0BtFuTdBWU4OLVZ/uby6yAYoO1lB8sEYU2sJpTxTaQuty18Dsi6GpTnmcMkTZaQ5RsfgFcFR5x+rKlGMkahbaAaFw/gswZ8KxX1PPyyFOg7PnMT2gtgDMNjCHKLHO58CRgksthfZCZu+Y3SJW0VDB3sq9qhfaeyv3csOSG7A77eglPbO2z+K/5/yX4UnDVc3TnqKt0TxyxiNclXkVLo+L5OBkgs3qt8JLDk5mfKfxLDqwqDnWP6a/Jme0A4cMoWH7dspeex2AkEsnEDT8bNXzCG0jO504du6kaf9+JIsFU+fOBHTt6utlnTRno5vKonqveF1VYytfLQinF1FoC96a6mDp08cKUoBDPyvnqNUutINiIC4buo5WzjA31ipDcgwanO1LGQw3L4fy/WAJUc6DW0PVz2MwQbcLIOkMcDZAcCzoNfhfTaLVCYOSJLXyxW2zsWQjV2RcgV6nx+l2EmwK5qPdH9E/pj9BpiDV87UXi8FCRniGpjmsRit39b2LM+LOYGXBSvpE92FIwhDCLGGq5zLGxBD90EOEXXUVsixjSkpCZxbnZE819Rs3Uvi3R3HmKZ9wWAcPJvr++wjo4Z+dnQKCTXQdGMOWH/JaxCMSRQ93QRCFtuCtsVaZAtlllLLj63HBjoXKeWq1BYQru70r/g9kj1J4j3sJAjU6VxrZRfnRHgK1Gbl+VHxgPJOzJjNj84zmWIw1hq5h6u+MhVvCeWPLG5TUK91U9JKehwY+hNuj/gXPjig2MJaL0i/iovSLNM+lM5kwd+6seR7h5Ljr66lcsKC5yAaoX7kSx6bNflto63QSvc5JwmFvYu+6EswBBs68pDMxqaLQFgRRaAverJEw5l+w/h2lADZYYMAUSOirfi53I/z0HwhNUc6AF21Vcl67UP1cvuDxaNOrG+Xs78SMiaTZ0vjm0DdkhmcyMmUkicEqf+oAlNaXNhfZAG7ZzRf7v+CiztoXjsKpyVVWhmPLFhoPHsTcuTMBPXtiiIjw9bJOeZ66Ohq2bPWKN+7f74PVqCckKoBzrstk4LhO6I06gsP99/6GIKhJFNpCK2TI+VE5LgLgaoCVr0LnkeqnqiuFkU9AxX6oyoUz74SyfVBfDgEh6udrL/kbYMO7yjGVfpOg0zkQqH4REhEQwdhOYxnbaazqr308u9O733h5QzmN7kbVu3QIpz633U7Jyy9T/dHHzbGwa64h+r6/ogsQl99+jyEigsAzz6Tq8OEW8YBePX20IvUYjHpCY8TfB4JwPDGwRvBWXw67FnnHS3aon8sWDyunw8b34eByWP6CcnzE6sc7Y8U74N1xypCanB/h4xth24e+XlWbpId6T0u8IO0CzaZQOj1OSutLcTgdmry+0DZNBw+2KLIBKufMoelgjm8W5EcknY6wiVdgPu6YSMgll2AdNMiHqxIEQStiR1vwZg6G2N5w4IeW8VD1W8ZRW6QU9sfb8C4Mvk39HW1ZhtKdyo65JQSiu6vecg+Aws0tL5ICrPg3dP+LNi0S20FRXRH39ruXhfsWUt1YzZi0MdQ566hqrCIiQN03RTnVOby7/V2WHl5KZkQmd2TfQc8o/9/t60g8DQ3eQVnG0yDeGJ0IS7duJL81k8b9+5FMZizpncUnAYLQQYlCW/BmCoRzHoP89dBYo8Q6nQMJ/TVI9lsdMtTvnEHOjzDn0mODZDLOh3HT1C9+W+kEorT20+DX1E7CLGG89MtLnJ14NsGmYL479B09I3sSZFS344i9yc4/Vv2DVUWrAPil4Be2lm5l7ri5pNhSVM0lnDxDdDSG+HhcBQXNMVNqKvroaB+uyr8YQkMx9Ovn62UIgqAxUWgLrUvsDzf9AGV7wRwI0ZnadAKxxSndOerKjsX636D0vVZTfSUsfrDltMbdX0G/yRA8Wt1c8b3BEgoNVcdiw/8Gwf5bhGRHZ9M7qjdf53wNQKg5lJt63YRZ5TaMBfaC5iL7qFpnLTnVOaLQPoW4ysoIv+Zq6latpmHbNgJ698barx/usjJIVP8yriAIgr8ShbZKnC4PBdUODDqJhLAOchkkMl35oaXKQzDoNqjMUdoHJg5QJlLaS5UjLGppskP5HjBale4pdaVKnrpS9XIcFdUNrv8Ctn8KFTnQc4Iy8MePxQbG8uCAB9lTuYcGVwOdQzvTJVT9NolmvRmz3kyju+WgiwANxtd3ZM6yMpBljFHatMnUGQyUvPB/BPTpQ/C5I2nYvYeSf/+b1I8+0iSfIAiCvxKFtgryK+t5fdl+5q3NxWLUc/+orlzSNwFbgEmbhPUV0GhXzhcb/bwAMVqV4TghSRAUDT9PU1r96VUeGx0YBcMfBXcD5PykjGPvcy1EajSsJLan8qMdeGQPlQ2VWA1WAjT687C/aj83fnMjFQ0VAEhIvHbuawxNGKpqnsTgRG7Lvo2X1r/UHBsaP5QuYe3U+9zPuWtqqFmyhLL//hfZIxN521RsY8diCA1VNY8pLY2gkSOxL12KY+NGAGzjxmFKS1U1jyAIgr8ThbYKPttUwPurlVZN9kYXTy7aQWpkIMMzVD4qIB9pu/fl/crubMYFMPJxiNJ2sp2mPC7oeRls/RCqc8EUBP0nK6PZQ5PUy2O0ALLS1eSovd/A5K/Vy+EDebV5zN89ny8OfEHnkM7c0ecOsqOzVc+zoXhDc5ENICPz2sbX6BPdh0BjoGp59Do9l3a9lG7h3dhbuZf4wHh6RfXSZIpiR1S/eg1Ff3+8+XHx08+gDw0lZKy67R/1Nhuxjz1K/ahR1G/ehLVPX6wD+qMPVO/PwvFkpxNnQQHodBgTEpA06k0vCIKgNlFot1GNw8nH670nJq46UK5+oV26q+Vlvl1fKOeAr5yn7jGLduVROo+M+Bu4neBxK11Hup6vbpqaAmW3/HiNtVCyE2Kz1M0FylGV0r3KP8PT1B9dDzS6Gnlt02tUNVZxSZdLqG6s5r5l9/HGeW+QHqbukZ/W+mhXNlbidDtB5Q8fbCYbZ8afyZnxZ6r7wqeBqkXebTmrPvpY9UIbwBgXR8hFFxJy0YWqv/bxnEVFlL/9DpUffICk1xNxy82ETZyIITxc07yCIAhqEIV2G1mMOjJigjlQ1rKdW2qEBjs75ftaXuYD5RhEdZ5yWdEfJfSDtTPhh+eUx5IEl8yE8FSVE0lHOn/8mqxyHpSLnd//A9a/rTwOjoWJHyi/VhUV1RfRJawL3x/+nje3vEmEJYLrul9HXm2e6oV2n+g+SEjIx/1+XZN5DaGWUFXzdFRuj5tDNYcoqi8iMiCSNFsaRrWPRwGmZO9Pgcwp/n2JtPb7H6h87z0AZJeLslf+i7lTZ2xjVL7ELAiCoAHx+VsbmQx6bhnemSDzsfcs6VFBDOqkwcAVSyt9pS0hSjs+fxWWChfPgEvfgQtegklfQKYGO2TGAOh/Y8uYNUIZjqO2w6uOFdmg7Nh/95R3b+028sgefsj9gU2lmwBlUuO0jdPQtdZesI16RPZgxrkz6BXZi8TgRB4Z+AhjUseonqej+iH3By5bdBm3fHsLly+6nM/3f658GqCykLFj0QUf+3RLF2glZMIlqudpL56mJqo/+8wrbv/++/ZfjCAIwkkQO9oqyE4K5bPbz2RPsR2TXkdmfDAJoRp0HonuDpnjYedxHw+P/qc2g2TaU1iK8kNLjbVQvPVYf/DgOOU4R23BHz/3z6o65B3LWwvVBRCl3qW+OmcdG0s2toh5ZA+lDvU7qRh1Rs5MOJPs6GxcHhc2szYTITui3JpcHvv5MZo8TQC4ZTfPrHqGnlE96RrWVdVclu7dSZ37AY7t20GWsXTvjqWrujnak2Q0EpCVRcOWLS3i5m5+fC9FEITTiii0VZIeHUx6tMbnpAMjYfTzkH0N1JdCWCeI76Ntzo4iMBJ0Rlj2vHLMpmAT1BZqcxmytfHxiQOUYzEqsplsRAZEUuYoaxEPNYeqmueo7WXb+Trna8ocZVzQ6QL6RvfFauwgrSw1VN5QTp2z5acZbtlNaX2p6oU2gDk9HXO6xm0524kkSYRedhk1ixfjrqoCwJCYQNDw4T5dl9A6e1Uj1aX1GE16QmMDMZlbO64nCKcXUWj7k4YaWPs/+Pll5bHeCFd8AF1HqZ+r0a4cgdi5CGzxkDEW4vx4DLYxAEY+Bo5KOPSTcnl0/H8hrrf6uczB0Pc62Pg+yB4IS1OOw6g8hCfZlsyD/R/k4Z8exiN7ADgn+Rx6RPRQNQ/A7ordTF4yGYdLGbH9xYEvePHsFxmVqsGfvQ4mKiCKEHMI1Y3VzTGjzkhsYKwPV+U/LJndSJ0/j4Y9e5H0OiwZGRgTEny9LOFXyvJqWfz6VmrLGwDoMSyegeM7YbVp1OZWEPyEKLT9SfH2Y0U2KF06Pr8Dbl6uTFhU094l8NENxx6velXZ/Y3prm6e9hTVDa6cq1weNVmV8+Fa5Vk3C85+UCm07aVgDVd21VWWGZHJ44Mep7CukEBjID0jexIdqP4EynXF65qL7KNmbJ7B4LjBBPttxxsorS9lX9U+XB4XnUI7kRCkfgGXEJzAC2e9wAPLH6CmqQarwcozQ54h1Zaqeq6OypSSgsnPL3V2ZC6nm7Vf5DQX2QDbfywgtVckqT3V/3tPEPyJKLT9SV2Jd8xeDI4KdQvt+gr4/tmWsYZqyF/n34U2gMUGFo1/DRGdYcxzSkcYezFkTVBG2qvM4XTwf2v/jxX5K5pjBsnAvHHzyAhX9wyrx+Pxirk8rhZdSPxNbk0u9y+/nx0VOwCIDIhkxrkzVP+9Azgz/kwWjFtAiaOECEsEScFJSCofJRIEX2moc5K/p9IrXlVcD378QaggqEF0HfEngZHe53yjuim7pWqSPeBu8o5r0CWhw4rsogzeGf4wpA3TZIJncX1xiyIbwCW7yKnOUT1X35i+GHUt29Hd1Osmv74UuapoVXORDVDmKGP+7vm4PW5N8iUEJ9Anug/JtmRRZAsdiiXQSGKm91Cp0Bhxh0MQxI62P2lywIhH4edXoLEGwjtBv0nK2e1gFXe0AyNhyL2w+P/bu+84KaurgeO/O31mZ7Y3ti+wlKUXQVAURAGVWCJR0Sgae3tj1BjLG6OJaRpj1NiNBSuWGHsXRFREepW6wPbed2d3yvP+8WxlVvPq3meHgfv9fPYDc9nd8wDDcOY+555zffeaxS69D7TSP06Lk2xPNsdnH4/ZZMZqsvJ50ee4bW7psTLcGfx5xp95r+A96tvqOS7TmFrwgbS9envI2vqK9bQF2nCZVILw3/irq2nduJH2vfuwDc7FOWaMGiJzmLJYzUw+KZeqwibqK1pBwNiZGaTkRO4bcUWRRSXakcRkhqqdcMr9+uAas1VPuofJn/rG6J/qZRarHoeYLDjyMmMODg4kTdOna1bt1PuPp4wypG56oKREpXD95Ou5ZcUtXZMbFw5fyOCYwdJjbazayA2f3cDwuOG4bW7uXXsvpc2lXD/5esx9DgI6+E0ZNIUlO5b0WpuXO091Uvl/CDQ3U/mP+6h75ZWutbjzzyf5V9dicsq/e6Mc/BLT3Zx+/UQaKlux2M3EJjux2lWKoSjqX0EkiR+iJ4uvXKA/Fib4yf3G9KB2xcPYMyH/ND3BNzKZqtsPRWv0GvSU0ZA+0ZBSC/Z+3nuE/fCTYf694DFgaE1rHdQVQdCn/1ka8HdU01rDPWvu6TUe/cXtLzI3dy6D3HIPx26p3gLA9truXeAP933IRWMuIsEpdziTL+BjV90uipqKSHAkkBeXh8cm/8DlpJRJ/GL0L1i8ZTF+zc/cnLmclGvAm9ZDUHtBQa8kG6D22WeJPf00HCMjdEqt0m9RMXaiYuzhvgxFOaioRDuS1BfBppe7H2tB+Ph3MGSWPnzFCBaDWzPVF8OS86G0x+CV0x+DcWfJjdNSC+/+pvcI++3v6KU3HsmjnJsqoHSjntg3lkHuMfoB03S5Pc/r2+vZ1xA6HKe8uVxqHIDs6NA3CqMSRuG2yi9T+WT/J/zm8990tSw8P/98rhh3hfSSmARnAj/N+ynD4obhC/oYGT+SDI9B/44OMcGWltBFTSPY2hq6riiKchhTiXYkaelj4l9LtV6j3cd09ohQtrF3kg3w4S16ciqzk0p7E/RRk0uz/CmKVO6A/1wGzR2DZDa+BPP+ConDwB4lLUy8PZ7hccN77TIDhrSom5A0gSmpU1hVtgqAGHsMl427DLtF7u5VcWMxf1j5h64kG2Dx1sXMyZ7DuGS5pUt76vZw2UeXUdZSBug17/+a8y/GJKk2Cf+NLTsHS1oa/pLuyarW3BysWRE+pVZRFEUy1XUkksQPDi3hGDReHygTqdqbQ9daa8HvDV3vD1cC5PWxcy3zEGmnym+7k+xOXz0A9fulholxxHD79NtJcemlL1aTlZum3MSwePnTBlPdqdx1zF08MecJHpz9IC+e9CL5CfLbJDa2N9LQ3hCyXu2tlh7ry5Ivu5JsgFZ/K4u3LsYf9EuP1R5o59vqb/l0/6dsrtqMV/bze4BZU5LJfOgh3CecgDk2Fs9JJ5Jx331YEyP3zIOiKIoR1I62JHsqm9hZ3oTdamJEqofUGANqjJNGws+ehbd/qe/EDpoApz4gfeLggEoaDmZb73aCYxdCtORd2dYamHiBnsTv/0o/DHn0r0AYUHse7KMNoq9Fr6+XzGF2cObwM2kPtGM1Wcn0ZGIRxvyzTnAmSK/HPlBKVAq50bkUNBR0rVlMFjLc8ks69jeEvvEpqC+gPdCOxSTvzzCoBXmv4D1++8Vvu/qOXz/pehaOWCj9jsBAcowYTvrf7iZQX485JgaT3ZjfS9DrpWXNGupeeRWT3U7szxbgHD8eYVH/fSmKcvBTr1QSbCqu59wnVtLQqu+E5Q+K5uGfTyQ7QV6ZAABmC4w8GdLG6wNkotMiO8kG/fDjea/DR7dD7W4YtxCmXCq/NlzT4JM7ICYdjvk1+Frh60fhhD/IjQOQlA8WR+9d+SMukT6Jsqm9iTtX3smaijVdawLBiye/yKhEY1rvtfha8Gt+om3GtO3SNI3z8s/jhW9fYFfdLhIcCVww6gJMJvk3347OOJoXt7/Ya+2MvDOkdx3Z37CfO1fe2Wu4z9/X/J0jBx3JiIQRUmMB+IqL8e7cCZqGPS8PW4Zxdecmux1TsvxJpD21rF5N4cWXdD2uf+stsp97FtfEiYbGVRRFkUEl2v3U7g/w6Ge7u5JsgK2lDXy9p0Z+ot0pJl3/GAiBAJhMoYNyZBECco6G81/X66ijko3rcFK5DSq2wM4Pu9d8fZSu9NegMfCzp2Hts9BQBGN+BjnH6GPfJapsrWRNxRpsJhuDYwdT2VJJtbea/Y37pSfavqCP1WWreXjDw9R6a/n5yJ9zfPbx0ne4K1oq+NOqPzEnew7HZR1HQ1sDj296nKzoLIbGDpUaa0LyBH575G+5f939tPnbOH/U+czOni01BkBdWx3eQO9SEQ3NkHKYtl272X/5ZfiLigGwpKSQ+cTjOPLypMcaCJrfT80zz/ReDAZpeO99lWgrihIRVKLdT62+AFtKQmtKd1c29fHZEaSlFnZ/CqufhNgMfUfWgDHiXewe/cMorkS9RnvHe73XE+XXM+OIBWsUxOXq49iFGdzyd/3cVjdn5J1BsiuZLdVbGJ80ngRnAtFW+bvNW6u2cvnHl3cdUrzz6zsJEmThiIVS43jsHlwWF+8WvNtrPcEhv2TFY/Nw5vAzmZk5k0AwQEpUCiYhf+c8NSqVBEdCr8TaYXYYcmi14cMPupJsAH95OfVvvYXjuuukxworAydrapqG1t5uWCmMoiiHl7AdhhRCmIUQ64QQb3c8zhVCfC2E2CWEWCKEsHWs2zse7+r49ZxwXXNfYpw2Thsfehhxam6ET0jb+jq89gvYtwI2vARPnwylG8J9VT+ezQnH3w4ZR3Q8joKT/w6pBgzhKV4Dz/8UVv4TvrwfPrhZf8MiuUZb0zSibdE8vOFhlhct56XtL/HqjlcNGbiytmJtr04goHcDqfPWSY2T7k7nd9N+1yvhvXDUhQyJHSI1Tk/JrmQGuQcZkmSDnmj/febfGRSlH7xNcCRw76x7+2yZ2F/eTZtD19avlx5noAiLhfhFi3ovms1Ez5tnSLy2XbuouOtu9p17LlWPP057YaEhcRRFOXyEc0f7l8A2oHP77a/AvZqmvSSEeAS4CHi448daTdOGCiHO7vg8yU2W++enEzPYV93Cf9YXY7OYuPb4YUzMjgv3Zf14zVXw+d97r/m9sO+ryJ4OmTwCzn0N6gv1Mo64XGN2xkrXQzCgtyh0Jej9tL95HCacD3GZ0sJUeat44dsXeq2Vt5Szv2E/E1Lk9uyOsoaWQcXYYrCarVLjAMzKmsWS+Usobiwm3hlPXmyeIWPlB9LElIk8f9LzVLdWE+uIJTUq1ZA4nrlzaFq6tNda9PyfGBJroLgmTybzyX/phyEddmLPWIBzrPwWjL7ycgqvuBJfR3Lt3byF1vUbSLvrr5ijDCoDVBTlkBeWRFsIkQGcDPwRuE4IIYDjgHM6PuUZ4Hb0RPvUjp8DvAr8UwghNM2AFg4/Uma8iz+fMYarZg3FYhZkxrkwmYy7tWk4Xyv01XXBgLZnA84Zo38YyRoFc/8I374D5Zv1A54BPwTb//vX/gBOi5OAFggNb0DyOyllErH2WOra6gD90OVV46/qMwHvL4uw4DQ7ibJG4bK4sJsPjVv4Sa4kklxJhsaImj6d+IsvouaZxaBpxJ1zDu5jjzEkVnthIU1Ll9L05Ve4j5mB+9hjsaXLL4cxORy4p0/HPX269O/dU9vu3V1JdqemTz7BV1iIeYT8Q6uKohwewrWj/Q/gRqCzKDcBqNM0rTOTKwI6X7HTgUIATdP8Qoj6js/v1ahYCHEpcClAVhiGJtgtZoYkR/auWxebGyaer3fp6GSPhgS5h9EOWdGD4IVfdrcsrNoJR18Pbrm7mJmeTM4ZcQ6Lty7uWot3xDM6cbTUOABDYofw1LynWF22mob2BianTGZMojGDXVaWruTapdfS4m/BLMzcMPkGzsg7A6fVgJaZhxhrcjLJ115L7IKfARq29HSEVf4bL39dHSW3/i+tq/QBRs3LltF07Gek33035mhjOtIYTZj7OIQthH4YXFEU5Uca8ERbCDEfqNA0bY0QYqas76tp2mPAYwCTJ08+aHa7I5IrDpLzYfbv9HpjVwIk5klvT9elqVLf+W2thYQ8SMk3rvPIQKgr7N0XHGDNkzDlEqmTIS0mC4tGLSI3Jpc3d7/JqIRRnD70dLKijXmjOTR2qPTOHwcqby7nlhW30OLXR3wHtAB//eavTEieYFjLwoFQ0VLBmvI1rCtfR35iPlNSp5DmNmbQlLBYsOfIr//uqX1PQVeS3an5s+W079uHc0xkTta0DxmCY+xYvBs3dq3FnnUmtmxj/ywVRTm0hWNH+yjgFCHESYADvUb7PiBWCGHp2NXOADqPzhcDmUCREMKCPmxcfl8spbeco/XyEX+bPtwlZ4Ze4yxbUwW8dS1sf0d/bDLDwiWQd4L8WAOlrzZ+dg8YUNKR7EpmwbAFzMmag8PiwCa7//gAq/HWUNVahcVkId2dTlVrFc2+ZspbyhlFZCbaXr+Xh9Y/xGs7X9MXtsP0tOn8dcZfiXXEhvXafry+9zK0YOTucVgSE0n/2900rfgC74YNRB11FK4jpxrWfUTz+fCVlYHFim2QMTX7AykY1KgqbKS6uAmbw0JSlofoRHUXSlEGPNHWNO1m4GaAjh3tGzRNO1cI8QqwAHgJWAS80fElb3Y8/qrj1z89mOqzD1kBnz4Up3YvOKIhc4oxcco2dSfZoB8ifPs6uOQTQ1riDYi08eBJg8aS7rXj74Ao+eOpi5uKeWPXG7y1+y3y4vK4ZMwljEmKzB1FgERnIgvyFpDkSmJP3R7SMvVd386OHZFob8Pe7iS7w5clX7Knfg8THZHZC9qWm4tj/PheHU1c06cbvpNuNFtWFvHnZME5cttWHqi9pISap56i9qUlmJxOkn/1K6Lnn4zZY2CLU4MVb6/lrQc2dL3ZiktxcfLVY4lJkt8FSVEiycHUR/s3wEtCiDuBdcC/Otb/BTwrhNgF1ABnh+n6Di/b3oC3ftn9eO1iuOhD+V1HWvq4OVG/Xx9eQ4Qm2glD4dxXoOAzaCrX7wZkyz/I1R5o57ENj/HvXf8GoKipiK9Lv+bFk19kcOxg6fEGQqw9FqfVycMbHu5aGx43nHNGnvM9X3Vw83/HIeLvWo8Elrg40v/6Fxo+/JCm5cvxzJqF54QTMMcYfND4ENHw9jvUPvscAEGfj7I77sCakY57xowwX9mP09bq46vXd/e6o1Fb3kJ5QYNKtJXDXlgTbU3TlgHLOn6+BwjZNtU0zQv8bEAv7EfYW9XMzopG7BYzw1M9pEQ7wn1JP15zFSz/W+81v1ev15adaCcM1Q8c9bxJMexE6QcHu3gboaFYL++INejQbFMlfP0IbPm3frB03XNw7quQLnf3srSplP/s/k+vtRZ/C7vrd0dsol3UVMSL23qPRd9eu52C+gLDWuIZLcuTxdnDzybJlURboA272U5xYzG5MbnhvrR+sWVnk3jJJSRecsl//2SlS6Chgfp//ztkvfmbbyI20fa3B2mq9Yastzb5wnA1inJwOZh2tCPW5uJ6zn3ia+pb9ReV0enRPHTOJLISIvSdvDD13d5PGHBAMWU0LHga3r0BmithyGw44Q7p48oBqNwO7/5a32l2xMDcP8HoM0B2N4vS9bDuWf3n7R0j3j/6HSx8EezyOtNYTBYcZkfXwcFOZiP+ngZIIBjAr4Xu9Eby7q/T6iTZlcz96+7vWls4fKEhrREBfBUVtO/ahaZp2IcOxZqSYkgc5ccRDge2oUNo37u317otIyM8FySBK9rGiCNTWfdR7/aI8YNU/3FFUX2L+snnD/LY8j1dSTbA5uIGVhZE8HlNVzzMuhU8qTD+HBh+EjgTuqcqymSxwajT4LLlcPVqOHMxJA2XH8fnhU//qCfZoNefv3GVMdMu64tC14pXg+Qpii6ri3NG9C6pyI3JJc5uzLCkVn8r26q3sb5iPTWtNYbESPekMy+n99S/ZGeyoZMhjba/YT8PbXio19qL219kT/0e6bHa9u5l/8UXs/8XF1F40cXsu+AC2vbIj6P8eCabjYRLLkG4ujcTrLm5uKYYdA5mALR7/VgdFkZOH4TVbsaT4GDa6UPwtUXuG2RFkUXtaPdTi8/PpuL6kPXdFU1huBqJMqfA5Iv02uyoRDjtn3qLP6NEG9PqrEtzJWx/O3S9ehdkHSk3VnwfJQFDZuttEiWqa6tjc/Vm/mfC/1DcVEy8Ix5f0EdpcykTkDsZsqq1ikfWP8KSHUsAyIvN4+5j7mZInNwE2Glxcu3EaxkeN5z39r7HhKQJnDn8TENa4QW1IJsqN/HOnndo9DVyypBTGJ80Xnq/7mZfc5878o3tjVLjADR+/DHtO3Z2PfYV7KXh3fdIuvoq6bGUH881bhy5Ly/Bu3MnJpsN+4gRhgz7GSj+9iCblhVhd1nJPzqNthY/q9/dy9RTI7OETVFkUjva/RTjtHHKuNAk4Iic+DBcjUSb/w1L/6iPKy9ZBy+dCyXrw31VP57NDQl97JRHGTCpb9B4mHlzd/lN0kiYdYv0EpUERwIZ7gxyonMYlTCKvNg8XBaXIX20N1Zu7EqyAXbW7eSZrc/gC8ivwUz3pHPx2It57sTnuOXIWxgWP0x6DIDNVZu54IMLeHH7i7y9520u/ehSVpevlh4n3Z1Opiez11q0LTpkTYbWNWtC1pq/Xik9jtJ/9qFDiTnxRDyzZ0d0kg166cioGWnUlbew4ZNCvv2qFF97gOSsyO2ioiiyqERbgjMmZXDKuDSEALvFxA1zhjEpx5jb9wOiqQJWPdJ7TQtCyVoDY5ZDTQG0txrz/V1xcNJfwdKjJ+7wk/WkWDZnrD4J8sqv4LLP4YJ39CE8kkXbozkq/Shu/eJWfr/y99z4+Y1UtFQQa4uVHmt7zfaQtS9LvqShvUF6rE5OqxOTMO4lannR8pCd5ic3P0n7gcOG+inBmcDfj/07U1L00oD8hHwemv0QGR75Nbnu42aHrEXPm9fHZyqKPEII8o9OZ+K8LGxOCzHJTk66fAzJ2ZE5JVRRZFKlIxJkxbu4a8EYrpk9FKvJRGa8C7NJhPuyfjyLHaIzYNxCfciKyQIV2/Qx7LIFfLDzQ/0wZGOpnvwef7sxZSo5M+DSz/SR6I4YSBllSG9rgkEoXgWf3aXfEZj0C/3QZbTcXtD76vdxz5p7aPV3vzl5deerzMiYQUa03CQuLy7072NK6hSibZH7H2lAC4SsBYNBtO8YxtIfIxJGcP/s+6nz1uGxeYg24t8S4J4xg5gzzujqahE9fz7uWbMMiaUoPXniHRx5yhDGzMzAbDHhdEf28CxFkUUl2pI4rBbykg+R22SOGP0w5Gu/0MeiA+QcA6kGDEIp2wRLfq7vmAN8+zagwRn/kt8NRAhIHql/GKlsIyw+VX8TAfDhreBrhmNu1K9Bkob2BooaQw9eVrVWSYvRaVzSOOYPns/be/Q690xPJheOvhCrAdMuB8qxGcfy1OaneiXci0Yvwm42ZhJglDXKsE4jnaypKaTe9lviL1gEmoYtMxOTU03nUwaGMAncsRHc2lZRDKASbSVUewt89U9oa9D7ZnvrYe9yqC2A1NFyY5Vv6U6yO21/V+/cYeThSyOVrOtOsjutfBgmnC91V3tQ1CBGJ4xmZMJI4h3xBLUg7+99nyyP/BrtJFcSt069lXNGnENboI0sTxbJUcYNFGrzt1HjrcFtdeOxG/MGdkziGJ6Z9wxbq7fiC/oYkTCC0QmSn99hYLLbceRF6L8dRVGUQ4xKtJVQbQ1gdcDMW6BolV5iMfkXemmHbJY+dg89afoodtmCAT2xr9qu79qnjtVbGMrW1661PRok1/4muhK5dtK13PbFbZQ0l2A327ly3JWMiB8hNU4nt809IOPdd9ft5sH1D7KscBnD4oZx4xE3MjFF/qjy4qZi7vjqDnbW6V064h3xPHrCo4b9+SmKoiiHH3UYUgnlSoCs6fDpH2DHB7D+Bb3eONGA7g8xGTB4ZvdjYYJjb9L7dsu2Zxk8PhNeuxie/xm8dgk0lMiP40kDzwE715MvBIvcW6r1bfXc8809lDTrv4e2QBv3rr2X/Y37pcYZSI1tjdz+5e18tO8jfEEfW6q3cPnHl7O3fq/0WF+VftWVZAPUeGt4cduLBIx4k3eICjQ00F5YSKApwtuZKoqiGETtaCuh2hrhm8d7r7U36V1BeibFMlijIG4wnHiSXm4hTHoHkijJ7RGbq/WpkD2TqL3L9YE1snt4R6fBxEX62HpvPcRlgysRPHIn9NV4a9hWuy1kvaixiLFJY6XGGiglzSWsr1zfa63V38re+r3kxORIjbWzZmfI2ubqzbQF2nCZInSq6wBq2biRsj/cSdumTTjHjSPltt/iHDUq3JfVL+2FhTR/8SWtmzcTdeRUXFOmYk02oAWooiiHDZVoK6E0LbRu2ij1xZCUp48sryuEYXP0Xe76Ij1BlcXXAnX7QtdbauXF6JQ6Wi8TKd2g/zlGJUOW/KlvMbYYMj2ZFDb2Hnuc7DKudtpoTosTp8XZq5MK6GUrsh2ZdmSv3uAAJ+WehMuqkuz/xldSQtHlVxCo0SeEtm7YQNGVV5Hz8hLpI9+1YBDvli00f/MNwmLFdcRknCPlH2j2V1dTfMOv8W7Qp8XWv/oqsQsXknLTbzDZjTkg66+rQ1gsmN3yn9+KohwcVOmIEioqQe+Q0ZPVCRmT5Mey2OCj2/TuI9462PgyVO3uHvYiiztFb7HXkxDGHLj0tULVDvjkDnj3etj8KrTJv7Ue74znjml34LJ0J4YXjb6I4fEGjLAfIJmeTH418Ve91uZkz2Fo7FDpsSYlT+LysZdjNVkRCH4y+CfMy1U9p/8/2gsLu5LsTv7ycnxFoV1w+qt13Xr2nnMulXfdTcWf/sS+c39O65Yt0uO07drVlWR3qluyhPb98kux/NXV1L7wInt/dib7Fl1A42efEWyXe4ZDUZSDg9rRVvo28if6Ab61T0NsFkw8Xz88KFtzRWiHju1vwwl3yI1jscGxv9F3mrf+R99lPvEuY35PpRvg9cu6H2/9j3748uR79L7kEh0x6Ahenv8yRU1FxNhjGBwzOKJ3ZIUQnDL0FPLi8tjfuJ9EZyL58fnEOmKlx4pzxnHZuMuYP3g+AS1Aujsde1+Hc5UQZo9Hf6Oq9eg5bjJhcsvtEKMFAtQ8+yz4ul8jtJYWGj/6WHqZiub3hy4GgxCQX7Pf+MknlP3+912Piy67nKznniVq8mTpsRRFCS+VaCt9c8bCqFMh/xSpvZ9D4/RRi+2Ml35wEICEIXDaI3DcbWBzGdNxBKDi29C1za/piX6M3FHLVa1VrKtcxzt73iE/IZ/5g+f3OVwmkkRZo5icOpnJqcYnHRaThewYiSVKBwl/fT0AlpgYQ76/bfBgEi69hOpHH+taS7z6amy5OXIDBYP4q0L7wvurq+XGAexDhmDJSMdfVNy15p41C2tmptQ4gcZGahY/G7Le8uVXKtFWlEOQSrSV72dkkg36jnL6JChe070278/Spyh2sTogYbAx37uTu49pkwlDQHKdcSAY4Pmtz/PE5icAWFm6kjd3vcnikxaT6ZGbHCiRIdDURNPSZVQ9+CBaMEjilVfgOe44zNFyJ1GaHA4SLrqIqGnT8ZWXYU1LwzFiBCab3GmAwmol7txzaF29utd69InyS3ysqalkPvwwda++Ssuqb4ieM4fo+SdjjpI7ZEhYrVgSEmjftavXuikuVmocRVEODkLT5I8bDrfJkydrqw94YVYOYuVboWQ9tNboLQQzp4LTmJ24AVFfDP++BPZ9oT822+Dn/4bcGVLDFDYUcuobp+IL9i69+cfMfzA7e7bUWJ2qWqvwBXwku5Ixm8yGxFB+vMalSym64spea+n330f0nDlhuqL+CzQ00LR0KVWPPoaw20m88krcRx9l2MRLTdMIetswO42bcNi0ciWFv7hIL00BzLGxZC1ejGNYZN+NUpTDlRBijaZpfd6SUjvaSng1lMBb10LR191rC56G0aeH64r6LyYdFjypH/Bsa4TE4ZCSLz+OAEHoHQcN+W+evX4vn+z/hHtW30NDewMLRyzknBHnMMht0J0H5Uep/88bIWu1r7wS0Ym2OTqamFNPxT1rFphMhnfoEEIYmmQDRE2eTPYrr+Ar3I/JZsOWk4N9sMF32hRFCQuVaCvhVbaxd5IN8P6NkD1Nfg21pkHlNqjapR9OTM4Ht0E9cj2pxtWAd4aweDg973SWbO9uUZfkTCLR2UfpSj9trNzITZ/f1PX46S1P47a6uWzcZd/zVcpAswwKfc5ZUw+NN0Oyy1/Cqb24mMp776VlxQowm4m/8EISLrwAS4IBg7oURQkr1d5PCS9vY+hac5XeIk+2vZ/DYzPh5fNg8Snw1jXQWC4/zgCpba/FZXVx0xE3cXTa0Zyffz7XTbqO8hb5v6cNlRtC1l7b+Rq1XgP6kCs/Wsz8+YgeJRXCbiduwYIwXpFyIE3TqHvlVT3JBggEqHniCVrXrw/rdSmKYgy1o62EV9JwvWd2sEdrrTE/kz+tsaUW3r0R/G3da9vfg0kXgmeu3FgDJNoajdvq5h9r/0FeXB4f7P2AtRVruWHSDdJjJblCd/4z3Bk4zMbeYld+GOfo0eS8+AIt69ZBUMM5YTzOfAPKlpQfLdDQQOOHH4ast6xbh2e2MWcrFEUJH5VoK+GVMhrOfRU+uBVqC2DMmXDUL0F2P+P2JqjeEbreXCk3zgCq9lbzzJZn8Aa8bKraBEB5SzkVLRXSY01Mnki2J5t9jfp0TavJylUTrsJpNeZAmvLjOUaMwDFiRLgvQ/kOZpcL18QJ1B8wCMeRNyxMV6QoipFUoq30zd+ut9wrXKX31M6epncEkc1kgiGz4IJ3wNesT3CUPNQFgKgkGPETfXhMTwnyJw4OlIAWoLE9tPSmNSC/7CYrOotHT3iUbTXbaPW3kheXx/C4yJ1A2VOttxZ/0N/nrn2k6uwmJYxuz6n8YMJqJf6CC2j+4kv8lfobfefUKTiPUD20FeVQpBJtpW97PoUXz+6e/OYZBIveMmZkOYArDogz5nuD3j971i3QWgcFy/TDkPP+AoPGGRfTYLkxuczKmsWn+z/tWrOZbIaMKwdI96ST7pE7cCecWnwtLC1cyv1r78cb8HLhqAuZP2S+IYdJB0rQ56N1zRpqnn8BAgHizj0X1+RJmOxq4uXBxDFiBDkvvUjbngKEzYY9byiW+D6GdymKEvFUoq2E8tbDx3f0Hq/cWApFq41LtAdC0nA4+zloKAZrFMRG9lAXr9/LxOSJWE1WPi/6nExPJqcNPa3Pln9KqHUV63p1UrlnzT24bW4WDIvcw4Ot69fTsuobHMP1u0+t69aCxYx76tQwX5lyIGt6Otb0Q+eNq6IofVOJthLK36YPjzlQWx8dQiKN3QNJh0b9am1bLX9b/TdGxI/g9LzTKWsu45419/DHo/7ImKQx4b68g97nxZ+HrC3ZvoSTc0+O2NpzX3EJtS+8QKCuDgCTx0OySuYURVHCRrX3U0K5k2HqFb3XhAnSJoTnemSq3A7fvgN7V0Bzdbivpl9i7bHkxuTybc23PL/teT7Z/wn+oJ9BUYdG32SjpbhSQtYy3BlYTQacERgg3k0bu5JsgGBjI62r14TvghRFUQ5zKtGWqLzBS01T23//xEgw9iw4/naIzYaMI+CclyM/0d77BTx2LLx0Djx9MrxzHTRFbh/tOEccd0y7gxi7Pq7eJExcPf5q8uIiuLxnAB2dfjTxju66WJvJxqJRi7CYI/dGn6+sLHStuDgMV6IoiqKAKh2RorzByyurC3n88wLcdgs3nTic2SNTcNki+I+3ehesehxyju6u2T4rD+Jzwn1lP05rnd5Hu+cgnK3/gfHnwrDIHU89IWUCS05eQnFTMTH2GHKic7DLbo04wFr9rWyr3kZhYyGJzkRGJozslRDLkheXx9Nzn2ZL9RZ8QR8j40cyPD6yO6nEzP8JTZ982nvt9NPDdDWKoihKBGeCB4/3Npfxtw/1Hs31rT6ueXE9L1w8lelDI7R7QVsjfHy7fmhwY/d4b4pXR26i3dYIVdtC15vl95weaIdSNxBN03hn9zvcsfKOrrX5g+dz85SbibbLH8GdG5tLbmyu9O8bLq5pR5Jyyy1UPvggBIMkXnEF7hlHh/uyIo4WDCJM6oavoij9pxLtfmps9fHsV/tC1r/YVWVMou3zQvVOaKmGmCxIGGxAjBao2xu63hTBSWlUIgw7Eb59u/d6/JDwXI/Sp6LGIu5afVevtbf3vM2CvAVMSp0UpquKHJbYWOLPPw/P3DmgaVhTU8N9SRGlbfduGt55h+aVX+OZNxfP7NnY1GFSRVH6QSXa/WSzmMiMc7K7sqnXekqMAaOp25ph9RP6brMWBHs0nP0C5M6QG8eVBBPOgxX39l6P4J7TWJ1w3G/1A5CFX4HNDXP/CIPGGhfT54VAOzjk78Qeqlr8LbT6Qwfu9DWYJ5I0tDewtXorxY3FpLhSyE/IJ95pXN9ka0roQU/l+/nKyym8+mp8BXsBaF27ltZ16xn0pz9idkZmFxpFUcJPJdr9ZLeauXLWEL7cXU17IAhAisfO9CEJ8oNVbIWPbut+3NYA/7kcLv4UPBL/YzWZYNIv9F7TviYI+CBzGqRPlBcjHIRJrznP7biVbo/V12TTNNi/Ej6/B+r3w+SLIP9U8Kjdxf9mkHsQoxNHs7lqc9eaw+wgOzo7jFfVP76Aj+e3Pc9D6x/qWluQt4DrJ1+P2+YO45UpPbXt3k2guoa4c8/B5Pbgryin4Z138e2/DPPwyK7dVxQlfFSiLYGmafzP7Dza/AHMJoGmafgD2n//wh+qoSR0rb4IWqrkJtoAAr2X9uonwZUAGVPkfv+B5vPC0j+GjmD/xQeQdaTcWGUbYfEpEPTr4+Tfu1GvET/mBrlxDkHRtmj+MP0P/H3N3/m8+HOGxg7l1qm3GlZHvaVqC8sKl9Hsa+a4rOMYlzQOq1lue799Dft4dMOjvdZe3fkqP837qep3fjCxWkm84nJqnnwKf2Ulttwckm+4HtQYe0VR+kEl2v3kbQ/w94928nVBDUL0mFjusDJikOSSgb4mGcblQlSy3DiaBmuehpUdO3ANxfDKIrjwPcieLjdWp/YWvTbclWDMf2zNlfDtW6Hr1bsMSLQ3w9TL9XIVvxccsbD9Pb3DSbTqcf3fDI0byj0z76GmtQa31U2MI8aQOFuqtrDo/UW0BfSWnM9te45HTniE6Wlyn+Mt/hYCWiBkvcnX1MdnK+FidrmovPcfaO3tALQX7KXmmWfwnHBCmK9MUZRIpo5V95M/GKSuxQccMLHc65cfLHkkzPsLmG3646hEOOV+cCfJjdNcAWsXh66XbpAbp9P+r/Xe1o/NhGV/gbr98mPY3JAwLHQ9SvKfHeglItvegs/+Cl/cB5/+Hkadru9uG6DV30phYyE1fU3zjFBOi5N0T7phSTbA8qLlXUk2gIbGU5ueoj3QLjVOhjuD3OjeO/Jx9jiyPFlS4yj946+s6kqyO/mKS/BXVYXpipTvUl/RwrdflfLNuwUUfltDe5sB/98qiiQDvqMthMgEFgMpgAY8pmnafUKIeGAJkAPsBc7UNK1WCCGA+4CTgBbgAk3T1g70dX8Xt8PKBUflcPO/N3WtCQFHDjbgoFNjGWx6FY76JaBBezNsfh0yp4LM3slWl97RpLmy97rLgC4q5Vv1Mgu/V3/82V+guQpO/IvcxNQVByfdBc8v0EfMAww/EQaNlxejU0u1fu0zbtCfDLUFsPopGHe29FB76vZw75p7WVa0jEFRg/jtkb9letp0zCaz9Fjbqrfx6f5PqfZWc0L2CYxPHo/TErmHxPo6dNkaaCWoBaXG0dA4d+S5fLz/Y9ZVrGNE/AjmD56PUCUJBxVLQuhrtinKhTnGuDd7yg/XUO3l3Yc2UlPW0rU267wR5B+VFsarUpTvFo4dbT9wvaZp+cCRwFVCiHzgJuATTdPygE86HgOcCOR1fFwKPDzwl/zdgkENXyDI/8weyvAUDxOz4rj1pJF4faG3ivutYpvey3r53bD8b7DyYVj7NNSGthfsF7sHjv8dmHq8D0scDhmT5cYB/YBnZ5Ldae3TermKbDkz4JJlcOZiOP9N+MkD8mvbASwOGHIcfHm//ndV8S1MWhT6++ynFl8Ld31zF8uKlgFQ2lzKNZ9ew87anVLjAGyv2c6FH1zIIxsf4ZUdr3DpR5fyZfGX0uMMpGMzj0XQO9k9P/98HBa5HYOKm4q58+s7CWpBzhp+FtG2aP686s/sa5D877ZDe2kpTZ8tp+mzz/CV9HGuQ+mTbcgQEq64ontBCFJ/9zusmX2U7ClhU1XY2CvJBvjq37tpqpP7+qoosgz4jramaaVAacfPG4UQ24B04FRgZsenPQMsA37Tsb5Y0zQNWCmEiBVCDOr4PmHX2ObjyRUFVDe1M31oIq3tfv7y3rf84ugcZo2QnMT1tcNrsoABu5fkzICLP9GTe7sbUsdBnAG3uq2u0DW7B0wGlFkIASn5+oeRzFb4+pHux+WbYd8XMPkXUsNUtFTwRckXvdYCWoC9DXsZkTBCaqy15Wtp9jX3Wntow0NMGTQFj80jNRaA1++lxqvXaBsxqAZgbOJYHp/zOE9veZrm9mbOG3Ue0wZNkx7HZXFhERZWla1iVdmqrnUjOo607d5N4RVX4tuvl19Z0tLIeuxR7EOHSo91qDG7XCRcfBHuY4/BX1GJNSMd+9Chhtx5CHq9tK5dS/0772KOiyV67jycY0ZLj3MoCvhC7zi1e/0E/QY0IFAUCcJ6GFIIkQNMAL4GUnokz2XopSWgJ+GFPb6sqGPtoEi0o2wWpg5OYMk3hXywpaxrPV/2QUjQE8TUcZA4FGKzoXClnhDH5ciPZTJB2nj9w0ipoyFpJFT2mNp4wh8gJoKHRDSWha7tWaZ3cbH18cbiR3JanCQ4Eqj2Vvdaj7JGSYvRqT0YWrfcFmiTXmYBsKtuF/evvZ/Pij5jWOwwbpp6E5NS5A+rsZqtTB00lUnJkwgQwG42ZnR9dnQ2V4y7ggfWP9C1dtbws0LqtmVo/PCjriQbwF9SQv1bb5P8q2ulxzoUmaOicI0fb3ic5i+/oujKK7se1z73PNnPP4dz1CjDY0e6uLQozFZTr4R71NFpRMUZ8+9XUforbIm2EMINvAZcq2laQ89dA03TNCHED3p7KoS4FL20hKysgTtkZDGb+MVRuXyxq4qiWr3mc9awJI7IMaCPtidNL+n44Fa9TV3ePBj5E2N2tAdKbBYsfFF/01BXBJlTID3CJwBG91ErmDYB7HJrPS3CwqJRi7h3zb1o6P9cpqZOxW2Vv1M6KXkSFpMFf7D70NHFYy4mRvLvqaGtgdu+uI1NVfqZh29rv+WKj69gyfwl5MbIT0x9AR9FTUUEggHSPemG1JxbzVYWjlzI+OTxlDSVkORKIj8h35Ad7daNG0PX1h00R1oUINDSQtUjj/Ra07xemleuVIn2/0NiuptTfzmeb94uoK6ilRHTBzFi2iDMZtXbQTk4hSXRFkJY0ZPs5zVN+3fHcnlnSYgQYhDQOe+7GOhZJJfRsdaLpmmPAY8BTJ48eUDvIQ1P9fDK5dPYU9mMzWJiaJKbuCib/ECV38JLC7sP821/R+/PfPYL4JB/+37AxOfqH0bzeaF0HZRu1Du2pE2C+Bz5cdypMGwu7PhAf+yIhSOvlP531OBr4D+7/sPVE66mPdCO1WSloL6AspY+dtT7KT8xnyfnPMmz256lsqWSc0aeI70NHuh15p1JdqdWfyv76vdJT7SrW6tZvHUxi7csxq/5mZszl2snXkuGJ0NqHICgFsSv+WkLtBHQAobcCQDwzJlD09KlvdaiTz7ZkFjKj6RpaD5f6HJLSx+frPRl0NBYTrxyLP62AE6PAf/XKopE4eg6IoB/Ads0Tft7j196E1gE/KXjxzd6rF8thHgJmArUHyz12T0NinEyKMbgDgzVu7qT7E57l0NDEThGGhv7ULD9XXj1wu7HSSPh3Jf1XXWZKrYAAmbeDFpAn6z5wa36YVKJ0yETHYm4rW4eWPdAr/Wf5/9cWoxOJmFiQsoExiaNJaAFsJmN+c/NaXHitDhDOoIYsfu7pnwNT25+suvxB3s/YFjcMC4de6nUOL6Aj+e2PscjG7t3MU8fejo3HnGj9N9X1FHTibtgEbXPPQ+aRtxZZ+E+9lipMZR+EoLo+fOp3NajXM5iwT6sj/ajyney2sxYbRF8N1c5bIRjR/so4DxgkxBifcfaLegJ9stCiIuAfcCZHb/2Lnprv13o7f0u5HDV16EwezTY5NfkHnKaKuDD/+29VrkNir6Rn2ibrLDjff2jU3S69HHvHruH26bdxi2f38KOuh24rW5umXoLw+KM+w/bbDJjxrj/3DI9mVw/+XruXHknAoGGxom5JzI0Tv5hvlWlq0LW3i94n5+P/Dmuvg7p/kj7Gvbx+KbHe629vut1FgxbwNiksdLiAFiTk0m5/nrizjoLNA1rZiYmqzH92wONjXi3bcNfWoYlPQ3HiBGY3ZE9Ul7z+2kr2Eugphpraiq27GwDgmi079lD0q+upXnFF5jcUbimHomvvFx+LEVRwi4cXUdWAN91jHt2H5+vAVcZelGRImUUDD9ZLxnpNPfP8hPFnrwNehcNa+T2SwagtVYfVR+yXic/1qBx+oTLlh6HFI/7X3BLnuAJDI8fzr/m/ouyljLcVrchZQ8DSQjB8VnHk+nOpNHXiN1sJycmh1h7rPRYwxOGh6yNTx4v/VDkd02GbPEZUyogrFbsucaWYgW9XqqffIrqh7u7rSZd9yviL7zQsMTeaEGfj/r//Iey3/8BfD5MUS7S//EP3DNmSI1jjooiavo0Sm+6GeeE8fgrK6n429/Ifv45qXEURTk4qBHskSQqEebfq/dkbq6EhKGQKndHrEtTOWx9C1Y9qh/uO+bXkDXNmIOXbY1QuV1PeuNz9N+XbFYXjF4A65/vXjNZIMaAxDRpGCx6S6/RrtsPI06CTMlj3nsIakECQb3uV9O0iB6EEtSCbKjcwIriFawpX8OQ2CEcm3EsMbYY4hxxUmONSRzDsLhh7KjdAUCiM5FThpwifdhPhjuDobFDqW6tZkjsEPY37icQDJAVHbmTIdv3FFB9wIG+yvvux33sTBzDI7MEon3Xbsp+dzsE9fr5YHMLJTf+hpzXXsWWJncYivuYY0j729+oee45rOnpJN90E87Rqr2fohyKVKIdaTwp4JlrfJxNr8IHt+g/r9oBe1fARR/K7wjSUqtPg+zsO233wDkvQ7bkg3btzeCIgQnn6bXa0ekwfqE+hdIIKaP0D4Ntq97Gb5b/hoKGApwWJzdNuYmTck+SPnRloBQ2FvLKjldYUbwCgD31e1hbvpYsT5b0RHt7zXbGJI5hdtZsNDRa/a0s3b+UsUljMUks84l3xvOH6X/g08JPWVO+hjnZc5iXM480d+ROsgs01IN2wJnzQIBgY0N4LkgCX3l5V5LdKVBbS6C6GiQn2maPh+i5c/DMPg5MJoRJdcxQlEOVSrQjTeV2+PYdKF4DI+fD4OPkTzdsqoQvex+wI+jXY8pOtMs29h7u0tYIb18HF76jl1/IYovS3yy0N0H+adBcAR/dBqc/Ki/GAGtoa+COr+6goKEA0Ltz/O7L35EXm8eYpDFhvrofp7q1uivJ7lrzVlPcXMwEJkiNtaFyA6/tfK3XWl5sHpeOu1RqL/Km9iYe2fgInxV9BsDairV8U/4Njx7/KAlOuW1ANb+f1g0badm0CaEFcYweg2vcWIRN7uFVW2Ym5rg4ArW1XWuW5OSInqJoTU3R5wf0SLbN8fGYExMNiyks6r9gRTnUqbfRkaSuEF44Cz65A759G16/HL76p97VQiazte+DlyYD/lPoa7hL5TZorZcbJzZTr5NuroLV/4Jtb8GwEyElMhNS0BPQLdVbQtYLGwv7+OzI4La6sYjQ55kRvcEnJk8MWTs241hcFnkHIQH2N+zvSrI7ba/Zzp76PVLjALRu3kzL2rU0vv02DW+/TevaNbRu2vTfv/AHsqank/Hww9hH6t2O7GPGkPHgP7GmSH7TP4Bsgwcz6M4/dL0pMXk8pN19F7ZBg8J8ZYqiRDL1djqSVGyD2oLeaysfgomL9GmRsgQDMPF8+PDW7rWoRH1gjmxxfZzqz5ymx5Mt91i9LKV6NzhjIWmE3D+3ARZtiybDnUFRU1Gv9SRXUpiuqP9yY3M5L/88ntryVNfaqIRRjEqQX4ZzROoR/GTwT3hrz1sAjE8az6lDT5Ve4/5d309meUqntp27qLznnq7H3i1bSfndbbgmyR8C5Ro/jqynnyJYX485NhZztAHTcAeQyWYj5tRTcY4bh7+6BuugVGwG7tD7Skpo27MHYbdjHzIES3y8YbEURQkflWhHkj6HXGgdH5IVfAYn/Q1q9uhJqcmql1vIljIGTrwLPvqt3iM8fgicdBc4DPhP2+qAzKl6cm9zGxNjACU4E/jdtN9xzafX4A14AThv5HkMjwvtphEprCYrF4y6gDGJY1hVtoph8cM4ctCRhrx5SIlK4dYjb+W8/PPwBX1ke7KJcciddAl6v/NjMo5hedHyrrWR8SNJdMh/M9m0fDmuKUfgOuIIAFrWrqPpk0+JX7hQeiwAS0wMxMj/M+sp2NZG69q11L3+OsJmJ/b003GOH4cwyz+YLcxm7EOGYB8yRPr37sm7fTuFl16Gv6OlX9S0aaT+8Y/Y0tTuuaIcalSiHUmS8/Vd5caS7rVJv4BYyb1eoxLgiEtgwwuwfyVY7DD+XEgPvdXeb/YoOOJiGHKc3kowNgvcBu3IVnwLa56GTS/rhyGPuxWGnhDRI+ynDprKyz95mcLGQmLtsQyOGWzIcJeBFO+M54ScEzgh5wTDY0VZoxiZYOywp7KWMlKjUrlo9EVsr93O4JjBmIWZ0uZSsmPk/tt1HzWd5hVfUPXgQ/rjmTOJktyebqC1rF5N4UUXdz2uf/11sp97FtcEuTX7A0Xz+ah5+pmuJBug+auvaF39DbZTTgnjlSmKYgSVaEeSuCy99KF0nT6AJXGYnvxaJE/pCwahYDlseb17bekf5XcC6WQyQ2KeMd+7U8APXz+sJ9qg97h+6Vw4/03IOcrY2AYSQpAbkyt9PLkij8Pi4NUdr+K0OMn2ZLOpahP1bfXMzgoZG9BvQZ+fxo8/7nrctGxZ1+52JNL8fmqefqb3YiBAw/vvR2yiHWhpoWXNmpB1744dGHtvQFGUcFCHISNJSw18eT+8eQ18+gd4+TzY95X8OM2VsPHF0PXSDfJjAZRugq8ehPduhK1vQnON/Bg1u2DDAb+noB8qtsqPNcB8QR/lzeU0tTeF+1KUPmRHZ7MofxHNvma21mylvq2ek3JPYnDsYOmxWr78ImStcdlS6XEG1IFtBCGkDV8kMXs8eOaE3q1xjh8/8BejKIrh1I52JCnfopc99PTeryHrSL2rhiw2F8QNDu0x7Tago0DFNnj551C7V3/89aMw908wTfIwUJMNXInQUNx7PcLLLPY37GfxlsW8W/AuOTE5XDf5OiYlT4rooTWHGpvZxryceSQ6EylpLiHZmczE5Il4bB7psZyTJtG0dFmvtagjjRuWZDRhsRB33s9pXtGj5aPJRPTcAZglYBBhMhG74Gd4t2yl5auvwGQiftEinBG6Q68oyvdTiXYkaa3te62tUW4cuweOvBJeXw+Bdn0teSTEGDDJrnR9d5Ld6bO7IO8EvTRGlqhEPXnvHMIDerlKdOQODfH6vdy39j4+3PchAJuqNnHZh5fx0vyXyIszuBRH+X+rbK3kV8t+RUlzCS6Li1Z/K26rmyXzl5AZLberhef442l4+x3avv0WANvQoUSfeKLUGANNOJ0k3/hrWr5ehbBacU6eBDZ7uC+rX+w52WQ8cD/t+/cjrDZsOdkRO7peUZTvpxLtSJIwVO9x3bNvduaR8seIN1XA5/foY9eDPr1/dnOlnhRnTZEby+ftY61F70Aik7ce7DEw98/QVKaPZI/L0Q9gRqiy5jI+2vdRr7X2YDt76vaoRPsgUtJYQkmzfoC5xd8CQKOvkcLGQumJtj0nh8zHH6d99y7QwDZkMNbkZKkxBpLm91Pz+OM0f/Eljvx8NL9egx53/vm4xkZuD3wAs9uNMz8/3JehKIrBVKIdSZJGwMIl+uTEur36VMh5f5Lfps5iBy2gH4Ds6bRH+v78/kgeqU9tbG/uXhu3UG/zJ5MtCjYugb3L9d9fwKe3Szy7j1r0CGE32/HYPDS0936zIHOqodJ/HpsHq8mKL9h7sFSM3Zijb9akRKxJxk0zDItgEO/mzd2P+6rbVhRFOQipw5CRxGSCobPh4o/hmrVw1rN6oiqbIwaOvx161vl60iDDgO4F6ZNh4csw7y8w61b46eMw5XK9Tlym9mbY11Hn6W/r7kneUvXdX3OQG+QexK+P+HWvtYnJExkeH7l9tA9FWdFZ/Grir3qtXTjqQtUp5v9BWCzEL1rUe9FkIvrEeeG5IEVRlB9I7WhHIneScb2mOw2eBRe+B0WrwRGrH7g0YopicxUsvxsKlumPhYAzn4NUybdU7dEwaDyUrO29Hp0uN84Am5szl0x3JrvqdpHgTGBUwqiIngx5KLKYLJwx7AxGJ42muLGYlKgUhscNx2WV/GbyEOWaPJmsF56nbetWhNmCPX8kzlHyJ4UqcmhBDWFSh7EVpZNKtCOR3we+Zn1io1GESZ8GaXPr9cwmg54qZRu7k2zQbwm/e4O+e+6R2OXEGQMzb4J/X6LXawPknw4xxo1YHghOi5NJqZOYlCp/xLYij8vqYkLyBCYkq84SP5SvqJjSW2/FV7AXAMe4saTffTe2LAMOZys/mrfZR9G2GjavKCE6wcGoo9NIyVWdwRVFJdqRpmQ9fHEflG2AUWfAhHP1Q32yFXwGzy/oLrGIzYbzXocEybXTnUlvT01l+oFImZor4ePbYfIv9DcNZps+9bJqOyRJ7G4ywNr8bWyr2cbe+r3EOeIYmTCSZJdxh9/qvHX4gj61a67gr6vDu3kLvpISrOnpOEePwmzAOPa6N97oSrIBvBs20rTiC+LPUYn2wWT32gqWPb8dgGJg56pyfnrjJJIy5bexVJRIohLtSFK1E549rbvN3/K7oHoXnPYwWB3y4ngb9KRU6zEUom6fXkYiO9FOzNMnQwYD3Wv5p4FnkNw4/jb9z2rFAQNqxvxMbpwB9mnhp9y4/Maux0elHcWdR99JolPuYbg2fxtflHzBvWvupb6tnnNHnsvpeacbmtQrB69ASytVDz1E7eJnu9YSLr2UxCuvwOSQ91oUbG+nZeXKkPXWdWvhnIXS4hzKGqpaKd1dT31FCymDY0jJicYRJbeVYGtjO2ve29drze8LUl7QoBJt5bCnDkNGktL1ob20t76uJ+Ay+bz6rvKB+urj3V8po+HslyA2Ry9XGX0GHPe/ct84ALhTYeKBh6rMeieXCFXeXM4zm5/hmgnXcOnYS7l6/NU4LU6212yXHmtz9WZ+ufSX7G3YS21bLf9c/0/e2fOO9DhKZGgv2NMryQaofuIJ2vfulRrHZLPhmTMnZD3q6KOlxjlUNde18cETW/j4qa18885e3n5gA1u/KEGT3bVF6C/fBzKpWm1FUTvaEUWYQ9fMdr3XtUzuJJh0IXz21x6xBaSNlxsHwGyBYXMgbYJeLuJJ1dvvGRFn+jVgdcK6Z/Xa7BN+D4PGyo81QNr8bczNncs/1v6DYMfdhxnpM8CAzmfrKtaFrL307UucNvQ04hxx8gMqB7VgU1Mfi0GCzc2h6/0UPW8urWvX0rR0KQhBzE9/GtHTLgdSdXETFXt7t//85q0ChkxIIiZJ3mFcp9vGlPm5fPz0tq41q8NMcq7k1rOKEoFUoh1JohIhOR8qepQ/TLoAZI9yFkLf6Z18kb5j7kqEiecbkwCDPiCnbDN4a/WhPMmj9MRYtrhsOP4Ofeql1aUfkIxgFpOFZ7c+25VkA3xe/DkLhi2QHiveER+ylhKVgt0c2RP6lB/Hlp2NJTkJf0Vl15o1PR2rAQcUbZmZpP3tbn2KojBhy87C5HRKj3Mo8vv014akLA+eeAfle+tprm8n4Jf/bjx3XBInXWllx6oyPPEOhk5KITHdLT2OokQalWhHkrpCGHIcDD8JGkshPlevm/ZKLuloqoAPbtY7jhx1LTSV68Nrjv+9vvMsO9Zb/wPb39Mfm8z6EJlhc+XG6VS9S/9wxOg9yF2hCaQ0AT8E/fLLYDrUtdVR2VpJtC2aUYmjKGsuo6C+gDpvnfRYE5MnkupKpaxFLykyCzNXjb/KkBZ1gWCA7bXb2d+4nyRnEiPjR6pWeD9Ae0kpbTt3gKbhyMvDmi6/haU1NZWMhx+h4u67aV27FtfUqSRf9yusScYckjVHReEcacDMgENcfFoUR/9sKMU766gtb2bw+CTiUqOITpD/mmRzWsgdm0ju2ENsWJKi9JNKtCOJJ1VPSs1WcMbBhhchZYze51omix2GnqB3M9nzmZ6MzroVXAly4wCUbuxOskE/FPnO9XpC75Z80G7fl/DmLyHzCGiu0Eeyz/uz/DgAhd/AyoegtkAvwxl+ovQ4LquLK8ZdgdfvZXX5akbGj+T0ocYcUMyJyeGJOU+wuXozLb4WRiaMZGS8MYnPiuIV7KjdgTfgZV/9PvbW72VO9hw8dmMOVbUH2glqQRwWY94QDaS23bspvOJKfPv3A2BJTSXricexD5XfA985Kp+Mhx4kWF+PKTYWs9plPih98+5e2pr9ANSWtjBsagojj5J82FxRlO+kEu1IEpOj7/b6W6GtAZwJYHfLb+/niIFB4/R+1p2+fUdv7ydba43+Y9JwvdNI8VpoKIL2JkBiwthaBwXLIXcG7HgfogfBkNlQsU1+ol22CZ6ZD36v/rhkHXjvhKOukRomyZVErbeWl7a/BMCmqk18WfIlD81+SGqcTtkx2WTHZBvyvTvtr9/PxsqNPLbpsa61GekzGBw9mAmpcu+mtAfaWV2+mic3PUmzv5lF+YuYnj6daFvk1pU2fvhRV5IN4C8ro/6tt0n+1bWGxDO7XJhd6m7Dwaq2pLkrye60Y1U5k0/MIS41KkxXpSiHF9V1JJJ4a/TOI69dBG9cDW9do3cCaar8r1/6gzRXw5cP9F7ztehJqWyJw+GEP+jdR3wtcMTFMOs2cEvecWlr1lsUrnlK37Gv3g0f/RbaJffrBj3R7kyyO31xLzT20cmlH6pbq3l156u91ura6ihvKZcaZyBVtlby7Lbe3Sw+L/6cCm+F9FibqjZx+UeX83XZ12yu2syvl/+aL4u/lB5nILVu3Bi6tm5tH5+pHA5MltD/4s1mk5rcqCgDSO1oR5KWKmgogdM7dvuCPtj0MsTlQuwAjBIXBrw4Wx3w+T3QWVdcuAqOvk7+wcugT39Dctz/QvkWfRfbGaePgJfN1EePWotDrz+XGUaYsAgLfnrvWJklxxlIQgha/a0h6z7ZnXWAZYXL0A5o0fLs1meZmTkzYstIPHPm6N05eog++WRDYgUaGvBu24a/rAxLWhqOkSMxu9Xht4NJQnoUCRlRVBd1d4OZfFI2MYmqzEdRBopKtCOJyQqpY+DD/4WGYsiYrB9W9LfLjROVAMf+Bt64snvNFgXpk+XGAb2DyoGH91Y+pHdTiZNYpmCPgvQJ8Mnvu9fcKXDaI/JidEobr9ezt1R3rx33W4iSe1AszZ3GxWMu5p/r/9lrbVhs5E66HBo7lLGJY9lY1b0z67Q4Dfk9RVlCb527bW5MfTUEjhBRRx1F3AWLqH3uedA04s46C/exx0qPE/R6qX7ySaofebRrLfHaX5Jw0UWYrHKHoSg/njvOwbzLxlC8vZaakmYyhseROiRW7WgrygBSiXakee9GvZMF6B1Hlv9NnwwpW+oYOOEOKPhcbyuYOxOiDDg02FdvcJOl7+kH/REMwDf/6r3WVA4tkstuQJ92ueht2Pkh1O3Xu8RkTZUexiRMnDn8THJjcllauJRhccM4NuNY0j0DcHfDINH2aG6ffjv3r72fz4s/Z2jsUH4z5TcMi5efaM/ImMGTW57s2kEXCC4cdSE2s016rIFiTU4i5frriTvrLNA0rJmZhiS+7XsKqH70sV5rVQ/8E8+s43AMj9w3eoei2CQXsRJ7ZiuK8sOoRFuC5jY/K/dU8+Kq/cRH2TjriCwmZMbKn4rVWNqdZHcqXa8fjJTJ16q389v1MaSOhZo9sOElOPsFGCH5NnTqGP0QZGNp99qxN0JMhtw4wYA+hv1AAfklCQCk5Os75v5WfSqlEX3BgThHHPkJ+aREpeA0O0lzpxkSZyDlxeVx97F3U+OtwW1zG3Y4cVTiKJ6e9zQrilfQ4mvhmIxjGJM4xpBYvoCPXXW7KG0uJdmVzJDYITgtxty+F1Yr9txcQ753p0BjAxw4XTAQINgo+bXoEOarqKB9715MNhu2wYMxR0fuIVxFCTe/P4C30YfNacHmOLhS24PraiLU8h2VXPF894Gj19cV8+rl0xmXGSs3kDsldM0ZJ79rhrceilbpSX1Jj4NUNXvkxgF993r6/0DtHr3+fNA4iB8qvx5cmGD8ubCq+1Y3tihjWvv522H3J/D+zfqu+cTz9SE5MkthOqwtX8s1n15DQ3sDAsEV467gvPzzcNsiu1bWYXEMyJuG/IR88hPyDY0R1IK8W/Auv/3it1014ddNuo5zRpyD3aghUAazZWRgjosjUNvdw9+SnIw1Q/Ib5EOUd+cuiq6+Gt++fQC455xA6i23YE1NDfOVKUrkqSltZs17eynYUEVihpvpZwwldfDBM5AucosRDxLNbX4eXrar15ovoLFipwGH7DKPgLFndT8WAub9BeIHy43jjIehc0LXk0bIjQN6h44PboYt/4GaAvjsLnjzKj3plslbB22NcPSvYNB4vZxj1q3y4wCUboCXFuo9tH0t8PUj8PVj+q66RLXeWm7/8nYa2vVdRA2NhzY8xI7aHVLjdGpoa2B9xXq+Lv2asma5HVQOZfsb9nPnyjt7Hby8d829FNQXhPGq+seank7GIw9jHzUKAMe4sWQ89KBKFP8fNL+f2uee60qyAZo+/IiWtao7jKL8UG2tPpY99y07VpXjawtQurueN+9fT125AR3FfiS1o91P37XxakSDDpxxMPfPMPZsaC6HhDy9tEM2i01PSKu2AwLaG2HEKZA+SX4sX8c/huZK/QP0hDgg+YCnZxA4EyFpJKSMBYHerjBpuNw4oB/wPPC2+rpnYNqVECOvfrqurY72YDtXj78aX9CH1WRlS/UWQ5LgipYK/rrqr3y470MAUl2pPDj7QUNqpw81dW11eAO92z1qaFR7q7/jKyKDa9w4sp96kkB9PebYWMweYwYKHWoCTc00f/VVyLp361ZiTjopDFekKJGrsdpL6e76Xms+b4Da8hZiUw6OswlqR7ufXDYLFx3de0fZZjYxKTvOmIBNFbB3Oax9Vt8NNqI9HYAnTU+23Sn6QcgRJxszrjw5X29919PERRAt+UCfMxbSx8N/LoPXLoRXL4Qd74ERBwf7GhfuSet7vR/i7fGcn38+myo3oaFR0VqBw+Ig05MpNQ7AhooNXUk2QFlLGf/a/C/aZb8hGmAF9QW8vfttXt/5Otuqt6Ed+AZJgtSoVBIcvaeqOswO0t2Re2i1kzk6GltmpkqyfwCzx4175syQdecYY84HKMqhzGI1YbaGprI2x8HT5lYl2v3U7g+wpaSem04cweyRyZwyLo1fzxvOvurm//7FP1TdfnjzakibpCfBQT98cR/4DTjQt/1tePl8PRn95nFY/BMo2yw/jsUBc+6E7On6AchJF0LWtL67kfRHQyl8cnvvneayTVAWOuCj31zxeplN9nQY+RO91d/US6Xv0rcH9dHhjb5GHtv4GEv3L2VE/Aja+jr02U+763eHrK0pX0Nje6P0WANlZ+1OFr23iJtX3MxtX97Gz9/9Oesr10uPkxqVyr0z7yUtSq85T3AkcO+se8mONnbKpnJwEmYzcWefhX306K61mAULcE6QO/lUUQ4HMUkujjy192Zn7rhE4tMOnsmnqnSkn+pafHy0rYJ91c2MHBSN1xfgzQ0lnHdkFmceITtYCRx5Bbx7vX7ILm0SHP87qNurt5STpbkavnkCTrwb0MBs1ScpFq+G1NH/9ct/kLINesvCYfNg5Hh91PuGFyFzKsRlyYvjrdM7m7iTIWeGfmdg34rQHt4y1O6DY34NG16A6l0w7Sqo2atP8fT0caD1R2r2NfPRvo9YW6HXdla2VnLf2vu4f9b90mJ0Gh4fWmIzI30G0fbI7ZSwongFtW3dh/nag+0s3rKYMQljsEjuEjMhZQLPn/Q8Va1VxDniSImS9zxQIo998GCynnic9r37MNlsWHNzMDvVEBlF+aGESZB/VBqJmW5qy1pwxzlIzvLgdB88bVrVjnY/xTitzByWRFCDLSUN7K7Ud7LHZsTKDxZsh9cv1ZNsgJI18NFtIP9ut94JpLVWrwu3e8DnhRj5JQkIC5x4F2QcobffO+bX+i6w7CJ3dyqccCeMO1vvQBKTAXP/pI+Aly0uC965Qe87PmQ2bHoFTCaIkfjGAX1aYmeS3SmoBan11n7HV/x44xLHcc6IcxDofy/58fmcl38e1r6mYPaTP+hne812Pt3/KRsqNtDU3iQ9BtDnqPqipiJDplACJLoSGZEwQiXZCgCW2Fhc48fhyB+pkmxF6Qeb00LG8HjGHJtB7thEomIPrm5Oake7n+xWMyeNGUR1UxuJHjut7T5cNhuj0w3Y6asvDO1cUbpeH82OxB1ts1Uv6djxHpSs01vwHXlF6AE/GWKz9EmXdXu71+bcKb+PtiMG7DEQkw02BwSD+iFPhwEtgFobYMZ1sPpJ/U3RyJ/opTBt9WCXV6cdbYsm0ZlIVWvvOv1YR6y0GJ2afc3UeGu4bNxloEFpcyn17fX//Qt/hGWFy3h4w8PMSJ/Btupt5Cfmc/GYi4myyr0VOCN9Bs9ve77X2lnDz8JpVUmPoiiKIkfE7GgLIeYJIbYLIXYJIW4K9/X0lBXv5Oi8RDYV11PR6GP60ASGJBlwOMjWR6LhitcTYZlaamHjEj3JBr0W/MsH9B1u2aq2906yQZ92WRNaE9wvTRUQlwm73odXFsFHtwKannDLZrXDx7d1t/fbuERPuCX/PTX7m7lg1AW9RoYflXYUFiH//fO6ynW8v/d9HtnwCI9sfIQ3dr/Bw+sf7pqqKEtJUwmt/lampU1jWdEyYh2xjEoYRUGd/FZ4E5In8JcZfyEtKo14RzzXT7qemZkzpcdRFEVRDl8RsaMthDADDwInAEXAN0KINzVN2xreK9Mt3V7JTf/e1PV42Y5Knr7wCGbkJckNZLbByFNg25v6YyFg2jWhXTv6K+CFgmWh69U75cYB8HtD13wt0C65B6bPC+ue1+umQR/K89pFsHCJ3Dig14IfuPu/7U29b7dELe0tvLLjFa4afxVtgTasJis7a3ca0t6vr+9Z0FBAq69V6oRDr8/LBwUf8FnxZwDsrtvN16Vf8/eZf5cWo5PL6uLkwSczbdA0AlqAJJfkf6+KoijKYS8iEm1gCrBL07Q9AEKIl4BTgbAn2jVNbSz+al+vtUBQ44udVfIT7dhMPYGbdSsE2vQEu2IbHHGJ3DjuZEgZAwWfHRDfgC4JrkR9p769R5eWMQv0OmqZ2upg86u914IB/bBi3glyY0X18fduQHu/7OhsUl2pPLDuga41szBz7shzpcYBGJsU2q/9tCGnEeeQ28aytr22K8nuVO2tpripmIkpE6XG6hTvNKBtpaIoiqIQOaUj6UBhj8dFHWtdhBCXCiFWCyFWV1ZWDtiFmUwCqzn04J7VYsAfbcpovU3c1jf0tn5lm+GYG8AhuUzFGacfSuzZN3vo8cYMrEGD4/5XT3aThuu14O4UsEtuzWN19j1u3WZAiU/aBP3vqpMwwdw/gktuUuqxe7hu8nUclXYUoLeRu/uYuxmXNE5qHICxiWO5Y/odxNhjsAgLZw47k9PyTkNIPrRqNVn7LH2xmw+uwy2KoiiK8v8hjBjQIJsQYgEwT9O0izsenwdM1TTt6r4+f/Lkydrq1asH7Pre3FDC/7y4ruuxw2ri6QumcOSQhO/5qn5ordOnJ7qTwWJgAlKyHqp26jvOKaMgzoAd7eo98OnvoaFY7wxSul6ffjlyvvxY61+AN67sLutIGgmnPQTpBuyU1hXqNe5tjZA8Up/gKbllXKdWfyulTaV4bB7Dyx/Km8vxBX2kRKUY0nGk1dfKvWvv5cVvX+xaGxE3grtn3k1OdI70eIqiKIrSX0KINZqmTe7z1yIk0Z4G3K5p2tyOxzcDaJr2574+f6AT7brWNr7eU8t7m0qJcVqZOyqV6UMTByx+xKspgIot+iHMhCEwaKLeGUS2xkooWQ2VO/RJkSmjIcOIXXqlP/bV72NNxRrWlq9laOxQpqROIT8xP9yXpSiKoih9OhQSbQuwA5gNFAPfAOdomralr88f6ERbURRFURRFOTx9X6IdEYchNU3zCyGuBj4AzMCT35VkK4qiKIqiKMrBICISbQBN094F3g33dSiKoiiKoijK/0ekdB1RFEVRFEVRlIiiEm1FURRFURRFMYBKtBVFURRFURTFACrRVhRFURRFURQDqERbURRFURRFUQygEm1FURRFURRFMYBKtBVFURRFURTFACrRVhRFURRFURQDqERbURRFURRFUQwgNE0L9zVIJ4SoBPaF+zoMlghUhfsilIOKek4oPanng9KTej4oB1LPCXmyNU1L6usXDslE+3AghFitadrkcF+HcvBQzwmlJ/V8UHpSzwflQOo5MTBU6YiiKIqiKIqiGEAl2oqiKIqiKIpiAJVoR67Hwn0BykFHPSeUntTzQelJPR+UA6nnxABQNdqKoiiKoiiKYgC1o60oiqIoiqIoBlCJdgQQQmQKIZYKIbYKIbYIIX7ZsR4vhPhICLGz48e4cF+rYrzveT7cLoQoFkKs7/g4KdzXqgwMIYRDCLFKCLGh4zlxR8d6rhDiayHELiHEEiGELdzXqhjve54PTwshCnq8RowP86UqA0gIYRZCrBNCvN3xWL0+DABVOhIBhBCDgEGapq0VQniANcBpwAVAjaZpfxFC3ATEaZr2m/BdqTIQvuf5cCbQpGna38J5fcrAE0IIIErTtCYhhBVYAfwSuA74t6ZpLwkhHgE2aJr2cDivVTHe9zwfLgfe1jTt1bBeoBIWQojrgMlAtKZp84UQL6NeHwyndrQjgKZppZqmre34eSOwDUgHTgWe6fi0Z9CTLeUQ9z3PB+UwpemaOh5aOz404DigM6lSrxGHie95PiiHKSFEBnAy8ETHY4F6fRgQKtGOMEKIHGAC8DWQomlaaccvlQEp4bouJTwOeD4AXC2E2CiEeFKVEh1eOm4LrwcqgI+A3UCdpmn+jk8pQr0hO2wc+HzQNK3zNeKPHa8R9woh7OG7QmWA/QO4EQh2PE5AvT4MCJVoRxAhhBt4DbhW07SGnr+m6TVAasfiMNLH8+FhYAgwHigF7gnf1SkDTdO0gKZp44EMYAowIrxXpITTgc8HIcRo4Gb058URQDygSg0PA0KI+UCFpmlrwn0thyOVaEeIjjq714DnNU37d8dyeUe9bmfdbkW4rk8ZWH09HzRNK+/4zzUIPI6ebCmHGU3T6oClwDQgVghh6filDKA4XNelhEeP58O8jrIzTdO0NuAp1GvE4eIo4BQhxF7gJfSSkftQrw8DQiXaEaCjlupfwDZN0/7e45feBBZ1/HwR8MZAX5sy8L7r+dD5pqvD6cDmgb42JTyEEElCiNiOnzuBE9Br95cCCzo+Tb1GHCa+4/nwbY+NGYFej6teIw4DmqbdrGlahqZpOcDZwKeapp2Len0YEKrrSAQQQhwNfA5soru+6hb0utyXgSxgH3Cmpmk1YblIZcB8z/NhIXrZiAbsBS7rUcOvHMKEEGPRDzOZ0TdQXtY07fdCiMHoO1jxwDrg5x27mcoh7HueD58CSYAA1gOX9zg0qRwGhBAzgRs6uo6o14cBoBJtRVEURVEURTGAKh1RFEVRFEVRFAOoRFtRFEVRFEVRDKASbUVRFEVRFEUxgEq0FUVRFEVRFMUAKtFWFEVRFEVRFAOoRFtRFOUwIoQ4TQihCSHU5EhFURSDqURbURTl8LIQWNHxo6IoimIglWgriqIcJoQQbuBo4CL0CXEIIUxCiIeEEN8KIT4SQrwrhFjQ8WuThBCfCSHWCCE+OGD6qKIoivJfqERbURTl8HEq8L6maTuAaiHEJOCnQA6QD5wHTAMQQliBB4AFmqZNAp4E/hiOi1YURYlUlnBfgKIoijJgFgL3dfz8pY7HFuAVTdOCQJkQYmnHrw8HRgMfCSFAH+ddOrCXqyiKEtlUoq0oinIYEELEA8cBY4QQGnrirAGvf9eXAFs0TZs2QJeoKIpyyFGlI4qiKIeHBcCzmqZla5qWo2laJlAA1ABndNRqpwAzOz5/O5AkhOgqJRFCjArHhSuKokQqlWgriqIcHhYSunv9GpAKFAFbgeeAtUC9pmnt6Mn5X4UQG4D1wPQBu1pFUZRDgNA0LdzXoCiKooSREMKtaVqTECIBWAUcpWlaWbivS1EUJdKpGm1FURTlbSFELGAD/qCSbEVRFDnUjraiKIqiKIqiGEDVaCuKoiiKoiiKAVSirSiKoiiKoigGUIm2oiiKoiiKohhAJdqKoiiKoiiKYgCVaCuKoiiKoiiKAVSirSiKoiiKoigG+D+IyjKIKMmW1AAAAABJRU5ErkJggg==\n",
          "text/plain": "<Figure size 864x432 with 1 Axes>"
         },
         "metadata": {
          "needs_background": "light"
         },
         "output_type": "display_data"
        }
       ]
      }
     },
     "9dac0b221f1a45209aaa04f3acf10d39": {
      "model_module": "@jupyter-widgets/controls",
      "model_module_version": "1.5.0",
      "model_name": "VBoxModel",
      "state": {
       "_dom_classes": [
        "widget-interact"
       ],
       "_model_module": "@jupyter-widgets/controls",
       "_model_module_version": "1.5.0",
       "_model_name": "VBoxModel",
       "_view_count": null,
       "_view_module": "@jupyter-widgets/controls",
       "_view_module_version": "1.5.0",
       "_view_name": "VBoxView",
       "box_style": "",
       "children": [
        "IPY_MODEL_a8c1e3a9c4214b16981ca913762654f0",
        "IPY_MODEL_8a07f03a096a4353a282ad78b9de37cc",
        "IPY_MODEL_5bbbbaa0988244ad8c4ffa60f6f4b5d9"
       ],
       "layout": "IPY_MODEL_e7e1cf513d054fb4a02c9bfb20261f78"
      }
     },
     "9e43546246d0407caa166418a37414ce": {
      "model_module": "@jupyter-widgets/base",
      "model_module_version": "1.2.0",
      "model_name": "LayoutModel",
      "state": {
       "_model_module": "@jupyter-widgets/base",
       "_model_module_version": "1.2.0",
       "_model_name": "LayoutModel",
       "_view_count": null,
       "_view_module": "@jupyter-widgets/base",
       "_view_module_version": "1.2.0",
       "_view_name": "LayoutView",
       "align_content": null,
       "align_items": null,
       "align_self": null,
       "border": null,
       "bottom": null,
       "display": null,
       "flex": null,
       "flex_flow": null,
       "grid_area": null,
       "grid_auto_columns": null,
       "grid_auto_flow": null,
       "grid_auto_rows": null,
       "grid_column": null,
       "grid_gap": null,
       "grid_row": null,
       "grid_template_areas": null,
       "grid_template_columns": null,
       "grid_template_rows": null,
       "height": null,
       "justify_content": null,
       "justify_items": null,
       "left": null,
       "margin": null,
       "max_height": null,
       "max_width": null,
       "min_height": null,
       "min_width": null,
       "object_fit": null,
       "object_position": null,
       "order": null,
       "overflow": null,
       "overflow_x": null,
       "overflow_y": null,
       "padding": null,
       "right": null,
       "top": null,
       "visibility": null,
       "width": null
      }
     },
     "a8c1e3a9c4214b16981ca913762654f0": {
      "model_module": "@jupyter-widgets/controls",
      "model_module_version": "1.5.0",
      "model_name": "DropdownModel",
      "state": {
       "_dom_classes": [],
       "_model_module": "@jupyter-widgets/controls",
       "_model_module_version": "1.5.0",
       "_model_name": "DropdownModel",
       "_options_labels": [
        "Points",
        "points_per_minutes",
        "Overall_Rating"
       ],
       "_view_count": null,
       "_view_module": "@jupyter-widgets/controls",
       "_view_module_version": "1.5.0",
       "_view_name": "DropdownView",
       "description": "y_axis",
       "description_tooltip": null,
       "disabled": false,
       "index": 0,
       "layout": "IPY_MODEL_c6b1f4baad17486d9cf987d3e17fc844",
       "style": "IPY_MODEL_1e0445aa854b4788bcf1a51896a1df96"
      }
     },
     "ac3ce87130bb412aa8775b9499773c18": {
      "model_module": "@jupyter-widgets/controls",
      "model_module_version": "1.5.0",
      "model_name": "TextModel",
      "state": {
       "_dom_classes": [],
       "_model_module": "@jupyter-widgets/controls",
       "_model_module_version": "1.5.0",
       "_model_name": "TextModel",
       "_view_count": null,
       "_view_module": "@jupyter-widgets/controls",
       "_view_module_version": "1.5.0",
       "_view_name": "TextView",
       "continuous_update": true,
       "description": "Listbyrank",
       "description_tooltip": null,
       "disabled": false,
       "layout": "IPY_MODEL_9e43546246d0407caa166418a37414ce",
       "placeholder": "​",
       "style": "IPY_MODEL_10f9976e700c4b509ba8f3abe38b6841",
       "value": "5"
      }
     },
     "ada6955464fe41238290af4d8f8432fc": {
      "model_module": "@jupyter-widgets/base",
      "model_module_version": "1.2.0",
      "model_name": "LayoutModel",
      "state": {
       "_model_module": "@jupyter-widgets/base",
       "_model_module_version": "1.2.0",
       "_model_name": "LayoutModel",
       "_view_count": null,
       "_view_module": "@jupyter-widgets/base",
       "_view_module_version": "1.2.0",
       "_view_name": "LayoutView",
       "align_content": null,
       "align_items": null,
       "align_self": null,
       "border": null,
       "bottom": null,
       "display": null,
       "flex": null,
       "flex_flow": null,
       "grid_area": null,
       "grid_auto_columns": null,
       "grid_auto_flow": null,
       "grid_auto_rows": null,
       "grid_column": null,
       "grid_gap": null,
       "grid_row": null,
       "grid_template_areas": null,
       "grid_template_columns": null,
       "grid_template_rows": null,
       "height": null,
       "justify_content": null,
       "justify_items": null,
       "left": null,
       "margin": null,
       "max_height": null,
       "max_width": null,
       "min_height": null,
       "min_width": null,
       "object_fit": null,
       "object_position": null,
       "order": null,
       "overflow": null,
       "overflow_x": null,
       "overflow_y": null,
       "padding": null,
       "right": null,
       "top": null,
       "visibility": null,
       "width": null
      }
     },
     "b10b3a8822104eae9db1201950bba2ef": {
      "model_module": "@jupyter-widgets/controls",
      "model_module_version": "1.5.0",
      "model_name": "DropdownModel",
      "state": {
       "_dom_classes": [],
       "_model_module": "@jupyter-widgets/controls",
       "_model_module_version": "1.5.0",
       "_model_name": "DropdownModel",
       "_options_labels": [
        "Minutes",
        "Points",
        "Overall Rating",
        "Played Games",
        "Wins",
        "Losses",
        "Field Goals Made",
        "Field Goals Attempted",
        "Field Goal Percentage",
        "3 Points Made",
        "3 Points Attempted",
        "3 Point Percentage",
        "Free Throws Made",
        "Free Throws Attempted",
        "Free Throw Percentage",
        "Offensive Rebounds",
        "Defensive Rebounds",
        "Total Rebounds",
        "Assists",
        "Turnovers",
        "Steals",
        "Blocks",
        "Personal Fouls",
        "Double Doubles",
        "Triple Doubles"
       ],
       "_view_count": null,
       "_view_module": "@jupyter-widgets/controls",
       "_view_module_version": "1.5.0",
       "_view_name": "DropdownView",
       "description": "yaxis",
       "description_tooltip": null,
       "disabled": false,
       "index": 0,
       "layout": "IPY_MODEL_1cead4675b1e476184d99bb5553acb07",
       "style": "IPY_MODEL_e980c90a389f44e2a6cbf95c7139e38c"
      }
     },
     "b1e151f40f1243a4b2eb43d5b2b697f6": {
      "model_module": "@jupyter-widgets/base",
      "model_module_version": "1.2.0",
      "model_name": "LayoutModel",
      "state": {
       "_model_module": "@jupyter-widgets/base",
       "_model_module_version": "1.2.0",
       "_model_name": "LayoutModel",
       "_view_count": null,
       "_view_module": "@jupyter-widgets/base",
       "_view_module_version": "1.2.0",
       "_view_name": "LayoutView",
       "align_content": null,
       "align_items": null,
       "align_self": null,
       "border": null,
       "bottom": null,
       "display": null,
       "flex": null,
       "flex_flow": null,
       "grid_area": null,
       "grid_auto_columns": null,
       "grid_auto_flow": null,
       "grid_auto_rows": null,
       "grid_column": null,
       "grid_gap": null,
       "grid_row": null,
       "grid_template_areas": null,
       "grid_template_columns": null,
       "grid_template_rows": null,
       "height": null,
       "justify_content": null,
       "justify_items": null,
       "left": null,
       "margin": null,
       "max_height": null,
       "max_width": null,
       "min_height": null,
       "min_width": null,
       "object_fit": null,
       "object_position": null,
       "order": null,
       "overflow": null,
       "overflow_x": null,
       "overflow_y": null,
       "padding": null,
       "right": null,
       "top": null,
       "visibility": null,
       "width": null
      }
     },
     "b3054c5736f04194828c99bdd98ed355": {
      "model_module": "@jupyter-widgets/base",
      "model_module_version": "1.2.0",
      "model_name": "LayoutModel",
      "state": {
       "_model_module": "@jupyter-widgets/base",
       "_model_module_version": "1.2.0",
       "_model_name": "LayoutModel",
       "_view_count": null,
       "_view_module": "@jupyter-widgets/base",
       "_view_module_version": "1.2.0",
       "_view_name": "LayoutView",
       "align_content": null,
       "align_items": null,
       "align_self": null,
       "border": null,
       "bottom": null,
       "display": null,
       "flex": null,
       "flex_flow": null,
       "grid_area": null,
       "grid_auto_columns": null,
       "grid_auto_flow": null,
       "grid_auto_rows": null,
       "grid_column": null,
       "grid_gap": null,
       "grid_row": null,
       "grid_template_areas": null,
       "grid_template_columns": null,
       "grid_template_rows": null,
       "height": null,
       "justify_content": null,
       "justify_items": null,
       "left": null,
       "margin": null,
       "max_height": null,
       "max_width": null,
       "min_height": null,
       "min_width": null,
       "object_fit": null,
       "object_position": null,
       "order": null,
       "overflow": null,
       "overflow_x": null,
       "overflow_y": null,
       "padding": null,
       "right": null,
       "top": null,
       "visibility": null,
       "width": null
      }
     },
     "bcff36eb976744a591eef63d60ed7ff2": {
      "model_module": "@jupyter-widgets/controls",
      "model_module_version": "1.5.0",
      "model_name": "DropdownModel",
      "state": {
       "_dom_classes": [],
       "_model_module": "@jupyter-widgets/controls",
       "_model_module_version": "1.5.0",
       "_model_name": "DropdownModel",
       "_options_labels": [
        "Player",
        "Team"
       ],
       "_view_count": null,
       "_view_module": "@jupyter-widgets/controls",
       "_view_module_version": "1.5.0",
       "_view_name": "DropdownView",
       "description": "Team",
       "description_tooltip": null,
       "disabled": false,
       "index": 0,
       "layout": "IPY_MODEL_064edafbb91142279c6865c316fd3367",
       "style": "IPY_MODEL_609c66aff0a24fb594c4730a42017bc5"
      }
     },
     "bdda039ee0624e879b2482b8afd0a6a5": {
      "model_module": "@jupyter-widgets/controls",
      "model_module_version": "1.5.0",
      "model_name": "VBoxModel",
      "state": {
       "_dom_classes": [
        "widget-interact"
       ],
       "_model_module": "@jupyter-widgets/controls",
       "_model_module_version": "1.5.0",
       "_model_name": "VBoxModel",
       "_view_count": null,
       "_view_module": "@jupyter-widgets/controls",
       "_view_module_version": "1.5.0",
       "_view_name": "VBoxView",
       "box_style": "",
       "children": [
        "IPY_MODEL_d42429aaedd74e5695633bb83f4e4086",
        "IPY_MODEL_ac3ce87130bb412aa8775b9499773c18",
        "IPY_MODEL_65d0c012cc7d434393778488098f4209"
       ],
       "layout": "IPY_MODEL_35979316d28842ae9e1631b0f8bd7cb8"
      }
     },
     "be19ad91d2c244848f2b3d851e085c15": {
      "model_module": "@jupyter-widgets/controls",
      "model_module_version": "1.5.0",
      "model_name": "DescriptionStyleModel",
      "state": {
       "_model_module": "@jupyter-widgets/controls",
       "_model_module_version": "1.5.0",
       "_model_name": "DescriptionStyleModel",
       "_view_count": null,
       "_view_module": "@jupyter-widgets/base",
       "_view_module_version": "1.2.0",
       "_view_name": "StyleView",
       "description_width": ""
      }
     },
     "c5e3ab69d6de48eba9e6d16a7707adc9": {
      "model_module": "@jupyter-widgets/controls",
      "model_module_version": "1.5.0",
      "model_name": "VBoxModel",
      "state": {
       "_dom_classes": [
        "widget-interact"
       ],
       "_model_module": "@jupyter-widgets/controls",
       "_model_module_version": "1.5.0",
       "_model_name": "VBoxModel",
       "_view_count": null,
       "_view_module": "@jupyter-widgets/controls",
       "_view_module_version": "1.5.0",
       "_view_name": "VBoxView",
       "box_style": "",
       "children": [
        "IPY_MODEL_8d4b2efeda2d4675b2b44328658df442",
        "IPY_MODEL_38feff60b5c448269a0cb4f9a629f24e"
       ],
       "layout": "IPY_MODEL_edbb74f25f71434b8c86a6e7a92e815f"
      }
     },
     "c6b1f4baad17486d9cf987d3e17fc844": {
      "model_module": "@jupyter-widgets/base",
      "model_module_version": "1.2.0",
      "model_name": "LayoutModel",
      "state": {
       "_model_module": "@jupyter-widgets/base",
       "_model_module_version": "1.2.0",
       "_model_name": "LayoutModel",
       "_view_count": null,
       "_view_module": "@jupyter-widgets/base",
       "_view_module_version": "1.2.0",
       "_view_name": "LayoutView",
       "align_content": null,
       "align_items": null,
       "align_self": null,
       "border": null,
       "bottom": null,
       "display": null,
       "flex": null,
       "flex_flow": null,
       "grid_area": null,
       "grid_auto_columns": null,
       "grid_auto_flow": null,
       "grid_auto_rows": null,
       "grid_column": null,
       "grid_gap": null,
       "grid_row": null,
       "grid_template_areas": null,
       "grid_template_columns": null,
       "grid_template_rows": null,
       "height": null,
       "justify_content": null,
       "justify_items": null,
       "left": null,
       "margin": null,
       "max_height": null,
       "max_width": null,
       "min_height": null,
       "min_width": null,
       "object_fit": null,
       "object_position": null,
       "order": null,
       "overflow": null,
       "overflow_x": null,
       "overflow_y": null,
       "padding": null,
       "right": null,
       "top": null,
       "visibility": null,
       "width": null
      }
     },
     "cdc0713f017c4377b7a74691f67fbf99": {
      "model_module": "@jupyter-widgets/base",
      "model_module_version": "1.2.0",
      "model_name": "LayoutModel",
      "state": {
       "_model_module": "@jupyter-widgets/base",
       "_model_module_version": "1.2.0",
       "_model_name": "LayoutModel",
       "_view_count": null,
       "_view_module": "@jupyter-widgets/base",
       "_view_module_version": "1.2.0",
       "_view_name": "LayoutView",
       "align_content": null,
       "align_items": null,
       "align_self": null,
       "border": null,
       "bottom": null,
       "display": null,
       "flex": null,
       "flex_flow": null,
       "grid_area": null,
       "grid_auto_columns": null,
       "grid_auto_flow": null,
       "grid_auto_rows": null,
       "grid_column": null,
       "grid_gap": null,
       "grid_row": null,
       "grid_template_areas": null,
       "grid_template_columns": null,
       "grid_template_rows": null,
       "height": null,
       "justify_content": null,
       "justify_items": null,
       "left": null,
       "margin": null,
       "max_height": null,
       "max_width": null,
       "min_height": null,
       "min_width": null,
       "object_fit": null,
       "object_position": null,
       "order": null,
       "overflow": null,
       "overflow_x": null,
       "overflow_y": null,
       "padding": null,
       "right": null,
       "top": null,
       "visibility": null,
       "width": null
      }
     },
     "d2230e9a1d004c28a5ac4374fa2eb8f7": {
      "model_module": "@jupyter-widgets/base",
      "model_module_version": "1.2.0",
      "model_name": "LayoutModel",
      "state": {
       "_model_module": "@jupyter-widgets/base",
       "_model_module_version": "1.2.0",
       "_model_name": "LayoutModel",
       "_view_count": null,
       "_view_module": "@jupyter-widgets/base",
       "_view_module_version": "1.2.0",
       "_view_name": "LayoutView",
       "align_content": null,
       "align_items": null,
       "align_self": null,
       "border": null,
       "bottom": null,
       "display": null,
       "flex": null,
       "flex_flow": null,
       "grid_area": null,
       "grid_auto_columns": null,
       "grid_auto_flow": null,
       "grid_auto_rows": null,
       "grid_column": null,
       "grid_gap": null,
       "grid_row": null,
       "grid_template_areas": null,
       "grid_template_columns": null,
       "grid_template_rows": null,
       "height": null,
       "justify_content": null,
       "justify_items": null,
       "left": null,
       "margin": null,
       "max_height": null,
       "max_width": null,
       "min_height": null,
       "min_width": null,
       "object_fit": null,
       "object_position": null,
       "order": null,
       "overflow": null,
       "overflow_x": null,
       "overflow_y": null,
       "padding": null,
       "right": null,
       "top": null,
       "visibility": null,
       "width": null
      }
     },
     "d42429aaedd74e5695633bb83f4e4086": {
      "model_module": "@jupyter-widgets/controls",
      "model_module_version": "1.5.0",
      "model_name": "DropdownModel",
      "state": {
       "_dom_classes": [],
       "_model_module": "@jupyter-widgets/controls",
       "_model_module_version": "1.5.0",
       "_model_name": "DropdownModel",
       "_options_labels": [
        "Points",
        "points_per_minutes"
       ],
       "_view_count": null,
       "_view_module": "@jupyter-widgets/controls",
       "_view_module_version": "1.5.0",
       "_view_name": "DropdownView",
       "description": "y_axis",
       "description_tooltip": null,
       "disabled": false,
       "index": 0,
       "layout": "IPY_MODEL_07d98a7d1b7f4108801991662ad4a452",
       "style": "IPY_MODEL_85ccd97b3aa54b5bb286aeb7c58f258f"
      }
     },
     "d6c25560570c49aeacf06fb86f4baeac": {
      "model_module": "@jupyter-widgets/controls",
      "model_module_version": "1.5.0",
      "model_name": "VBoxModel",
      "state": {
       "_dom_classes": [
        "widget-interact"
       ],
       "_model_module": "@jupyter-widgets/controls",
       "_model_module_version": "1.5.0",
       "_model_name": "VBoxModel",
       "_view_count": null,
       "_view_module": "@jupyter-widgets/controls",
       "_view_module_version": "1.5.0",
       "_view_name": "VBoxView",
       "box_style": "",
       "children": [
        "IPY_MODEL_1a06769f9f7d423b969c48717069a29b",
        "IPY_MODEL_6c3457d6d47d404b9791e7b7cf842c88",
        "IPY_MODEL_9b8d44358c144891ad0063c94328e08a"
       ],
       "layout": "IPY_MODEL_63c1cb1b49b54e79ae87843210ae04cc"
      }
     },
     "da84c9b3102e4723b26724faaccebe4f": {
      "model_module": "@jupyter-widgets/controls",
      "model_module_version": "1.5.0",
      "model_name": "VBoxModel",
      "state": {
       "_dom_classes": [
        "widget-interact"
       ],
       "_model_module": "@jupyter-widgets/controls",
       "_model_module_version": "1.5.0",
       "_model_name": "VBoxModel",
       "_view_count": null,
       "_view_module": "@jupyter-widgets/controls",
       "_view_module_version": "1.5.0",
       "_view_name": "VBoxView",
       "box_style": "",
       "children": [
        "IPY_MODEL_bcff36eb976744a591eef63d60ed7ff2",
        "IPY_MODEL_81b4f5a7852e4238ac68e010efee3bb4",
        "IPY_MODEL_7d25aa2cbca44b11846eef57c915f7f8"
       ],
       "layout": "IPY_MODEL_b3054c5736f04194828c99bdd98ed355"
      }
     },
     "e7e1cf513d054fb4a02c9bfb20261f78": {
      "model_module": "@jupyter-widgets/base",
      "model_module_version": "1.2.0",
      "model_name": "LayoutModel",
      "state": {
       "_model_module": "@jupyter-widgets/base",
       "_model_module_version": "1.2.0",
       "_model_name": "LayoutModel",
       "_view_count": null,
       "_view_module": "@jupyter-widgets/base",
       "_view_module_version": "1.2.0",
       "_view_name": "LayoutView",
       "align_content": null,
       "align_items": null,
       "align_self": null,
       "border": null,
       "bottom": null,
       "display": null,
       "flex": null,
       "flex_flow": null,
       "grid_area": null,
       "grid_auto_columns": null,
       "grid_auto_flow": null,
       "grid_auto_rows": null,
       "grid_column": null,
       "grid_gap": null,
       "grid_row": null,
       "grid_template_areas": null,
       "grid_template_columns": null,
       "grid_template_rows": null,
       "height": null,
       "justify_content": null,
       "justify_items": null,
       "left": null,
       "margin": null,
       "max_height": null,
       "max_width": null,
       "min_height": null,
       "min_width": null,
       "object_fit": null,
       "object_position": null,
       "order": null,
       "overflow": null,
       "overflow_x": null,
       "overflow_y": null,
       "padding": null,
       "right": null,
       "top": null,
       "visibility": null,
       "width": null
      }
     },
     "e980c90a389f44e2a6cbf95c7139e38c": {
      "model_module": "@jupyter-widgets/controls",
      "model_module_version": "1.5.0",
      "model_name": "DescriptionStyleModel",
      "state": {
       "_model_module": "@jupyter-widgets/controls",
       "_model_module_version": "1.5.0",
       "_model_name": "DescriptionStyleModel",
       "_view_count": null,
       "_view_module": "@jupyter-widgets/base",
       "_view_module_version": "1.2.0",
       "_view_name": "StyleView",
       "description_width": ""
      }
     },
     "eb7570857ec64eeea98b05493156d542": {
      "model_module": "@jupyter-widgets/base",
      "model_module_version": "1.2.0",
      "model_name": "LayoutModel",
      "state": {
       "_model_module": "@jupyter-widgets/base",
       "_model_module_version": "1.2.0",
       "_model_name": "LayoutModel",
       "_view_count": null,
       "_view_module": "@jupyter-widgets/base",
       "_view_module_version": "1.2.0",
       "_view_name": "LayoutView",
       "align_content": null,
       "align_items": null,
       "align_self": null,
       "border": null,
       "bottom": null,
       "display": null,
       "flex": null,
       "flex_flow": null,
       "grid_area": null,
       "grid_auto_columns": null,
       "grid_auto_flow": null,
       "grid_auto_rows": null,
       "grid_column": null,
       "grid_gap": null,
       "grid_row": null,
       "grid_template_areas": null,
       "grid_template_columns": null,
       "grid_template_rows": null,
       "height": null,
       "justify_content": null,
       "justify_items": null,
       "left": null,
       "margin": null,
       "max_height": null,
       "max_width": null,
       "min_height": null,
       "min_width": null,
       "object_fit": null,
       "object_position": null,
       "order": null,
       "overflow": null,
       "overflow_x": null,
       "overflow_y": null,
       "padding": null,
       "right": null,
       "top": null,
       "visibility": null,
       "width": null
      }
     },
     "edbb74f25f71434b8c86a6e7a92e815f": {
      "model_module": "@jupyter-widgets/base",
      "model_module_version": "1.2.0",
      "model_name": "LayoutModel",
      "state": {
       "_model_module": "@jupyter-widgets/base",
       "_model_module_version": "1.2.0",
       "_model_name": "LayoutModel",
       "_view_count": null,
       "_view_module": "@jupyter-widgets/base",
       "_view_module_version": "1.2.0",
       "_view_name": "LayoutView",
       "align_content": null,
       "align_items": null,
       "align_self": null,
       "border": null,
       "bottom": null,
       "display": null,
       "flex": null,
       "flex_flow": null,
       "grid_area": null,
       "grid_auto_columns": null,
       "grid_auto_flow": null,
       "grid_auto_rows": null,
       "grid_column": null,
       "grid_gap": null,
       "grid_row": null,
       "grid_template_areas": null,
       "grid_template_columns": null,
       "grid_template_rows": null,
       "height": null,
       "justify_content": null,
       "justify_items": null,
       "left": null,
       "margin": null,
       "max_height": null,
       "max_width": null,
       "min_height": null,
       "min_width": null,
       "object_fit": null,
       "object_position": null,
       "order": null,
       "overflow": null,
       "overflow_x": null,
       "overflow_y": null,
       "padding": null,
       "right": null,
       "top": null,
       "visibility": null,
       "width": null
      }
     },
     "f7a45d8958274ac5ad346fbb9c6f2fcc": {
      "model_module": "@jupyter-widgets/controls",
      "model_module_version": "1.5.0",
      "model_name": "DescriptionStyleModel",
      "state": {
       "_model_module": "@jupyter-widgets/controls",
       "_model_module_version": "1.5.0",
       "_model_name": "DescriptionStyleModel",
       "_view_count": null,
       "_view_module": "@jupyter-widgets/base",
       "_view_module_version": "1.2.0",
       "_view_name": "StyleView",
       "description_width": ""
      }
     },
     "fdafe104191f40ea88a4538972f57ffa": {
      "model_module": "@jupyter-widgets/base",
      "model_module_version": "1.2.0",
      "model_name": "LayoutModel",
      "state": {
       "_model_module": "@jupyter-widgets/base",
       "_model_module_version": "1.2.0",
       "_model_name": "LayoutModel",
       "_view_count": null,
       "_view_module": "@jupyter-widgets/base",
       "_view_module_version": "1.2.0",
       "_view_name": "LayoutView",
       "align_content": null,
       "align_items": null,
       "align_self": null,
       "border": null,
       "bottom": null,
       "display": null,
       "flex": null,
       "flex_flow": null,
       "grid_area": null,
       "grid_auto_columns": null,
       "grid_auto_flow": null,
       "grid_auto_rows": null,
       "grid_column": null,
       "grid_gap": null,
       "grid_row": null,
       "grid_template_areas": null,
       "grid_template_columns": null,
       "grid_template_rows": null,
       "height": null,
       "justify_content": null,
       "justify_items": null,
       "left": null,
       "margin": null,
       "max_height": null,
       "max_width": null,
       "min_height": null,
       "min_width": null,
       "object_fit": null,
       "object_position": null,
       "order": null,
       "overflow": null,
       "overflow_x": null,
       "overflow_y": null,
       "padding": null,
       "right": null,
       "top": null,
       "visibility": null,
       "width": null
      }
     }
    },
    "version_major": 2,
    "version_minor": 0
   }
  }
 },
 "nbformat": 4,
 "nbformat_minor": 5
}
